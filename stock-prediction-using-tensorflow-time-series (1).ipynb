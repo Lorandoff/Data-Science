{
 "cells": [
  {
   "cell_type": "markdown",
   "metadata": {
    "papermill": {
     "duration": 0.008527,
     "end_time": "2020-09-15T04:00:03.752689",
     "exception": false,
     "start_time": "2020-09-15T04:00:03.744162",
     "status": "completed"
    },
    "tags": []
   },
   "source": [
    "# Импорты"
   ]
  },
  {
   "cell_type": "code",
   "execution_count": 47,
   "metadata": {
    "_cell_guid": "79c7e3d0-c299-4dcb-8224-4455121ee9b0",
    "_uuid": "d629ff2d2480ee46fbb7e2d37f6b5fab8052498a",
    "execution": {
     "iopub.execute_input": "2020-09-15T04:00:03.775795Z",
     "iopub.status.busy": "2020-09-15T04:00:03.775088Z",
     "iopub.status.idle": "2020-09-15T04:00:10.693218Z",
     "shell.execute_reply": "2020-09-15T04:00:10.692388Z"
    },
    "papermill": {
     "duration": 6.932174,
     "end_time": "2020-09-15T04:00:10.693402",
     "exception": false,
     "start_time": "2020-09-15T04:00:03.761228",
     "status": "completed"
    },
    "tags": []
   },
   "outputs": [],
   "source": [
    "import numpy as np\n",
    "import tensorflow as tf\n",
    "from tensorflow import keras\n",
    "import matplotlib.pyplot as plt\n",
    "import pandas as pd\n",
    "from sklearn.preprocessing import MinMaxScaler\n",
    "import math\n",
    "from sklearn.metrics import mean_squared_error"
   ]
  },
  {
   "cell_type": "markdown",
   "metadata": {
    "papermill": {
     "duration": 0.013364,
     "end_time": "2020-09-15T04:00:10.721301",
     "exception": false,
     "start_time": "2020-09-15T04:00:10.707937",
     "status": "completed"
    },
    "tags": []
   },
   "source": [
    "# Получим тренировочную и тестовую выборку"
   ]
  },
  {
   "cell_type": "code",
   "execution_count": 48,
   "metadata": {
    "execution": {
     "iopub.execute_input": "2020-09-15T04:00:10.759887Z",
     "iopub.status.busy": "2020-09-15T04:00:10.758867Z",
     "iopub.status.idle": "2020-09-15T04:00:10.778672Z",
     "shell.execute_reply": "2020-09-15T04:00:10.779368Z"
    },
    "papermill": {
     "duration": 0.04422,
     "end_time": "2020-09-15T04:00:10.779526",
     "exception": false,
     "start_time": "2020-09-15T04:00:10.735306",
     "status": "completed"
    },
    "tags": []
   },
   "outputs": [],
   "source": [
    "data_import = pd.read_csv(\"Google_Stock_Price_Train.csv\")\n",
    "\n",
    "dataset = data_import['Open']\n",
    "\n",
    "scaler = MinMaxScaler(feature_range=(0, 1))\n",
    "dataset = scaler.fit_transform(np.array(dataset).reshape(-1, 1))\n",
    "\n",
    "TRAIN_SPLIT=0.8\n",
    "\n",
    "training_size = int(len(dataset) * TRAIN_SPLIT)\n",
    "test_size = len(dataset) - training_size\n",
    "train_dataset, test_dataset = dataset[0:training_size, :], dataset[training_size:, :]"
   ]
  },
  {
   "cell_type": "markdown",
   "metadata": {
    "papermill": {
     "duration": 0.013407,
     "end_time": "2020-09-15T04:00:10.806650",
     "exception": false,
     "start_time": "2020-09-15T04:00:10.793243",
     "status": "completed"
    },
    "tags": []
   },
   "source": [
    "# Создаем временное окно"
   ]
  },
  {
   "cell_type": "code",
   "execution_count": 49,
   "metadata": {
    "execution": {
     "iopub.execute_input": "2020-09-15T04:00:10.840508Z",
     "iopub.status.busy": "2020-09-15T04:00:10.839681Z",
     "iopub.status.idle": "2020-09-15T04:00:10.842667Z",
     "shell.execute_reply": "2020-09-15T04:00:10.843377Z"
    },
    "papermill": {
     "duration": 0.023481,
     "end_time": "2020-09-15T04:00:10.843512",
     "exception": false,
     "start_time": "2020-09-15T04:00:10.820031",
     "status": "completed"
    },
    "tags": []
   },
   "outputs": [],
   "source": [
    "def create_dataset(data, time_step=1):\n",
    "    dataX, dataY = [], []\n",
    "    for i in range(len(data) - time_step - 1):\n",
    "        a = data[i:(i + time_step), 0]  # i=0, 0,1,2,3-----99   100\n",
    "        dataX.append(a)\n",
    "        dataY.append(data[i + time_step, 0])\n",
    "    return np.array(dataX), np.array(dataY)"
   ]
  },
  {
   "cell_type": "code",
   "execution_count": 50,
   "metadata": {
    "execution": {
     "iopub.execute_input": "2020-09-15T04:00:10.878185Z",
     "iopub.status.busy": "2020-09-15T04:00:10.877395Z",
     "iopub.status.idle": "2020-09-15T04:00:10.881774Z",
     "shell.execute_reply": "2020-09-15T04:00:10.882470Z"
    },
    "papermill": {
     "duration": 0.024921,
     "end_time": "2020-09-15T04:00:10.882606",
     "exception": false,
     "start_time": "2020-09-15T04:00:10.857685",
     "status": "completed"
    },
    "tags": []
   },
   "outputs": [],
   "source": [
    "time_step = 14\n",
    "X_train, y_train = create_dataset(train_dataset, time_step)\n",
    "X_test, y_test = create_dataset(test_dataset, time_step)\n",
    "\n",
    "X_train = X_train.reshape(X_train.shape[0], X_train.shape[1], 1)\n",
    "X_test = X_test.reshape(X_test.shape[0], X_test.shape[1], 1)"
   ]
  },
  {
   "cell_type": "markdown",
   "metadata": {
    "papermill": {
     "duration": 0.015816,
     "end_time": "2020-09-15T04:00:10.912080",
     "exception": false,
     "start_time": "2020-09-15T04:00:10.896264",
     "status": "completed"
    },
    "tags": []
   },
   "source": [
    "# Инициализируем модель"
   ]
  },
  {
   "cell_type": "code",
   "execution_count": 51,
   "metadata": {
    "execution": {
     "iopub.execute_input": "2020-09-15T04:00:10.948325Z",
     "iopub.status.busy": "2020-09-15T04:00:10.947476Z",
     "iopub.status.idle": "2020-09-15T04:00:17.387159Z",
     "shell.execute_reply": "2020-09-15T04:00:17.386516Z"
    },
    "papermill": {
     "duration": 6.461263,
     "end_time": "2020-09-15T04:00:17.387263",
     "exception": false,
     "start_time": "2020-09-15T04:00:10.926000",
     "status": "completed"
    },
    "tags": []
   },
   "outputs": [
    {
     "name": "stdout",
     "output_type": "stream",
     "text": [
      "Epoch 1/50\n",
      "62/62 [==============================] - 2s 9ms/step - loss: 0.0146 - mse: 0.0146 - val_loss: 0.0011 - val_mse: 0.0011\n",
      "Epoch 2/50\n",
      "62/62 [==============================] - 0s 4ms/step - loss: 6.4202e-04 - mse: 6.4202e-04 - val_loss: 0.0011 - val_mse: 0.0011\n",
      "Epoch 3/50\n",
      "62/62 [==============================] - 0s 4ms/step - loss: 6.1624e-04 - mse: 6.1624e-04 - val_loss: 8.6866e-04 - val_mse: 8.6866e-04\n",
      "Epoch 4/50\n",
      "62/62 [==============================] - 0s 4ms/step - loss: 6.0657e-04 - mse: 6.0657e-04 - val_loss: 8.8863e-04 - val_mse: 8.8863e-04\n",
      "Epoch 5/50\n",
      "62/62 [==============================] - 0s 4ms/step - loss: 5.8448e-04 - mse: 5.8448e-04 - val_loss: 0.0011 - val_mse: 0.0011\n",
      "Epoch 6/50\n",
      "62/62 [==============================] - 0s 4ms/step - loss: 5.4799e-04 - mse: 5.4799e-04 - val_loss: 8.0670e-04 - val_mse: 8.0670e-04\n",
      "Epoch 7/50\n",
      "62/62 [==============================] - 0s 4ms/step - loss: 5.4194e-04 - mse: 5.4194e-04 - val_loss: 8.4812e-04 - val_mse: 8.4812e-04\n",
      "Epoch 8/50\n",
      "62/62 [==============================] - 0s 4ms/step - loss: 5.5872e-04 - mse: 5.5872e-04 - val_loss: 0.0011 - val_mse: 0.0011\n",
      "Epoch 9/50\n",
      "62/62 [==============================] - 0s 5ms/step - loss: 5.5435e-04 - mse: 5.5435e-04 - val_loss: 0.0010 - val_mse: 0.0010\n",
      "Epoch 10/50\n",
      "62/62 [==============================] - 0s 4ms/step - loss: 5.0018e-04 - mse: 5.0018e-04 - val_loss: 7.6580e-04 - val_mse: 7.6580e-04\n",
      "Epoch 11/50\n",
      "62/62 [==============================] - 0s 4ms/step - loss: 4.4842e-04 - mse: 4.4842e-04 - val_loss: 6.4437e-04 - val_mse: 6.4437e-04\n",
      "Epoch 12/50\n",
      "62/62 [==============================] - 0s 4ms/step - loss: 4.3812e-04 - mse: 4.3812e-04 - val_loss: 7.6763e-04 - val_mse: 7.6763e-04\n",
      "Epoch 13/50\n",
      "62/62 [==============================] - 0s 4ms/step - loss: 4.5792e-04 - mse: 4.5792e-04 - val_loss: 7.1792e-04 - val_mse: 7.1792e-04\n",
      "Epoch 14/50\n",
      "62/62 [==============================] - 0s 4ms/step - loss: 4.0753e-04 - mse: 4.0753e-04 - val_loss: 9.7587e-04 - val_mse: 9.7587e-04\n",
      "Epoch 15/50\n",
      "62/62 [==============================] - 0s 4ms/step - loss: 3.8894e-04 - mse: 3.8894e-04 - val_loss: 5.2327e-04 - val_mse: 5.2327e-04\n",
      "Epoch 16/50\n",
      "62/62 [==============================] - 0s 4ms/step - loss: 3.7976e-04 - mse: 3.7976e-04 - val_loss: 5.0190e-04 - val_mse: 5.0190e-04\n",
      "Epoch 17/50\n",
      "62/62 [==============================] - 0s 4ms/step - loss: 3.4923e-04 - mse: 3.4923e-04 - val_loss: 4.7236e-04 - val_mse: 4.7236e-04\n",
      "Epoch 18/50\n",
      "62/62 [==============================] - 0s 4ms/step - loss: 3.4836e-04 - mse: 3.4836e-04 - val_loss: 4.6214e-04 - val_mse: 4.6214e-04\n",
      "Epoch 19/50\n",
      "62/62 [==============================] - 0s 4ms/step - loss: 3.2238e-04 - mse: 3.2238e-04 - val_loss: 6.0953e-04 - val_mse: 6.0953e-04\n",
      "Epoch 20/50\n",
      "62/62 [==============================] - 0s 4ms/step - loss: 3.2593e-04 - mse: 3.2593e-04 - val_loss: 4.1664e-04 - val_mse: 4.1664e-04\n",
      "Epoch 21/50\n",
      "62/62 [==============================] - 0s 4ms/step - loss: 3.1418e-04 - mse: 3.1418e-04 - val_loss: 4.3217e-04 - val_mse: 4.3217e-04\n",
      "Epoch 22/50\n",
      "62/62 [==============================] - 0s 4ms/step - loss: 3.0182e-04 - mse: 3.0182e-04 - val_loss: 4.3234e-04 - val_mse: 4.3234e-04\n",
      "Epoch 23/50\n",
      "62/62 [==============================] - 0s 4ms/step - loss: 2.8632e-04 - mse: 2.8632e-04 - val_loss: 7.7341e-04 - val_mse: 7.7341e-04\n",
      "Epoch 24/50\n",
      "62/62 [==============================] - 0s 4ms/step - loss: 2.9993e-04 - mse: 2.9993e-04 - val_loss: 4.5380e-04 - val_mse: 4.5380e-04\n",
      "Epoch 25/50\n",
      "62/62 [==============================] - 0s 4ms/step - loss: 3.0644e-04 - mse: 3.0644e-04 - val_loss: 7.3486e-04 - val_mse: 7.3486e-04\n",
      "Epoch 26/50\n",
      "62/62 [==============================] - 0s 4ms/step - loss: 3.3421e-04 - mse: 3.3421e-04 - val_loss: 5.2071e-04 - val_mse: 5.2071e-04\n",
      "Epoch 27/50\n",
      "62/62 [==============================] - 0s 4ms/step - loss: 2.8634e-04 - mse: 2.8634e-04 - val_loss: 3.7745e-04 - val_mse: 3.7745e-04\n",
      "Epoch 28/50\n",
      "62/62 [==============================] - 0s 4ms/step - loss: 2.8936e-04 - mse: 2.8936e-04 - val_loss: 3.5937e-04 - val_mse: 3.5937e-04\n",
      "Epoch 29/50\n",
      "62/62 [==============================] - 0s 4ms/step - loss: 2.7078e-04 - mse: 2.7078e-04 - val_loss: 3.9812e-04 - val_mse: 3.9812e-04\n",
      "Epoch 30/50\n",
      "62/62 [==============================] - 0s 4ms/step - loss: 2.9057e-04 - mse: 2.9057e-04 - val_loss: 4.2014e-04 - val_mse: 4.2014e-04\n",
      "Epoch 31/50\n",
      "62/62 [==============================] - 0s 4ms/step - loss: 2.8370e-04 - mse: 2.8370e-04 - val_loss: 3.5110e-04 - val_mse: 3.5110e-04\n",
      "Epoch 32/50\n",
      "62/62 [==============================] - 0s 4ms/step - loss: 2.6819e-04 - mse: 2.6819e-04 - val_loss: 5.0828e-04 - val_mse: 5.0828e-04\n",
      "Epoch 33/50\n",
      "62/62 [==============================] - 0s 4ms/step - loss: 3.0661e-04 - mse: 3.0661e-04 - val_loss: 5.4226e-04 - val_mse: 5.4226e-04\n",
      "Epoch 34/50\n",
      "62/62 [==============================] - 0s 4ms/step - loss: 2.7749e-04 - mse: 2.7749e-04 - val_loss: 3.4270e-04 - val_mse: 3.4270e-04\n",
      "Epoch 35/50\n",
      "62/62 [==============================] - 0s 4ms/step - loss: 2.8072e-04 - mse: 2.8072e-04 - val_loss: 3.4948e-04 - val_mse: 3.4948e-04\n",
      "Epoch 36/50\n",
      "62/62 [==============================] - 0s 4ms/step - loss: 2.4959e-04 - mse: 2.4959e-04 - val_loss: 6.6914e-04 - val_mse: 6.6914e-04\n",
      "Epoch 37/50\n",
      "62/62 [==============================] - 0s 4ms/step - loss: 3.1692e-04 - mse: 3.1692e-04 - val_loss: 3.4719e-04 - val_mse: 3.4719e-04\n",
      "Epoch 38/50\n",
      "62/62 [==============================] - 0s 4ms/step - loss: 2.6093e-04 - mse: 2.6093e-04 - val_loss: 8.1792e-04 - val_mse: 8.1792e-04\n",
      "Epoch 39/50\n",
      "62/62 [==============================] - 0s 4ms/step - loss: 3.0160e-04 - mse: 3.0160e-04 - val_loss: 3.5807e-04 - val_mse: 3.5807e-04\n",
      "Epoch 40/50\n",
      "62/62 [==============================] - 0s 4ms/step - loss: 2.9693e-04 - mse: 2.9693e-04 - val_loss: 7.8870e-04 - val_mse: 7.8870e-04\n",
      "Epoch 41/50\n",
      "62/62 [==============================] - 0s 4ms/step - loss: 3.1164e-04 - mse: 3.1164e-04 - val_loss: 4.1775e-04 - val_mse: 4.1775e-04\n",
      "Epoch 42/50\n",
      "62/62 [==============================] - 0s 4ms/step - loss: 2.6992e-04 - mse: 2.6992e-04 - val_loss: 3.2961e-04 - val_mse: 3.2961e-04\n",
      "Epoch 43/50\n",
      "62/62 [==============================] - 0s 4ms/step - loss: 2.5586e-04 - mse: 2.5586e-04 - val_loss: 4.7425e-04 - val_mse: 4.7425e-04\n",
      "Epoch 44/50\n",
      "62/62 [==============================] - 0s 4ms/step - loss: 2.5385e-04 - mse: 2.5385e-04 - val_loss: 5.9589e-04 - val_mse: 5.9589e-04\n",
      "Epoch 45/50\n",
      "62/62 [==============================] - 0s 4ms/step - loss: 2.6041e-04 - mse: 2.6041e-04 - val_loss: 3.8550e-04 - val_mse: 3.8550e-04\n",
      "Epoch 46/50\n",
      "62/62 [==============================] - 0s 4ms/step - loss: 2.5812e-04 - mse: 2.5812e-04 - val_loss: 4.5171e-04 - val_mse: 4.5171e-04\n",
      "Epoch 47/50\n",
      "62/62 [==============================] - 0s 4ms/step - loss: 2.8157e-04 - mse: 2.8157e-04 - val_loss: 6.3550e-04 - val_mse: 6.3550e-04\n",
      "Epoch 48/50\n",
      "62/62 [==============================] - 0s 4ms/step - loss: 2.6292e-04 - mse: 2.6292e-04 - val_loss: 3.5846e-04 - val_mse: 3.5846e-04\n",
      "Epoch 49/50\n",
      "62/62 [==============================] - 0s 4ms/step - loss: 2.5964e-04 - mse: 2.5964e-04 - val_loss: 4.3303e-04 - val_mse: 4.3303e-04\n",
      "Epoch 50/50\n",
      "62/62 [==============================] - 0s 4ms/step - loss: 2.4593e-04 - mse: 2.4593e-04 - val_loss: 5.5459e-04 - val_mse: 5.5459e-04\n"
     ]
    },
    {
     "data": {
      "text/plain": [
       "<keras.callbacks.History at 0x1f57dcef310>"
      ]
     },
     "execution_count": 51,
     "metadata": {},
     "output_type": "execute_result"
    }
   ],
   "source": [
    "model = keras.models.Sequential([\n",
    "    keras.layers.Conv1D(filters=164, kernel_size=3, strides=1, padding='causal', activation='relu',\n",
    "                        input_shape=(time_step, 1)),\n",
    "    #keras.layers.Dropout(0.5), \n",
    "    keras.layers.LSTM(50),\n",
    "    #keras.layers.Dropout(0.3),\n",
    "    keras.layers.Flatten(),\n",
    "    #keras.layers.GlobalMaxPooling\n",
    "    keras.layers.Dense(1)\n",
    "])\n",
    "\n",
    "\n",
    "model.compile(loss='mean_squared_error', optimizer= tf.keras.optimizers.Adam(learning_rate = 0.001, amsgrad = True), metrics=['mse'])\n",
    "\n",
    "model.fit(X_train, y_train, validation_data=(X_test, y_test), epochs=50, batch_size=16, verbose=1)"
   ]
  },
  {
   "cell_type": "markdown",
   "metadata": {
    "papermill": {
     "duration": 0.060888,
     "end_time": "2020-09-15T04:00:17.510639",
     "exception": false,
     "start_time": "2020-09-15T04:00:17.449751",
     "status": "completed"
    },
    "tags": []
   },
   "source": [
    "# Получаем предсказания"
   ]
  },
  {
   "cell_type": "code",
   "execution_count": 52,
   "metadata": {
    "execution": {
     "iopub.execute_input": "2020-09-15T04:00:17.640567Z",
     "iopub.status.busy": "2020-09-15T04:00:17.639710Z",
     "iopub.status.idle": "2020-09-15T04:00:17.811447Z",
     "shell.execute_reply": "2020-09-15T04:00:17.810749Z"
    },
    "papermill": {
     "duration": 0.239678,
     "end_time": "2020-09-15T04:00:17.811554",
     "exception": false,
     "start_time": "2020-09-15T04:00:17.571876",
     "status": "completed"
    },
    "tags": []
   },
   "outputs": [
    {
     "name": "stdout",
     "output_type": "stream",
     "text": [
      "8.927363883598861\n",
      "12.659393092673099\n"
     ]
    }
   ],
   "source": [
    "train_predict = model.predict(X_train)\n",
    "test_predict = model.predict(X_test)\n",
    "\n",
    "train_predict = scaler.inverse_transform(train_predict)\n",
    "test_predict = scaler.inverse_transform(test_predict)\n",
    "\n",
    "print(math.sqrt(mean_squared_error(scaler.inverse_transform(y_train.reshape(-1, 1)), train_predict)))\n",
    "\n",
    "print(math.sqrt(mean_squared_error(scaler.inverse_transform(y_test.reshape(-1, 1)), test_predict)))"
   ]
  },
  {
   "cell_type": "code",
   "execution_count": 53,
   "metadata": {
    "execution": {
     "iopub.execute_input": "2020-09-15T04:00:17.942389Z",
     "iopub.status.busy": "2020-09-15T04:00:17.941688Z",
     "iopub.status.idle": "2020-09-15T04:00:18.143427Z",
     "shell.execute_reply": "2020-09-15T04:00:18.142549Z"
    },
    "papermill": {
     "duration": 0.268919,
     "end_time": "2020-09-15T04:00:18.143554",
     "exception": false,
     "start_time": "2020-09-15T04:00:17.874635",
     "status": "completed"
    },
    "tags": []
   },
   "outputs": [
    {
     "data": {
      "image/png": "[encoded data removed]",
      "text/plain": [
       "<Figure size 640x480 with 1 Axes>"
      ]
     },
     "metadata": {},
     "output_type": "display_data"
    }
   ],
   "source": [
    "plt.plot(scaler.inverse_transform(dataset))\n",
    "plt.plot(range(time_step, len(train_predict) + time_step), train_predict, c='b')\n",
    "plt.plot(range(len(train_predict) + 2*time_step, len(train_predict) + len(test_predict) + 2*time_step), test_predict, c='k')\n",
    "plt.show()"
   ]
  },
  {
   "cell_type": "code",
   "execution_count": null,
   "metadata": {},
   "outputs": [],
   "source": []
  }
 ],
 "metadata": {
  "kernelspec": {
   "display_name": "Python 3",
   "language": "python",
   "name": "python3"
  },
  "language_info": {
   "codemirror_mode": {
    "name": "ipython",
    "version": 3
   },
   "file_extension": ".py",
   "mimetype": "text/x-python",
   "name": "python",
   "nbconvert_exporter": "python",
   "pygments_lexer": "ipython3",
   "version": "3.8.11"
  },
  "papermill": {
   "duration": 19.303736,
   "end_time": "2020-09-15T04:00:18.345060",
   "environment_variables": {},
   "exception": null,
   "input_path": "__notebook__.ipynb",
   "output_path": "__notebook__.ipynb",
   "parameters": {},
   "start_time": "2020-09-15T03:59:59.041324",
   "version": "2.1.0"
  }
 },
 "nbformat": 4,
 "nbformat_minor": 4
}
