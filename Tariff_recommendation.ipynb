{
  "cells": [
    {
      "cell_type": "markdown",
      "metadata": {
        "id": "view-in-github",
        "colab_type": "text"
      },
      "source": [
        "<a href=\"https://colab.research.google.com/github/Lorandoff/Data-Science/blob/2/Tariff_recommendation.ipynb\" target=\"_parent\"><img src=\"https://colab.research.google.com/assets/colab-badge.svg\" alt=\"Open In Colab\"/></a>"
      ]
    },
    {
      "cell_type": "markdown",
      "metadata": {
        "id": "P9YDz-sLm7MK"
      },
      "source": [
        "# Tariff recommendation"
      ]
    },
    {
      "cell_type": "markdown",
      "metadata": {
        "id": "5vblLkkCm7MN"
      },
      "source": [
        "At your disposal is data on the behavior of customers who have already switched to these tariffs. You need to build a model for the classification problem that will select the appropriate rate."
      ]
    },
    {
      "cell_type": "markdown",
      "metadata": {
        "id": "bqiv7Gr0m7MO"
      },
      "source": [
        "## Open and examine the file"
      ]
    },
    {
      "cell_type": "code",
      "execution_count": null,
      "metadata": {
        "scrolled": false,
        "id": "Xh_bKgENm7MO",
        "outputId": "98f013ce-9aec-4e9d-9a01-a35fdb9e8d7e",
        "colab": {
          "base_uri": "https://localhost:8080/",
          "height": 1000
        }
      },
      "outputs": [
        {
          "output_type": "stream",
          "name": "stdout",
          "text": [
            "0 244\n",
            "0 1632\n",
            "0 224\n",
            "0 49746\n"
          ]
        },
        {
          "output_type": "display_data",
          "data": {
            "text/plain": [
              "      minutes  messages  mb_used  is_ultra\n",
              "0         312        83    19915         0\n",
              "1         517        56    22697         0\n",
              "2         468        86    21060         0\n",
              "3         746        81     8437         1\n",
              "4         419         1    14503         0\n",
              "...       ...       ...      ...       ...\n",
              "3209      911        20    35125         1\n",
              "3210      190         0     3276         0\n",
              "3211      634        70    13974         0\n",
              "3212      462        90    31240         0\n",
              "3213      566         6    29481         1\n",
              "\n",
              "[3214 rows x 4 columns]"
            ],
            "text/html": [
              "\n",
              "  <div id=\"df-b3599386-19c8-4d8e-8931-7c9cd3834075\">\n",
              "    <div class=\"colab-df-container\">\n",
              "      <div>\n",
              "<style scoped>\n",
              "    .dataframe tbody tr th:only-of-type {\n",
              "        vertical-align: middle;\n",
              "    }\n",
              "\n",
              "    .dataframe tbody tr th {\n",
              "        vertical-align: top;\n",
              "    }\n",
              "\n",
              "    .dataframe thead th {\n",
              "        text-align: right;\n",
              "    }\n",
              "</style>\n",
              "<table border=\"1\" class=\"dataframe\">\n",
              "  <thead>\n",
              "    <tr style=\"text-align: right;\">\n",
              "      <th></th>\n",
              "      <th>minutes</th>\n",
              "      <th>messages</th>\n",
              "      <th>mb_used</th>\n",
              "      <th>is_ultra</th>\n",
              "    </tr>\n",
              "  </thead>\n",
              "  <tbody>\n",
              "    <tr>\n",
              "      <th>0</th>\n",
              "      <td>312</td>\n",
              "      <td>83</td>\n",
              "      <td>19915</td>\n",
              "      <td>0</td>\n",
              "    </tr>\n",
              "    <tr>\n",
              "      <th>1</th>\n",
              "      <td>517</td>\n",
              "      <td>56</td>\n",
              "      <td>22697</td>\n",
              "      <td>0</td>\n",
              "    </tr>\n",
              "    <tr>\n",
              "      <th>2</th>\n",
              "      <td>468</td>\n",
              "      <td>86</td>\n",
              "      <td>21060</td>\n",
              "      <td>0</td>\n",
              "    </tr>\n",
              "    <tr>\n",
              "      <th>3</th>\n",
              "      <td>746</td>\n",
              "      <td>81</td>\n",
              "      <td>8437</td>\n",
              "      <td>1</td>\n",
              "    </tr>\n",
              "    <tr>\n",
              "      <th>4</th>\n",
              "      <td>419</td>\n",
              "      <td>1</td>\n",
              "      <td>14503</td>\n",
              "      <td>0</td>\n",
              "    </tr>\n",
              "    <tr>\n",
              "      <th>...</th>\n",
              "      <td>...</td>\n",
              "      <td>...</td>\n",
              "      <td>...</td>\n",
              "      <td>...</td>\n",
              "    </tr>\n",
              "    <tr>\n",
              "      <th>3209</th>\n",
              "      <td>911</td>\n",
              "      <td>20</td>\n",
              "      <td>35125</td>\n",
              "      <td>1</td>\n",
              "    </tr>\n",
              "    <tr>\n",
              "      <th>3210</th>\n",
              "      <td>190</td>\n",
              "      <td>0</td>\n",
              "      <td>3276</td>\n",
              "      <td>0</td>\n",
              "    </tr>\n",
              "    <tr>\n",
              "      <th>3211</th>\n",
              "      <td>634</td>\n",
              "      <td>70</td>\n",
              "      <td>13974</td>\n",
              "      <td>0</td>\n",
              "    </tr>\n",
              "    <tr>\n",
              "      <th>3212</th>\n",
              "      <td>462</td>\n",
              "      <td>90</td>\n",
              "      <td>31240</td>\n",
              "      <td>0</td>\n",
              "    </tr>\n",
              "    <tr>\n",
              "      <th>3213</th>\n",
              "      <td>566</td>\n",
              "      <td>6</td>\n",
              "      <td>29481</td>\n",
              "      <td>1</td>\n",
              "    </tr>\n",
              "  </tbody>\n",
              "</table>\n",
              "<p>3214 rows × 4 columns</p>\n",
              "</div>\n",
              "      <button class=\"colab-df-convert\" onclick=\"convertToInteractive('df-b3599386-19c8-4d8e-8931-7c9cd3834075')\"\n",
              "              title=\"Convert this dataframe to an interactive table.\"\n",
              "              style=\"display:none;\">\n",
              "        \n",
              "  <svg xmlns=\"http://www.w3.org/2000/svg\" height=\"24px\"viewBox=\"0 0 24 24\"\n",
              "       width=\"24px\">\n",
              "    <path d=\"M0 0h24v24H0V0z\" fill=\"none\"/>\n",
              "    <path d=\"M18.56 5.44l.94 2.06.94-2.06 2.06-.94-2.06-.94-.94-2.06-.94 2.06-2.06.94zm-11 1L8.5 8.5l.94-2.06 2.06-.94-2.06-.94L8.5 2.5l-.94 2.06-2.06.94zm10 10l.94 2.06.94-2.06 2.06-.94-2.06-.94-.94-2.06-.94 2.06-2.06.94z\"/><path d=\"M17.41 7.96l-1.37-1.37c-.4-.4-.92-.59-1.43-.59-.52 0-1.04.2-1.43.59L10.3 9.45l-7.72 7.72c-.78.78-.78 2.05 0 2.83L4 21.41c.39.39.9.59 1.41.59.51 0 1.02-.2 1.41-.59l7.78-7.78 2.81-2.81c.8-.78.8-2.07 0-2.86zM5.41 20L4 18.59l7.72-7.72 1.47 1.35L5.41 20z\"/>\n",
              "  </svg>\n",
              "      </button>\n",
              "      \n",
              "  <style>\n",
              "    .colab-df-container {\n",
              "      display:flex;\n",
              "      flex-wrap:wrap;\n",
              "      gap: 12px;\n",
              "    }\n",
              "\n",
              "    .colab-df-convert {\n",
              "      background-color: #E8F0FE;\n",
              "      border: none;\n",
              "      border-radius: 50%;\n",
              "      cursor: pointer;\n",
              "      display: none;\n",
              "      fill: #1967D2;\n",
              "      height: 32px;\n",
              "      padding: 0 0 0 0;\n",
              "      width: 32px;\n",
              "    }\n",
              "\n",
              "    .colab-df-convert:hover {\n",
              "      background-color: #E2EBFA;\n",
              "      box-shadow: 0px 1px 2px rgba(60, 64, 67, 0.3), 0px 1px 3px 1px rgba(60, 64, 67, 0.15);\n",
              "      fill: #174EA6;\n",
              "    }\n",
              "\n",
              "    [theme=dark] .colab-df-convert {\n",
              "      background-color: #3B4455;\n",
              "      fill: #D2E3FC;\n",
              "    }\n",
              "\n",
              "    [theme=dark] .colab-df-convert:hover {\n",
              "      background-color: #434B5C;\n",
              "      box-shadow: 0px 1px 3px 1px rgba(0, 0, 0, 0.15);\n",
              "      filter: drop-shadow(0px 1px 2px rgba(0, 0, 0, 0.3));\n",
              "      fill: #FFFFFF;\n",
              "    }\n",
              "  </style>\n",
              "\n",
              "      <script>\n",
              "        const buttonEl =\n",
              "          document.querySelector('#df-b3599386-19c8-4d8e-8931-7c9cd3834075 button.colab-df-convert');\n",
              "        buttonEl.style.display =\n",
              "          google.colab.kernel.accessAllowed ? 'block' : 'none';\n",
              "\n",
              "        async function convertToInteractive(key) {\n",
              "          const element = document.querySelector('#df-b3599386-19c8-4d8e-8931-7c9cd3834075');\n",
              "          const dataTable =\n",
              "            await google.colab.kernel.invokeFunction('convertToInteractive',\n",
              "                                                     [key], {});\n",
              "          if (!dataTable) return;\n",
              "\n",
              "          const docLinkHtml = 'Like what you see? Visit the ' +\n",
              "            '<a target=\"_blank\" href=https://colab.research.google.com/notebooks/data_table.ipynb>data table notebook</a>'\n",
              "            + ' to learn more about interactive tables.';\n",
              "          element.innerHTML = '';\n",
              "          dataTable['output_type'] = 'display_data';\n",
              "          await google.colab.output.renderOutput(dataTable, element);\n",
              "          const docLink = document.createElement('div');\n",
              "          docLink.innerHTML = docLinkHtml;\n",
              "          element.appendChild(docLink);\n",
              "        }\n",
              "      </script>\n",
              "    </div>\n",
              "  </div>\n",
              "  "
            ]
          },
          "metadata": {}
        },
        {
          "output_type": "display_data",
          "data": {
            "text/plain": [
              "      minutes  messages  mb_used  is_ultra\n",
              "0         312        83    19915         0\n",
              "1         517        56    22697         0\n",
              "2         468        86    21060         0\n",
              "3         746        81     8437         1\n",
              "4         419         1    14503         0\n",
              "...       ...       ...      ...       ...\n",
              "3209      911        20    35125         1\n",
              "3210      190         0     3276         0\n",
              "3211      634        70    13974         0\n",
              "3212      462        90    31240         0\n",
              "3213      566         6    29481         1\n",
              "\n",
              "[3214 rows x 4 columns]"
            ],
            "text/html": [
              "\n",
              "  <div id=\"df-fa82d976-74fe-42e6-8485-e5628eb2830c\">\n",
              "    <div class=\"colab-df-container\">\n",
              "      <div>\n",
              "<style scoped>\n",
              "    .dataframe tbody tr th:only-of-type {\n",
              "        vertical-align: middle;\n",
              "    }\n",
              "\n",
              "    .dataframe tbody tr th {\n",
              "        vertical-align: top;\n",
              "    }\n",
              "\n",
              "    .dataframe thead th {\n",
              "        text-align: right;\n",
              "    }\n",
              "</style>\n",
              "<table border=\"1\" class=\"dataframe\">\n",
              "  <thead>\n",
              "    <tr style=\"text-align: right;\">\n",
              "      <th></th>\n",
              "      <th>minutes</th>\n",
              "      <th>messages</th>\n",
              "      <th>mb_used</th>\n",
              "      <th>is_ultra</th>\n",
              "    </tr>\n",
              "  </thead>\n",
              "  <tbody>\n",
              "    <tr>\n",
              "      <th>0</th>\n",
              "      <td>312</td>\n",
              "      <td>83</td>\n",
              "      <td>19915</td>\n",
              "      <td>0</td>\n",
              "    </tr>\n",
              "    <tr>\n",
              "      <th>1</th>\n",
              "      <td>517</td>\n",
              "      <td>56</td>\n",
              "      <td>22697</td>\n",
              "      <td>0</td>\n",
              "    </tr>\n",
              "    <tr>\n",
              "      <th>2</th>\n",
              "      <td>468</td>\n",
              "      <td>86</td>\n",
              "      <td>21060</td>\n",
              "      <td>0</td>\n",
              "    </tr>\n",
              "    <tr>\n",
              "      <th>3</th>\n",
              "      <td>746</td>\n",
              "      <td>81</td>\n",
              "      <td>8437</td>\n",
              "      <td>1</td>\n",
              "    </tr>\n",
              "    <tr>\n",
              "      <th>4</th>\n",
              "      <td>419</td>\n",
              "      <td>1</td>\n",
              "      <td>14503</td>\n",
              "      <td>0</td>\n",
              "    </tr>\n",
              "    <tr>\n",
              "      <th>...</th>\n",
              "      <td>...</td>\n",
              "      <td>...</td>\n",
              "      <td>...</td>\n",
              "      <td>...</td>\n",
              "    </tr>\n",
              "    <tr>\n",
              "      <th>3209</th>\n",
              "      <td>911</td>\n",
              "      <td>20</td>\n",
              "      <td>35125</td>\n",
              "      <td>1</td>\n",
              "    </tr>\n",
              "    <tr>\n",
              "      <th>3210</th>\n",
              "      <td>190</td>\n",
              "      <td>0</td>\n",
              "      <td>3276</td>\n",
              "      <td>0</td>\n",
              "    </tr>\n",
              "    <tr>\n",
              "      <th>3211</th>\n",
              "      <td>634</td>\n",
              "      <td>70</td>\n",
              "      <td>13974</td>\n",
              "      <td>0</td>\n",
              "    </tr>\n",
              "    <tr>\n",
              "      <th>3212</th>\n",
              "      <td>462</td>\n",
              "      <td>90</td>\n",
              "      <td>31240</td>\n",
              "      <td>0</td>\n",
              "    </tr>\n",
              "    <tr>\n",
              "      <th>3213</th>\n",
              "      <td>566</td>\n",
              "      <td>6</td>\n",
              "      <td>29481</td>\n",
              "      <td>1</td>\n",
              "    </tr>\n",
              "  </tbody>\n",
              "</table>\n",
              "<p>3214 rows × 4 columns</p>\n",
              "</div>\n",
              "      <button class=\"colab-df-convert\" onclick=\"convertToInteractive('df-fa82d976-74fe-42e6-8485-e5628eb2830c')\"\n",
              "              title=\"Convert this dataframe to an interactive table.\"\n",
              "              style=\"display:none;\">\n",
              "        \n",
              "  <svg xmlns=\"http://www.w3.org/2000/svg\" height=\"24px\"viewBox=\"0 0 24 24\"\n",
              "       width=\"24px\">\n",
              "    <path d=\"M0 0h24v24H0V0z\" fill=\"none\"/>\n",
              "    <path d=\"M18.56 5.44l.94 2.06.94-2.06 2.06-.94-2.06-.94-.94-2.06-.94 2.06-2.06.94zm-11 1L8.5 8.5l.94-2.06 2.06-.94-2.06-.94L8.5 2.5l-.94 2.06-2.06.94zm10 10l.94 2.06.94-2.06 2.06-.94-2.06-.94-.94-2.06-.94 2.06-2.06.94z\"/><path d=\"M17.41 7.96l-1.37-1.37c-.4-.4-.92-.59-1.43-.59-.52 0-1.04.2-1.43.59L10.3 9.45l-7.72 7.72c-.78.78-.78 2.05 0 2.83L4 21.41c.39.39.9.59 1.41.59.51 0 1.02-.2 1.41-.59l7.78-7.78 2.81-2.81c.8-.78.8-2.07 0-2.86zM5.41 20L4 18.59l7.72-7.72 1.47 1.35L5.41 20z\"/>\n",
              "  </svg>\n",
              "      </button>\n",
              "      \n",
              "  <style>\n",
              "    .colab-df-container {\n",
              "      display:flex;\n",
              "      flex-wrap:wrap;\n",
              "      gap: 12px;\n",
              "    }\n",
              "\n",
              "    .colab-df-convert {\n",
              "      background-color: #E8F0FE;\n",
              "      border: none;\n",
              "      border-radius: 50%;\n",
              "      cursor: pointer;\n",
              "      display: none;\n",
              "      fill: #1967D2;\n",
              "      height: 32px;\n",
              "      padding: 0 0 0 0;\n",
              "      width: 32px;\n",
              "    }\n",
              "\n",
              "    .colab-df-convert:hover {\n",
              "      background-color: #E2EBFA;\n",
              "      box-shadow: 0px 1px 2px rgba(60, 64, 67, 0.3), 0px 1px 3px 1px rgba(60, 64, 67, 0.15);\n",
              "      fill: #174EA6;\n",
              "    }\n",
              "\n",
              "    [theme=dark] .colab-df-convert {\n",
              "      background-color: #3B4455;\n",
              "      fill: #D2E3FC;\n",
              "    }\n",
              "\n",
              "    [theme=dark] .colab-df-convert:hover {\n",
              "      background-color: #434B5C;\n",
              "      box-shadow: 0px 1px 3px 1px rgba(0, 0, 0, 0.15);\n",
              "      filter: drop-shadow(0px 1px 2px rgba(0, 0, 0, 0.3));\n",
              "      fill: #FFFFFF;\n",
              "    }\n",
              "  </style>\n",
              "\n",
              "      <script>\n",
              "        const buttonEl =\n",
              "          document.querySelector('#df-fa82d976-74fe-42e6-8485-e5628eb2830c button.colab-df-convert');\n",
              "        buttonEl.style.display =\n",
              "          google.colab.kernel.accessAllowed ? 'block' : 'none';\n",
              "\n",
              "        async function convertToInteractive(key) {\n",
              "          const element = document.querySelector('#df-fa82d976-74fe-42e6-8485-e5628eb2830c');\n",
              "          const dataTable =\n",
              "            await google.colab.kernel.invokeFunction('convertToInteractive',\n",
              "                                                     [key], {});\n",
              "          if (!dataTable) return;\n",
              "\n",
              "          const docLinkHtml = 'Like what you see? Visit the ' +\n",
              "            '<a target=\"_blank\" href=https://colab.research.google.com/notebooks/data_table.ipynb>data table notebook</a>'\n",
              "            + ' to learn more about interactive tables.';\n",
              "          element.innerHTML = '';\n",
              "          dataTable['output_type'] = 'display_data';\n",
              "          await google.colab.output.renderOutput(dataTable, element);\n",
              "          const docLink = document.createElement('div');\n",
              "          docLink.innerHTML = docLinkHtml;\n",
              "          element.appendChild(docLink);\n",
              "        }\n",
              "      </script>\n",
              "    </div>\n",
              "  </div>\n",
              "  "
            ]
          },
          "metadata": {}
        },
        {
          "output_type": "display_data",
          "data": {
            "text/plain": [
              "      minutes  messages  mb_used  is_ultra\n",
              "0         312        83    19915         0\n",
              "1         517        56    22697         0\n",
              "2         468        86    21060         0\n",
              "3         746        81     8437         1\n",
              "4         419         1    14503         0\n",
              "...       ...       ...      ...       ...\n",
              "3209      911        20    35125         1\n",
              "3210      190         0     3276         0\n",
              "3211      634        70    13974         0\n",
              "3212      462        90    31240         0\n",
              "3213      566         6    29481         1\n",
              "\n",
              "[3214 rows x 4 columns]"
            ],
            "text/html": [
              "\n",
              "  <div id=\"df-8a3d79dc-bd76-42c9-bd85-abd1de449575\">\n",
              "    <div class=\"colab-df-container\">\n",
              "      <div>\n",
              "<style scoped>\n",
              "    .dataframe tbody tr th:only-of-type {\n",
              "        vertical-align: middle;\n",
              "    }\n",
              "\n",
              "    .dataframe tbody tr th {\n",
              "        vertical-align: top;\n",
              "    }\n",
              "\n",
              "    .dataframe thead th {\n",
              "        text-align: right;\n",
              "    }\n",
              "</style>\n",
              "<table border=\"1\" class=\"dataframe\">\n",
              "  <thead>\n",
              "    <tr style=\"text-align: right;\">\n",
              "      <th></th>\n",
              "      <th>minutes</th>\n",
              "      <th>messages</th>\n",
              "      <th>mb_used</th>\n",
              "      <th>is_ultra</th>\n",
              "    </tr>\n",
              "  </thead>\n",
              "  <tbody>\n",
              "    <tr>\n",
              "      <th>0</th>\n",
              "      <td>312</td>\n",
              "      <td>83</td>\n",
              "      <td>19915</td>\n",
              "      <td>0</td>\n",
              "    </tr>\n",
              "    <tr>\n",
              "      <th>1</th>\n",
              "      <td>517</td>\n",
              "      <td>56</td>\n",
              "      <td>22697</td>\n",
              "      <td>0</td>\n",
              "    </tr>\n",
              "    <tr>\n",
              "      <th>2</th>\n",
              "      <td>468</td>\n",
              "      <td>86</td>\n",
              "      <td>21060</td>\n",
              "      <td>0</td>\n",
              "    </tr>\n",
              "    <tr>\n",
              "      <th>3</th>\n",
              "      <td>746</td>\n",
              "      <td>81</td>\n",
              "      <td>8437</td>\n",
              "      <td>1</td>\n",
              "    </tr>\n",
              "    <tr>\n",
              "      <th>4</th>\n",
              "      <td>419</td>\n",
              "      <td>1</td>\n",
              "      <td>14503</td>\n",
              "      <td>0</td>\n",
              "    </tr>\n",
              "    <tr>\n",
              "      <th>...</th>\n",
              "      <td>...</td>\n",
              "      <td>...</td>\n",
              "      <td>...</td>\n",
              "      <td>...</td>\n",
              "    </tr>\n",
              "    <tr>\n",
              "      <th>3209</th>\n",
              "      <td>911</td>\n",
              "      <td>20</td>\n",
              "      <td>35125</td>\n",
              "      <td>1</td>\n",
              "    </tr>\n",
              "    <tr>\n",
              "      <th>3210</th>\n",
              "      <td>190</td>\n",
              "      <td>0</td>\n",
              "      <td>3276</td>\n",
              "      <td>0</td>\n",
              "    </tr>\n",
              "    <tr>\n",
              "      <th>3211</th>\n",
              "      <td>634</td>\n",
              "      <td>70</td>\n",
              "      <td>13974</td>\n",
              "      <td>0</td>\n",
              "    </tr>\n",
              "    <tr>\n",
              "      <th>3212</th>\n",
              "      <td>462</td>\n",
              "      <td>90</td>\n",
              "      <td>31240</td>\n",
              "      <td>0</td>\n",
              "    </tr>\n",
              "    <tr>\n",
              "      <th>3213</th>\n",
              "      <td>566</td>\n",
              "      <td>6</td>\n",
              "      <td>29481</td>\n",
              "      <td>1</td>\n",
              "    </tr>\n",
              "  </tbody>\n",
              "</table>\n",
              "<p>3214 rows × 4 columns</p>\n",
              "</div>\n",
              "      <button class=\"colab-df-convert\" onclick=\"convertToInteractive('df-8a3d79dc-bd76-42c9-bd85-abd1de449575')\"\n",
              "              title=\"Convert this dataframe to an interactive table.\"\n",
              "              style=\"display:none;\">\n",
              "        \n",
              "  <svg xmlns=\"http://www.w3.org/2000/svg\" height=\"24px\"viewBox=\"0 0 24 24\"\n",
              "       width=\"24px\">\n",
              "    <path d=\"M0 0h24v24H0V0z\" fill=\"none\"/>\n",
              "    <path d=\"M18.56 5.44l.94 2.06.94-2.06 2.06-.94-2.06-.94-.94-2.06-.94 2.06-2.06.94zm-11 1L8.5 8.5l.94-2.06 2.06-.94-2.06-.94L8.5 2.5l-.94 2.06-2.06.94zm10 10l.94 2.06.94-2.06 2.06-.94-2.06-.94-.94-2.06-.94 2.06-2.06.94z\"/><path d=\"M17.41 7.96l-1.37-1.37c-.4-.4-.92-.59-1.43-.59-.52 0-1.04.2-1.43.59L10.3 9.45l-7.72 7.72c-.78.78-.78 2.05 0 2.83L4 21.41c.39.39.9.59 1.41.59.51 0 1.02-.2 1.41-.59l7.78-7.78 2.81-2.81c.8-.78.8-2.07 0-2.86zM5.41 20L4 18.59l7.72-7.72 1.47 1.35L5.41 20z\"/>\n",
              "  </svg>\n",
              "      </button>\n",
              "      \n",
              "  <style>\n",
              "    .colab-df-container {\n",
              "      display:flex;\n",
              "      flex-wrap:wrap;\n",
              "      gap: 12px;\n",
              "    }\n",
              "\n",
              "    .colab-df-convert {\n",
              "      background-color: #E8F0FE;\n",
              "      border: none;\n",
              "      border-radius: 50%;\n",
              "      cursor: pointer;\n",
              "      display: none;\n",
              "      fill: #1967D2;\n",
              "      height: 32px;\n",
              "      padding: 0 0 0 0;\n",
              "      width: 32px;\n",
              "    }\n",
              "\n",
              "    .colab-df-convert:hover {\n",
              "      background-color: #E2EBFA;\n",
              "      box-shadow: 0px 1px 2px rgba(60, 64, 67, 0.3), 0px 1px 3px 1px rgba(60, 64, 67, 0.15);\n",
              "      fill: #174EA6;\n",
              "    }\n",
              "\n",
              "    [theme=dark] .colab-df-convert {\n",
              "      background-color: #3B4455;\n",
              "      fill: #D2E3FC;\n",
              "    }\n",
              "\n",
              "    [theme=dark] .colab-df-convert:hover {\n",
              "      background-color: #434B5C;\n",
              "      box-shadow: 0px 1px 3px 1px rgba(0, 0, 0, 0.15);\n",
              "      filter: drop-shadow(0px 1px 2px rgba(0, 0, 0, 0.3));\n",
              "      fill: #FFFFFF;\n",
              "    }\n",
              "  </style>\n",
              "\n",
              "      <script>\n",
              "        const buttonEl =\n",
              "          document.querySelector('#df-8a3d79dc-bd76-42c9-bd85-abd1de449575 button.colab-df-convert');\n",
              "        buttonEl.style.display =\n",
              "          google.colab.kernel.accessAllowed ? 'block' : 'none';\n",
              "\n",
              "        async function convertToInteractive(key) {\n",
              "          const element = document.querySelector('#df-8a3d79dc-bd76-42c9-bd85-abd1de449575');\n",
              "          const dataTable =\n",
              "            await google.colab.kernel.invokeFunction('convertToInteractive',\n",
              "                                                     [key], {});\n",
              "          if (!dataTable) return;\n",
              "\n",
              "          const docLinkHtml = 'Like what you see? Visit the ' +\n",
              "            '<a target=\"_blank\" href=https://colab.research.google.com/notebooks/data_table.ipynb>data table notebook</a>'\n",
              "            + ' to learn more about interactive tables.';\n",
              "          element.innerHTML = '';\n",
              "          dataTable['output_type'] = 'display_data';\n",
              "          await google.colab.output.renderOutput(dataTable, element);\n",
              "          const docLink = document.createElement('div');\n",
              "          docLink.innerHTML = docLinkHtml;\n",
              "          element.appendChild(docLink);\n",
              "        }\n",
              "      </script>\n",
              "    </div>\n",
              "  </div>\n",
              "  "
            ]
          },
          "metadata": {}
        }
      ],
      "source": [
        "import plotly.express as px\n",
        "import seaborn as sns\n",
        "import matplotlib.pyplot as plt\n",
        "import pandas as pd\n",
        "from sklearn.tree import DecisionTreeClassifier\n",
        "from sklearn.ensemble import RandomForestClassifier\n",
        "from sklearn.linear_model import LogisticRegression\n",
        "from sklearn.model_selection import train_test_split\n",
        "from sklearn.metrics import accuracy_score, precision_score, recall_score\n",
        "data = pd.read_csv(\"datasets/users_behavior.csv\")\n",
        "#Round the values in the columns and convert to int type, this is necessary, because with float, with one of the hyperparameters\n",
        "#DecisionTreeClassifier gives an error\n",
        "for i in [\"calls\",\"minutes\",\"messages\",\"mb_used\"]:\n",
        "    data[i] = round(data[i]).astype(\"int\")\n",
        "\n",
        "    \n",
        "#Conclusions are needed to get the range of values for functions\n",
        "print(data[\"calls\"].min(), data[\"calls\"].max())\n",
        "print(data[\"minutes\"].min(), data[\"minutes\"].max())\n",
        "print(data[\"messages\"].min(), data[\"messages\"].max())\n",
        "print(data[\"mb_used\"].min(), data[\"mb_used\"].max())\n",
        "#Why these functions are needed is explained in the cell below\n",
        "def category(row):\n",
        "    calls = row\n",
        "    if calls >=0 and calls <= 60:\n",
        "        return 0\n",
        "    if calls > 60 and calls <= 120:\n",
        "        return 1\n",
        "    if calls > 120 and calls <= 180:\n",
        "        return 2\n",
        "    if calls > 180:\n",
        "        return 3\n",
        "def category_min(row):\n",
        "    minutes = row\n",
        "    if minutes >= 0 and minutes <= 400:\n",
        "        return 0\n",
        "    if minutes > 400 and minutes <= 800:\n",
        "        return 1\n",
        "    if minutes > 800 and minutes <= 1200:\n",
        "        return 2\n",
        "    if minutes > 1200:\n",
        "        return 3\n",
        "def category_mes(row):\n",
        "    messages = row\n",
        "    if messages >= 0 and messages <= 60:\n",
        "        return 0\n",
        "    if messages > 60 and messages <= 120:\n",
        "        return 1\n",
        "    if messages > 120 and messages <= 180:\n",
        "        return 2\n",
        "    if messages > 180:\n",
        "        return 3\n",
        "def category_mb(row):\n",
        "    mb_used = row\n",
        "    if mb_used >= 0 and mb_used <= 12500:\n",
        "        return 0\n",
        "    if mb_used > 12500 and mb_used <= 25000:\n",
        "        return 1\n",
        "    if mb_used > 25000 and mb_used <= 37500:\n",
        "        return 2\n",
        "    if mb_used > 37500:\n",
        "        return 3\n",
        "columns = [\"calls\",\"minutes\",\"messages\",\"mb_used\"]\n",
        "data = data.drop([\"calls\"], axis = 1)\n",
        "display(data)\n",
        "#data[\"calls\"] = data[\"calls\"].apply(category)\n",
        "#data[\"messages\"] = data[\"messages\"].apply(category_mes)\n",
        "#data[\"minutes\"] = data[\"minutes\"].apply(category_min)\n",
        "#data[\"mb_used\"] = data[\"mb_used\"].apply(category_mb)    \n",
        "display(data)\n",
        "display(data)"
      ]
    },
    {
      "cell_type": "markdown",
      "metadata": {
        "id": "uHcBN3Lwm7MR"
      },
      "source": [
        "Each object in the data set is information about the behavior of one user per month. Known:\n",
        "\n",
        "\n",
        "calls — number of calls,\n",
        "\n",
        "\n",
        "minutes — total duration of calls in minutes,\n",
        "\n",
        "\n",
        "messages — number of sms messages,\n",
        "\n",
        "\n",
        "mb_used - Internet traffic used in Mb,\n",
        "\n",
        "\n",
        "is_ultra - what tariff did you use during the month (\"Ultra\" - 1, \"Smart\" - 0).\n",
        "\n",
        "\n",
        "The functions were written following a recommendation from an article that said that categorizing the data in the sample could improve the accuracy of the model, and it may work, but in this case, it only worsened the accuracy, so it was decided to just leave these functions and not override them."
      ]
    },
    {
      "cell_type": "code",
      "execution_count": null,
      "metadata": {
        "id": "JkBhuWq4m7MR",
        "outputId": "155c78eb-5ec4-46db-ca2c-5a72d9db2e9f",
        "colab": {
          "base_uri": "https://localhost:8080/",
          "height": 795
        }
      },
      "outputs": [
        {
          "output_type": "display_data",
          "data": {
            "text/plain": [
              "<Figure size 432x288 with 2 Axes>"
            ],
            "image/png": "[encoded data removed]"
          },
          "metadata": {
            "needs_background": "light"
          }
        },
        {
          "output_type": "display_data",
          "data": {
            "text/html": [
              "<html>\n",
              "<head><meta charset=\"utf-8\" /></head>\n",
              "<body>\n",
              "    <div>            <script src=\"https://cdnjs.cloudflare.com/ajax/libs/mathjax/2.7.5/MathJax.js?config=TeX-AMS-MML_SVG\"></script><script type=\"text/javascript\">if (window.MathJax) {MathJax.Hub.Config({SVG: {font: \"STIX-Web\"}});}</script>                <script type=\"text/javascript\">window.PlotlyConfig = {MathJaxConfig: 'local'};</script>\n",
              "        <script src=\"https://cdn.plot.ly/plotly-2.8.3.min.js\"></script>                <div id=\"837989c8-e2e3-42af-95e9-d19cd966d486\" class=\"plotly-graph-div\" style=\"height:525px; width:100%;\"></div>            <script type=\"text/javascript\">                                    window.PLOTLYENV=window.PLOTLYENV || {};                                    if (document.getElementById(\"837989c8-e2e3-42af-95e9-d19cd966d486\")) {                    Plotly.newPlot(                        \"837989c8-e2e3-42af-95e9-d19cd966d486\",                        [{\"hovertemplate\":\"messages=%{x}<br>mb_used=%{y}<br>minutes=%{marker.color}<extra></extra>\",\"legendgroup\":\"\",\"marker\":{\"color\":[312,517,468,746,419,345,432,132,43,665,561,344,437,433,588,22,19,164,533,342,691,411,352,96,360,356,625,1079,287,358,277,77,530,482,777,815,543,423,146,519,183,85,392,324,666,236,536,327,50,475,532,842,929,421,0,106,449,585,478,356,853,824,623,815,391,677,556,239,1009,607,546,510,478,392,428,532,633,1,562,304,843,504,594,610,397,633,1069,326,331,526,862,416,238,528,604,667,268,539,454,435,40,805,510,541,566,226,355,515,300,257,635,387,483,323,1079,633,627,589,215,258,469,412,443,355,520,36,849,444,359,110,784,680,379,704,466,486,464,123,628,839,647,462,337,1000,340,521,521,628,269,456,661,439,415,457,359,657,229,199,455,892,495,394,452,619,508,581,555,480,367,633,179,1280,229,404,443,430,424,802,206,142,634,488,544,993,577,369,153,745,505,312,785,457,811,101,146,875,485,107,6,591,271,259,632,214,191,673,385,258,99,459,217,631,191,191,346,268,494,373,365,531,487,730,177,881,528,153,418,717,620,141,268,432,261,412,569,514,336,469,732,66,21,27,1247,766,1058,472,107,0,748,341,493,521,308,803,478,226,269,188,589,710,833,414,366,466,0,442,116,372,706,325,442,509,564,541,442,344,388,494,304,234,413,373,6,335,284,94,315,19,495,300,428,874,568,83,512,545,831,490,774,236,344,405,597,387,707,348,251,313,206,701,594,620,733,104,79,593,503,420,639,649,594,238,745,444,170,176,609,597,443,400,424,104,405,688,569,459,70,416,364,676,306,729,146,477,451,470,395,152,523,418,423,0,192,493,258,204,12,221,385,383,566,498,273,714,358,132,354,343,186,338,428,702,627,796,473,533,326,390,484,426,246,522,906,238,729,702,148,284,453,909,0,239,414,686,933,828,348,547,527,235,322,311,545,286,169,545,581,433,584,441,220,2,717,424,86,462,374,540,96,686,505,483,695,599,732,606,199,589,484,351,926,69,355,425,265,650,599,502,534,342,445,521,286,436,438,707,681,757,39,849,48,646,198,493,588,225,594,643,368,27,817,1168,540,247,587,325,409,84,289,594,392,529,710,346,396,234,378,322,322,356,360,1168,1084,593,0,641,654,243,341,341,334,596,1090,210,476,476,598,240,512,306,314,503,496,726,437,1112,339,22,910,460,598,182,796,536,511,142,386,229,507,132,565,311,565,658,282,536,194,458,348,705,34,476,496,476,604,332,33,577,329,468,2,997,729,432,447,467,458,170,512,561,693,0,133,1229,391,558,182,152,1219,184,564,333,230,165,248,857,245,651,119,590,193,460,214,248,78,566,499,330,55,412,322,677,226,228,780,461,51,302,566,707,510,419,73,680,713,692,657,285,442,50,396,799,209,509,96,135,229,820,72,368,517,690,457,475,564,487,342,622,490,390,484,505,205,16,353,503,300,541,447,948,271,390,543,591,473,525,628,752,707,124,340,132,200,966,105,572,170,0,463,506,245,148,335,467,478,689,334,466,326,471,66,133,262,253,739,310,661,549,683,608,242,565,308,222,601,176,163,507,529,435,849,78,516,772,687,420,563,371,633,131,329,136,662,1000,289,456,338,466,105,446,372,514,454,195,426,285,436,396,110,572,504,469,458,1355,376,280,497,605,641,8,15,268,887,345,204,301,462,385,298,98,260,274,752,369,144,533,358,248,1365,315,456,292,999,626,155,319,393,528,526,430,926,411,577,338,723,1390,401,531,319,183,152,267,207,523,489,320,298,194,285,0,301,368,666,707,587,808,524,578,353,392,371,270,295,554,213,263,706,263,113,550,286,59,876,343,46,415,589,552,969,520,522,238,522,649,503,232,367,498,203,448,352,323,389,432,794,655,431,153,494,462,191,393,369,291,395,122,520,449,395,1080,436,973,345,515,174,520,708,399,453,120,707,371,476,59,1056,799,734,493,399,444,706,530,867,705,728,687,198,411,179,502,410,288,267,929,35,838,645,338,763,482,478,720,581,557,479,385,336,544,1049,338,318,692,494,38,0,269,559,714,308,494,119,404,454,315,110,408,632,204,63,205,290,603,657,430,377,347,291,460,404,615,190,464,199,407,974,308,376,547,340,968,732,723,798,422,195,400,757,561,175,334,731,377,412,2,450,588,520,355,267,458,692,270,453,270,623,350,247,737,386,226,422,0,518,298,384,614,204,1182,16,342,792,352,237,743,267,542,620,9,667,527,504,524,577,486,466,107,321,419,444,269,478,254,351,446,468,554,474,169,405,374,458,626,569,627,379,493,567,617,584,534,260,741,198,497,279,352,608,551,318,608,608,655,534,760,656,320,178,651,149,530,109,789,343,601,709,111,410,488,445,443,622,1029,447,463,1067,473,665,357,581,828,0,435,761,797,282,597,533,578,419,247,219,465,241,491,226,133,331,517,424,212,660,363,510,135,346,2,654,234,369,726,188,361,646,499,259,297,337,428,604,354,231,445,588,601,616,713,420,576,603,372,711,934,556,1113,0,454,92,450,14,491,443,563,752,0,141,95,683,563,345,480,433,238,480,158,357,495,694,60,693,415,192,2,346,616,1,35,629,458,118,454,466,119,381,251,139,529,603,379,834,176,196,434,1566,413,414,224,401,511,194,364,340,459,369,207,433,29,259,582,86,318,284,1073,996,730,267,244,873,657,374,299,144,345,1032,454,248,354,524,424,599,595,822,1044,431,287,18,467,249,415,323,170,692,542,130,449,830,463,462,265,185,497,477,145,317,646,564,444,205,478,368,795,589,274,578,683,642,355,319,244,376,519,143,606,589,671,393,525,342,309,299,607,639,83,224,580,35,620,513,437,0,848,832,565,477,393,424,320,692,389,0,667,382,515,95,447,257,97,424,543,545,606,558,552,254,768,689,438,235,625,579,131,434,589,330,587,293,499,113,433,474,129,13,1116,751,427,192,432,509,444,27,329,573,550,164,111,280,763,310,469,12,501,603,408,826,625,509,302,201,113,282,533,93,518,689,140,562,528,565,549,846,422,519,303,220,493,566,612,1279,11,234,819,333,551,506,452,457,326,64,610,452,201,245,364,327,308,537,513,311,148,529,721,564,0,167,516,697,495,257,487,397,433,1012,273,529,355,516,149,410,646,136,202,492,561,148,769,1052,429,848,246,202,480,226,403,552,421,468,1182,537,408,259,527,603,203,304,463,353,483,584,411,532,360,24,274,637,387,188,132,231,332,655,248,333,94,410,583,288,508,377,502,590,805,658,359,705,848,467,444,1226,635,454,311,293,314,385,405,257,586,844,685,16,276,278,639,588,89,620,338,795,454,0,399,129,333,264,299,544,847,710,333,206,312,644,259,685,23,441,569,172,413,266,748,617,406,569,359,538,612,310,703,277,477,526,236,434,275,878,526,224,361,453,545,280,385,658,730,500,409,479,15,226,48,172,134,464,330,530,502,824,266,575,250,334,414,224,654,204,250,444,301,96,270,741,860,243,533,215,404,463,263,390,453,94,730,210,0,352,456,308,446,323,655,155,587,430,572,638,167,266,389,784,383,696,555,725,297,618,170,160,288,403,781,526,487,96,103,280,265,404,431,261,517,442,570,81,231,561,258,488,525,648,164,471,108,188,562,193,347,358,377,289,503,606,399,291,128,142,397,316,720,0,136,601,373,183,266,615,526,753,280,708,674,566,527,299,249,335,644,190,65,323,620,351,268,546,169,491,271,149,290,510,178,543,385,20,638,412,465,536,283,469,614,491,937,583,172,375,664,1147,244,1071,0,481,409,718,538,318,314,471,685,900,171,420,977,391,276,666,633,435,63,62,0,540,759,265,769,60,426,1075,670,170,395,72,77,595,81,331,610,715,713,325,341,861,497,527,700,451,473,1174,214,149,545,264,368,823,484,709,63,207,522,150,234,769,378,513,246,325,278,417,577,703,546,243,526,33,377,503,646,357,739,266,251,334,760,218,473,546,275,281,222,550,308,512,741,410,0,536,421,348,224,697,249,170,111,595,278,547,0,292,394,497,329,443,368,639,357,30,269,68,376,498,321,818,352,471,613,233,890,388,326,430,416,420,286,690,269,356,509,595,789,470,136,221,113,453,380,660,580,616,339,377,734,733,298,826,386,450,296,364,398,370,858,207,304,395,181,273,262,276,297,201,897,704,102,679,187,538,533,535,569,503,580,837,1155,387,198,449,496,369,41,541,525,272,0,198,172,631,131,142,492,241,821,931,1290,564,586,516,287,700,353,1218,1203,565,12,430,290,122,548,608,758,160,269,593,90,609,710,265,419,0,147,1044,863,0,429,527,388,408,867,325,317,328,574,599,69,740,282,418,631,780,688,575,164,446,281,228,941,187,386,481,406,745,511,728,424,283,302,444,430,427,302,233,294,798,0,341,538,355,429,454,644,520,240,89,976,708,347,548,557,807,172,229,315,391,1188,218,571,216,595,177,478,742,571,179,1,662,374,47,172,531,303,225,479,854,372,419,216,738,144,429,655,739,420,356,501,13,198,747,466,363,501,350,721,367,152,369,294,312,350,477,177,522,650,748,573,129,245,553,304,698,846,389,398,480,336,275,583,452,53,47,128,435,219,796,671,536,815,457,226,338,616,469,551,506,265,354,550,148,45,720,396,489,523,397,385,282,398,812,421,447,512,84,443,351,442,211,877,530,597,530,990,244,606,750,92,400,491,598,320,211,291,45,252,644,478,412,321,504,172,163,344,313,347,319,298,114,395,501,579,274,489,654,334,634,535,368,384,297,468,628,538,934,650,822,456,235,446,838,284,567,555,629,54,174,479,273,150,845,761,454,754,526,432,356,551,119,455,255,515,305,533,431,173,611,814,266,253,566,397,566,846,292,398,386,251,118,517,289,227,794,1,598,432,546,48,404,232,325,192,807,792,243,240,496,531,329,628,482,0,7,399,610,1225,403,647,176,344,559,459,183,544,443,947,452,119,448,339,603,233,489,301,257,116,312,525,554,421,397,355,1255,486,322,1165,7,336,296,296,264,257,310,639,638,316,217,789,725,681,26,638,640,0,176,85,510,443,126,993,539,437,167,552,516,312,512,490,135,222,553,731,70,396,378,798,564,395,730,462,490,391,116,93,432,443,190,375,73,252,222,422,669,47,407,314,380,172,949,522,402,835,0,441,492,213,576,208,1293,303,311,557,401,269,79,572,558,454,659,340,304,396,403,336,447,522,747,259,472,246,312,227,461,715,485,498,511,0,561,412,484,61,1193,524,476,316,41,410,420,346,664,170,366,503,396,219,649,562,545,301,182,342,476,289,243,450,643,529,934,731,139,254,443,370,329,581,81,349,401,278,377,529,68,97,65,732,278,650,974,397,582,722,238,611,1103,648,630,250,283,402,647,752,399,932,696,155,679,155,490,228,90,12,264,301,539,436,814,715,1220,293,296,530,397,163,489,319,473,118,1006,371,591,440,222,689,35,205,49,433,423,361,662,599,102,375,233,543,579,446,905,845,413,795,359,260,686,278,207,454,280,167,227,621,286,899,94,81,37,336,361,321,364,101,528,585,250,533,320,347,96,496,314,562,627,301,644,262,467,370,639,550,528,859,257,465,39,269,239,63,449,508,225,500,170,481,37,595,304,547,561,493,646,916,408,36,697,409,620,45,470,83,491,136,300,488,388,647,503,551,371,603,448,168,436,439,567,512,580,711,497,492,1105,507,648,782,555,496,354,1017,226,193,759,463,577,261,336,345,509,440,257,243,482,662,258,326,535,454,620,235,165,257,584,508,600,185,334,480,791,787,108,227,464,939,356,788,810,550,406,51,385,400,434,729,152,77,300,597,544,539,397,479,233,253,933,878,410,378,776,105,512,433,444,349,290,805,580,530,931,534,188,420,832,617,58,129,306,269,337,984,558,250,299,369,577,741,403,1632,560,373,429,762,815,233,382,1258,145,218,502,157,599,402,625,165,189,396,392,390,323,297,665,594,464,296,266,721,328,229,104,451,507,378,374,239,51,966,636,685,418,249,204,107,472,341,531,275,159,524,621,513,349,528,436,569,616,430,520,380,114,496,539,491,8,736,185,258,419,457,281,1024,650,450,527,379,430,480,474,330,478,324,467,378,53,60,463,194,22,239,1206,357,0,480,416,756,219,273,372,491,161,271,742,478,549,614,768,358,515,513,1171,174,258,270,426,266,544,240,296,339,684,732,588,465,347,596,513,363,880,663,309,433,393,828,467,342,595,210,369,222,549,415,539,596,365,433,365,155,21,796,150,532,314,362,180,351,458,343,412,142,539,662,479,486,834,543,514,166,452,603,372,824,519,410,575,602,386,149,332,800,624,402,491,453,424,406,361,269,2,255,496,156,802,472,728,324,152,503,281,440,574,445,289,734,990,1156,240,130,485,490,18,279,545,258,370,698,733,514,94,249,518,483,216,595,554,253,451,87,406,902,391,475,226,43,747,589,319,582,433,275,511,927,168,265,488,108,434,1139,276,518,465,709,386,652,188,711,486,387,491,582,310,230,236,605,246,528,667,293,590,129,667,29,589,607,218,664,673,443,755,416,560,29,451,512,357,33,389,535,739,0,341,371,465,293,466,470,668,111,1036,212,465,468,300,103,14,216,640,518,388,77,467,593,448,548,256,101,347,1133,446,201,228,528,56,589,428,366,346,351,445,327,333,248,498,477,681,501,852,721,743,294,603,68,637,434,535,642,409,370,310,612,430,470,426,0,1303,700,411,293,92,337,705,531,203,300,9,398,821,550,0,136,140,900,0,147,334,625,869,583,581,816,382,763,24,0,501,466,461,386,270,166,672,317,363,296,516,353,339,149,381,505,696,351,688,358,629,590,499,321,411,509,968,336,214,82,772,564,567,100,378,603,522,423,193,444,369,285,266,71,302,644,214,340,650,558,793,382,333,432,488,233,292,896,540,228,712,284,101,468,565,239,303,372,381,531,703,192,485,479,154,402,468,500,360,220,396,206,438,381,836,511,277,10,501,935,554,610,250,401,239,239,329,523,562,469,0,279,448,120,60,456,250,592,454,476,245,77,341,769,784,72,401,91,485,739,838,409,494,372,361,199,598,795,208,436,510,295,508,0,337,798,105,514,679,460,200,388,509,337,546,627,727,381,433,538,287,783,1185,548,434,325,260,211,324,386,452,293,220,274,324,545,467,32,411,439,868,131,410,277,476,504,650,623,266,581,488,432,640,606,593,200,245,430,279,642,772,506,506,581,221,595,447,393,308,431,537,622,401,732,345,305,165,662,423,541,609,53,646,259,514,330,357,363,669,233,599,323,558,661,151,702,0,419,163,390,659,413,587,92,1017,911,190,634,462,566],\"coloraxis\":\"coloraxis\",\"symbol\":\"circle\"},\"mode\":\"markers\",\"name\":\"\",\"showlegend\":false,\"x\":[83,56,86,81,1,21,20,6,3,38,20,13,61,16,0,0,0,4,90,81,31,97,66,19,30,52,38,48,44,44,0,31,27,7,9,0,43,0,33,34,0,7,0,10,106,97,65,0,17,11,29,75,0,33,33,16,47,49,0,33,64,144,0,61,99,46,64,24,64,22,55,7,7,8,93,0,21,153,11,37,69,0,18,78,42,61,0,82,0,27,0,0,62,40,64,57,29,60,31,17,0,66,58,17,0,20,48,7,123,0,0,3,26,11,51,109,0,47,0,20,48,5,49,8,39,7,0,35,43,5,97,0,51,79,78,40,9,22,52,0,57,12,34,182,38,0,29,37,0,99,66,8,0,0,36,0,12,19,126,59,8,48,57,57,38,16,22,102,14,22,82,133,110,54,72,103,23,37,22,26,43,60,29,106,42,54,108,66,30,24,0,42,12,34,39,22,92,5,133,73,20,60,22,0,13,15,81,15,21,10,58,0,37,11,103,25,91,0,113,6,103,105,0,72,21,48,85,191,32,23,13,24,79,50,0,50,14,145,15,11,41,0,150,53,59,7,49,35,0,57,22,58,51,171,0,12,9,62,9,176,52,27,91,48,21,16,8,21,68,75,5,40,26,48,0,35,59,36,0,99,29,50,27,0,30,103,14,7,28,76,56,71,47,0,6,0,3,57,21,43,52,78,0,73,50,16,49,10,118,0,64,26,63,17,32,17,37,40,33,27,52,5,132,0,28,13,84,19,99,81,118,2,51,78,14,51,0,66,31,71,67,4,21,0,50,16,59,23,14,39,40,8,18,29,0,0,111,59,66,5,0,46,40,2,36,23,36,21,101,18,96,91,43,1,0,0,16,40,30,112,95,30,0,52,55,32,20,47,41,54,25,16,39,51,65,89,46,54,4,16,23,0,30,6,13,71,0,37,0,46,15,38,22,37,1,143,31,27,3,62,25,28,0,40,25,36,32,2,68,21,0,3,22,66,59,32,33,33,46,4,29,45,12,0,56,0,70,43,12,52,16,51,19,15,27,40,0,45,32,39,91,48,57,77,56,58,70,13,51,79,89,53,64,44,118,0,25,11,0,26,0,103,95,0,191,27,94,48,0,64,82,30,137,19,25,0,45,0,79,35,40,0,101,27,23,53,35,7,79,0,0,13,3,47,43,30,63,0,85,5,61,14,82,23,75,30,31,24,11,18,95,63,14,17,86,21,3,6,25,12,0,82,153,54,15,67,0,23,25,21,49,24,107,0,0,0,6,16,11,118,98,6,66,26,0,0,0,86,7,103,0,48,21,50,28,55,71,144,0,0,42,67,23,0,0,23,16,0,40,44,0,21,20,19,37,0,77,59,6,98,40,75,30,90,20,33,141,83,44,30,81,62,0,35,41,66,27,59,76,62,49,79,0,0,0,5,65,12,7,57,0,103,3,28,90,79,72,57,75,0,86,0,90,0,0,5,99,30,60,51,39,18,26,52,78,16,39,59,37,45,0,24,36,22,124,59,26,0,18,22,9,0,59,44,129,31,7,107,0,20,57,0,49,66,0,51,19,7,94,0,23,11,0,114,22,29,37,33,3,17,49,14,32,29,129,73,51,0,14,7,10,28,137,10,1,0,0,20,17,5,55,92,112,60,87,66,26,23,12,2,8,60,40,77,11,72,43,0,153,16,39,73,84,80,22,0,0,11,15,9,53,31,46,3,10,64,91,109,26,103,108,0,4,40,46,117,6,14,40,32,65,26,35,19,35,14,31,93,81,0,25,1,0,44,27,126,84,73,7,21,1,5,138,55,0,49,66,50,94,52,20,8,54,25,12,37,142,7,25,33,0,41,50,25,15,10,0,91,6,32,11,0,106,77,33,5,31,0,18,113,34,83,16,45,0,28,0,60,27,23,77,0,76,2,54,0,134,11,76,14,47,20,0,30,41,3,45,0,45,128,68,21,17,39,34,1,3,18,42,40,25,35,85,71,33,46,28,0,101,5,101,38,0,1,180,0,62,25,23,30,0,91,2,0,0,0,47,30,13,22,115,46,70,8,44,84,73,0,0,99,40,29,0,57,13,0,35,7,49,101,44,0,0,41,0,24,0,27,17,39,154,32,145,28,51,59,0,16,43,47,26,15,74,48,64,20,0,3,0,19,28,185,17,3,40,34,77,121,2,53,6,127,72,43,79,21,0,0,28,0,106,116,86,74,6,31,6,98,0,10,36,0,63,93,9,53,3,0,26,63,39,42,24,0,18,11,0,72,0,70,1,0,45,0,0,0,50,25,31,19,0,31,60,11,2,121,14,31,9,69,72,12,28,0,17,10,30,20,53,35,46,0,55,0,17,20,6,0,16,3,29,14,77,23,30,3,13,8,44,88,14,51,14,55,21,47,9,2,44,52,17,47,19,18,0,0,0,49,86,0,0,25,51,51,0,14,77,20,19,0,19,1,56,57,39,15,0,0,39,63,0,27,140,0,35,35,6,64,2,60,45,60,0,201,14,7,75,25,0,0,30,0,2,0,133,21,41,6,37,25,77,1,0,17,48,6,41,51,6,43,12,19,43,11,10,62,56,117,69,82,55,0,20,23,29,12,15,49,42,38,65,78,92,8,0,3,20,58,46,71,23,16,79,34,0,42,65,49,13,6,0,17,99,31,77,27,47,45,25,22,56,22,7,45,11,62,0,24,32,29,47,8,0,10,21,100,85,40,0,38,41,0,46,0,0,77,15,98,37,63,0,46,29,12,55,10,48,27,38,53,61,5,27,145,84,85,68,27,34,5,42,4,14,75,7,20,51,15,30,28,6,0,30,54,65,8,14,29,20,74,35,55,7,7,35,37,66,2,16,36,46,23,69,49,39,22,43,67,50,94,0,62,45,1,46,17,19,69,68,64,0,41,45,6,73,14,8,44,5,13,54,0,19,13,2,10,0,55,3,0,19,44,0,126,49,106,75,12,0,54,14,1,18,0,35,54,0,80,50,80,71,70,15,2,37,0,13,50,53,3,0,33,0,28,56,41,25,63,39,34,13,29,0,45,47,97,3,30,47,71,0,9,41,108,19,34,1,49,0,0,72,47,20,79,34,4,97,1,18,0,58,84,94,0,0,11,0,16,18,33,28,65,72,102,0,169,18,0,0,0,155,25,50,1,30,52,39,56,26,102,2,12,81,61,47,15,28,0,1,0,48,91,49,15,9,88,73,40,9,84,10,0,24,23,29,32,135,30,48,52,8,43,34,63,30,30,0,9,83,16,0,33,56,0,19,13,27,0,7,20,151,50,56,26,35,107,46,29,61,66,0,0,23,7,85,0,25,12,0,98,0,0,155,19,51,60,10,4,139,53,24,0,46,115,40,137,12,17,66,65,0,18,45,55,69,63,69,131,0,9,33,13,0,67,47,34,135,17,75,44,91,38,51,38,10,57,42,114,33,22,94,0,26,74,7,2,73,36,5,18,8,20,11,188,31,157,13,17,0,0,22,0,20,148,104,77,224,62,82,56,21,27,158,17,56,94,49,39,14,26,0,0,0,50,0,51,39,93,72,57,10,106,10,87,0,1,3,74,1,0,0,0,0,28,105,43,0,44,76,48,25,42,14,27,48,62,0,66,28,48,55,41,0,62,0,13,19,19,0,30,38,39,45,47,50,103,57,34,73,37,0,14,47,20,36,14,62,57,4,38,3,38,28,76,137,6,52,53,0,12,38,129,1,126,10,36,99,42,0,211,85,2,128,51,10,37,31,0,0,23,40,41,0,46,64,31,7,0,3,19,41,49,4,0,18,75,120,5,53,26,28,0,47,1,0,20,34,46,68,0,7,21,0,27,34,4,149,14,23,77,38,44,0,21,4,0,37,99,73,24,0,78,21,55,78,0,39,64,34,3,79,30,5,0,57,0,0,55,22,28,94,10,23,17,0,72,0,6,70,0,0,21,19,20,33,5,61,20,0,18,49,32,21,0,58,48,31,8,0,24,27,13,31,67,0,0,0,78,66,60,67,31,48,59,80,20,46,48,81,7,0,109,10,14,48,9,58,0,6,48,140,115,44,24,5,18,12,25,41,12,81,41,43,68,41,33,0,65,0,66,4,43,73,20,8,50,9,20,32,0,0,0,1,0,6,21,124,19,28,54,41,45,11,13,62,55,11,89,24,23,74,30,0,30,54,9,84,30,32,74,42,74,30,92,55,90,4,82,17,52,0,4,0,21,48,34,31,0,0,13,60,0,70,190,108,43,173,20,149,0,44,30,72,40,0,129,48,50,127,0,44,30,19,33,4,54,81,111,97,97,22,45,0,56,4,20,58,50,44,17,37,16,55,0,74,28,63,98,54,39,101,14,54,29,46,45,40,28,0,62,25,104,60,107,94,63,28,2,0,5,21,172,13,85,41,21,16,0,35,86,86,146,31,68,1,8,56,22,1,24,47,12,38,32,25,3,47,40,79,93,80,44,0,10,0,51,74,0,6,54,42,14,0,51,65,42,0,57,9,20,8,45,162,0,27,40,48,0,40,4,27,26,13,65,47,56,9,12,47,25,119,54,38,178,27,9,0,0,10,9,21,3,98,60,39,9,82,51,0,21,4,0,15,82,4,70,18,71,0,73,34,0,10,104,93,62,69,76,41,53,0,0,25,64,5,0,15,0,8,94,66,0,0,45,40,22,33,29,0,4,51,19,0,10,87,22,24,88,45,4,27,20,36,80,70,49,62,49,223,61,0,24,16,80,33,38,11,54,38,0,14,0,14,16,64,0,52,134,52,5,33,55,4,25,0,0,0,21,34,16,10,81,34,26,99,20,43,130,68,24,40,23,0,0,84,36,122,0,26,36,35,4,28,63,0,24,72,80,0,53,41,39,29,26,36,24,56,0,23,99,0,36,48,15,31,57,15,56,43,67,0,146,0,26,40,13,7,37,68,0,143,0,51,32,99,30,17,61,26,159,10,56,73,0,113,44,3,37,56,88,46,0,64,44,106,0,31,32,29,13,92,38,181,162,64,52,0,31,98,0,0,78,0,30,78,0,14,0,2,0,15,146,0,44,13,69,2,0,28,5,16,5,6,21,0,0,18,1,0,48,33,48,0,52,30,26,42,38,75,8,83,0,38,0,22,7,47,44,8,9,40,60,38,83,36,77,17,130,0,0,96,107,23,6,0,79,27,30,32,16,0,28,68,0,11,0,58,41,20,46,1,40,26,58,78,33,59,56,0,26,0,66,19,102,131,0,40,103,11,10,64,61,91,125,16,14,0,29,61,33,9,24,49,26,72,91,2,0,10,0,0,57,48,119,27,0,35,68,50,57,93,56,60,33,46,4,24,6,0,0,61,13,83,38,15,48,0,7,46,89,112,0,109,0,59,86,41,23,18,3,40,83,84,0,47,51,45,65,62,52,2,29,28,53,32,53,0,117,27,42,17,79,109,50,152,85,0,72,2,0,5,57,11,31,25,0,47,0,18,2,0,73,58,13,0,5,0,0,18,64,5,15,1,35,38,0,56,45,31,76,0,47,29,41,17,44,72,43,8,29,35,50,148,29,30,56,16,54,1,15,13,0,28,30,25,133,0,6,137,43,26,12,80,17,26,0,100,45,0,2,11,56,82,6,26,22,0,20,20,34,130,22,19,16,154,51,18,60,28,87,29,0,197,34,47,44,38,10,18,17,21,29,28,0,25,24,24,20,70,13,0,32,134,52,62,0,88,49,7,26,0,73,0,25,23,28,0,0,0,32,0,4,59,20,0,27,6,1,37,57,0,33,31,20,85,21,77,15,72,1,75,17,10,0,42,60,15,17,96,0,79,21,78,0,75,69,0,6,2,71,31,109,3,6,39,116,17,0,53,39,0,79,17,0,139,36,7,15,6,63,37,0,80,0,43,2,17,11,31,19,16,3,18,65,11,38,90,10,9,0,8,84,66,14,22,41,5,93,0,52,13,48,86,61,18,0,143,13,6,14,72,14,61,16,13,60,0,43,84,92,158,13,83,13,1,55,34,0,136,14,52,35,65,0,2,47,26,35,65,2,66,38,43,24,34,8,21,0,42,24,74,27,23,32,90,29,0,13,16,0,24,15,81,40,0,49,79,0,111,27,71,60,25,5,79,89,68,26,75,49,23,40,26,38,53,42,0,8,0,24,33,90,9,124,38,25,8,49,5,65,20,0,69,63,34,0,153,23,55,101,87,61,15,14,42,29,33,20,115,165,29,0,54,57,96,17,3,77,57,39,84,76,11,74,4,93,20,45,56,76,69,0,0,62,40,17,101,0,157,0,25,98,0,36,53,12,21,25,41,1,25,117,0,78,6,171,135,5,46,74,30,83,26,38,27,136,98,39,17,18,0,60,27,0,17,19,61,22,0,47,0,83,32,9,28,68,36,33,80,42,72,101,16,49,12,16,22,75,72,38,66,6,14,46,9,21,28,96,22,55,105,6,0,183,31,56,23,18,20,12,80,25,49,26,0,10,21,9,42,26,42,4,40,1,37,2,27,48,8,6,31,130,78,81,40,63,43,4,42,11,0,0,35,0,18,33,64,22,0,0,27,59,36,34,48,29,19,16,85,0,0,24,25,67,5,15,96,19,100,69,91,50,97,90,2,63,75,36,58,42,88,4,6,37,94,170,31,35,16,38,24,88,0,17,105,0,0,37,0,0,30,20,37,69,135,30,39,97,20,23,104,0,17,10,19,0,0,58,60,1,12,32,55,31,23,0,68,82,29,16,29,27,0,0,4,17,56,38,61,1,105,85,29,55,29,0,10,70,22,27,0,34,15,0,91,0,66,13,12,29,13,25,91,80,0,34,82,16,38,80,47,64,0,0,61,42,46,26,20,61,16,141,50,24,42,40,8,16,65,60,20,0,26,98,81,23,45,19,0,0,0,15,127,40,0,1,6,47,43,41,49,3,72,28,0,46,37,0,73,3,82,0,27,44,31,21,29,16,22,52,6,92,49,64,7,54,73,63,0,6,73,13,3,0,101,0,30,0,12,23,13,94,10,32,40,0,111,0,11,0,4,21,171,0,35,0,69,49,43,88,11,16,29,0,17,51,42,6,87,52,49,0,62,28,4,0,8,10,51,54,20,12,27,82,89,15,36,1,36,57,10,32,97,78,36,14,34,86,0,102,143,33,46,41,14,105,98,28,25,23,105,14,47,84,25,31,71,10,71,10,0,17,0,18,77,28,0,4,42,42,34,23,18,72,3,48,50,68,51,0,55,59,10,85,47,16,54,2,71,20,0,70,90,6],\"xaxis\":\"x\",\"y\":[19915,22697,21060,8437,14503,15823,3739,21912,2539,17359,9620,19899,21524,16702,14407,2710,589,16870,19908,11770,25950,15394,16470,2306,13560,22472,8645,29335,19542,9999,19816,643,20699,23065,20791,20427,31845,11460,9711,12751,18632,10765,19122,20922,19539,20711,11968,12050,3371,17859,12403,21544,22509,14866,14010,37328,18171,27340,19091,20457,26606,30323,20895,16917,12991,16286,24049,9309,27807,24875,11457,21766,21437,22525,19541,11300,18421,22753,17589,15063,28992,19154,15192,16716,8450,21562,24091,29084,8000,20939,7930,19871,8470,21441,18962,16778,16997,13722,19776,9613,1392,17936,19428,20076,39307,12616,13663,22802,31245,9545,17499,22793,8621,22847,30681,12618,20718,9863,6045,13805,16251,18418,17436,14602,14184,4617,13866,26460,15584,1010,28260,8648,12442,10603,33114,7358,18226,3370,39598,13270,17272,18705,16165,18199,15780,24596,19315,18603,27834,21695,19913,17707,14945,13977,12492,23040,18114,5877,17104,11741,10891,15605,14569,22925,3179,20897,21238,21925,18152,17689,19632,26928,2001,19127,32950,16509,11044,5427,7972,8617,16436,25759,10050,20211,7866,22513,19726,26154,16846,9884,38102,23639,36684,13049,7084,20648,22217,2017,26247,11309,17284,17204,20221,16657,8558,3316,13650,6573,17002,21740,13508,18985,14254,8023,27347,18232,18528,13760,34225,12498,17265,18676,17970,11441,10541,4895,15292,38288,18176,19202,12737,28295,17520,15989,18009,14585,21902,15878,32646,1846,16736,2207,29186,21445,18933,15416,35656,16445,19369,12615,20559,19323,21387,12137,19818,13582,13197,21707,21047,33322,2950,23855,16880,15896,19560,18306,2347,30389,35108,14004,25106,21097,15657,21840,16446,20693,16034,16600,14252,25545,13527,13562,2866,21506,11560,19428,7333,3431,17030,15788,16206,4154,16861,14572,20025,13389,28837,16663,18982,23859,9501,16948,16321,17148,19861,22004,18965,7798,22591,8675,7544,21650,13157,4678,8247,17417,17033,14418,21557,20315,19667,4906,21100,19353,17306,12522,30357,22408,26423,14056,14504,7350,16806,16291,36524,11706,2043,10105,16303,18194,15329,14341,11656,17862,25264,20221,16207,5958,19462,25112,18626,35526,25161,20022,19999,39969,32759,17865,18008,8434,23426,12651,19629,35136,15723,26720,17414,16578,14345,18221,25048,8004,22690,9970,20822,8610,14515,19646,17997,5661,9659,13397,25002,15762,16095,22376,19477,10679,11830,29679,19089,24437,14361,18532,29264,19369,16122,21266,14368,18587,13139,19978,17091,19721,16627,21193,19640,24466,17231,15677,6548,20171,29140,31467,1600,16369,15505,7732,2827,20500,16226,9210,21547,28356,32504,9388,21597,21673,13806,20297,35948,373,11696,22396,17398,18342,28525,16854,24959,17786,10052,10777,4515,23090,18723,25105,16376,30135,14792,22434,4017,22062,11336,22247,19701,23909,11311,10187,14987,7382,28506,32441,17837,11925,13389,14756,22576,6227,17006,28245,20476,16019,23674,7880,12492,34315,22201,11420,19207,23140,16199,20019,36844,20770,32448,21251,15584,25741,15522,14443,21969,23220,21247,27437,18329,18903,13215,14611,13759,9184,19024,7598,15386,22022,6038,27729,11429,4159,38939,27803,16273,16553,17906,21685,17208,8035,16988,5579,12626,4878,24365,14709,18082,21393,13933,9892,11664,22321,18961,22131,13404,14329,13851,20927,12832,16618,690,14678,13681,22654,617,29363,32991,24008,18239,18507,15214,24141,11085,16370,5451,18702,21893,26231,22979,12724,11873,7023,5749,27705,16052,20286,17304,6290,16263,28002,22307,13217,10174,27851,22310,12187,0,15334,25052,18688,17451,38310,1841,17924,25600,10705,15502,20292,11309,25559,20635,34506,15324,7801,14334,11408,8602,16174,17295,15423,28518,24761,15933,27477,12059,16249,26672,15614,3185,15479,15005,14768,10881,20700,10946,19129,41614,19985,21020,24651,28029,17366,30307,24235,10475,31409,28731,1163,19746,6928,19261,13501,21781,24047,12749,22634,12697,21447,17522,20765,16840,19204,37166,4384,13023,3456,15346,31992,11664,28776,24667,10236,18512,11825,0,1904,13896,19580,20153,18758,16542,16996,13603,17489,7039,28724,7939,20553,22819,11973,20397,21637,19308,15521,23708,21259,10625,17784,25209,16673,13372,14515,10435,18911,19967,14733,17369,10523,24530,10498,25508,18076,8793,20876,21875,15174,18820,21535,19352,18446,21338,14327,0,14371,20043,14270,13233,11180,21735,16613,19452,36298,766,17096,21462,22587,10933,4881,13479,25184,18267,22597,16670,2347,23829,27172,22416,6294,14152,11859,14105,29943,18311,8792,7417,24265,16133,15873,10879,16334,21588,13443,22652,16477,15290,25521,23116,8983,2254,10985,18982,14873,18879,10461,2336,11886,30982,20883,14688,20066,19022,19497,13376,25495,20411,23337,5890,12478,17383,35690,9221,13946,16449,17206,17394,12821,27935,14492,20566,20728,22127,16547,16538,43825,14696,9122,17424,19300,7884,34329,16082,15662,4186,21064,16808,7086,39652,16568,814,16589,8497,24279,28175,15821,17714,21979,15950,11290,11859,13942,37554,13212,22518,13115,18991,12259,12774,13947,23226,20193,14301,23122,21655,14589,23591,6811,4520,21507,19088,7998,19455,9671,11284,18302,9895,38553,20125,19371,11967,24751,21008,11311,10445,13469,12279,14648,13424,672,33630,12829,25970,31703,12231,18978,14408,21749,14784,43305,17963,21722,14557,20148,22733,20861,16007,21723,21596,15080,17625,20197,27488,5052,17236,11178,23367,21337,16127,19869,10121,16964,17364,22925,18716,27967,13118,21644,17360,9708,32046,10622,24180,19692,18865,5042,18744,16476,15656,17451,6120,15590,18910,19528,8826,10251,16546,29361,13310,16689,15137,17935,15791,12372,20812,7625,18593,21860,23628,5337,16016,15896,12388,13741,8658,16090,28043,14199,42182,19747,15765,17554,14682,18350,13973,21354,18565,14791,18603,9174,17567,17963,18194,16406,19856,15709,23418,15482,14727,13341,19081,22220,30996,13981,16582,13951,23489,31033,13958,11687,24575,5622,15670,49746,1160,5910,15676,27271,13381,16404,18206,15356,27763,479,17732,16620,17768,17255,12375,19627,16832,17631,8396,21629,17672,8859,14840,7929,21237,18148,17436,15429,15983,16588,11262,14802,17687,21885,18750,14486,11166,10594,3346,33816,25049,19293,10679,25804,21426,21814,27548,23680,26838,18323,16088,25013,16026,14371,13880,13389,20433,16791,4674,20461,16837,12697,16765,32670,18693,17104,16964,33347,14215,28188,18696,28183,16744,25994,24515,34912,1151,15738,27183,12965,13977,18728,21289,19816,20246,42251,13671,33353,10802,14878,17335,22285,28639,19787,4050,10143,13243,16889,9286,19457,7826,18611,18430,22974,11907,6040,20980,960,15698,4817,8483,20929,8377,19959,10472,20736,33989,10329,22065,29390,25153,16873,23525,8197,19384,11958,12729,22967,15814,5730,11500,5775,21114,20474,24413,43108,17323,15018,2834,15557,2412,16944,15350,11109,16810,27826,9851,2728,14951,20737,27032,17559,28987,22706,11640,4209,26358,20049,9352,838,11562,30961,13292,2092,18909,18270,20376,2746,19310,16559,4961,13604,14982,4294,14772,8678,3273,30558,19294,23449,18409,18467,19493,48352,3060,13946,21481,23091,19336,17120,18621,21730,9466,21131,13223,14883,19394,2744,19102,18998,11903,19221,20229,6609,28283,13513,15196,8584,14488,17636,19345,14288,16152,23383,40174,18812,21369,29616,14685,11702,11760,15746,9799,32651,8977,19233,11067,27245,15364,6088,10200,3998,16942,18583,5208,22764,21165,11846,14264,15593,3839,15962,24665,6783,17519,22585,17061,9753,20082,30344,8565,21448,18699,22231,20622,11683,10807,21820,14817,22061,24128,17734,18892,18603,32680,21442,24502,20894,15462,18711,20494,14366,11231,2890,19381,7325,10306,20740,22819,14805,20017,17736,14670,15494,11823,13618,34888,13026,34064,25047,18418,7844,14891,25022,2696,21572,8646,17191,30207,11372,15967,20066,19240,18458,18686,40802,11353,25109,26026,8310,15857,11511,19423,23862,12734,15567,12752,9600,11333,20639,16777,19272,492,25465,21470,7024,14621,20009,25599,20861,370,17364,8715,23131,4738,5813,13935,33234,11487,15362,0,16153,9988,17250,20274,16539,21075,9756,14175,4313,19237,20012,22027,26517,14118,6553,11141,17229,13344,19206,19450,26894,32418,29223,8210,27383,32715,17912,4205,21508,18877,15531,15373,7902,23867,14676,16212,17283,13013,20178,16058,11627,7214,22843,7332,14359,15988,21091,11507,18418,22324,14801,13846,2924,20974,26848,23036,15887,10450,19081,10687,18429,20324,18713,15402,12250,21232,4332,12172,25812,9562,33924,28369,9406,9941,42438,22433,13947,17130,12500,21066,20586,10333,16784,15976,14196,21004,21347,20194,23260,10928,17382,17495,12604,14955,11958,22372,16332,22833,15615,13655,3665,201,11390,12511,14632,19374,2972,11324,12674,17429,21420,14566,38369,13212,20351,27093,17543,14286,17828,11666,20562,16014,6088,19813,34047,26935,9673,24756,20479,17789,25011,19429,10016,17383,14815,20900,22165,14976,19446,17146,7123,17288,21266,11104,3391,20678,16963,21668,22857,39420,16023,28584,17275,11383,7619,14460,6444,20698,23974,25839,21646,25873,19697,21883,12763,15962,14545,31078,12403,18665,12913,14348,24831,23423,28001,12667,15512,25624,25392,21881,18584,19546,21529,14440,22989,32650,20518,18618,9780,20815,10548,15285,14518,14999,18940,32557,24970,16227,20338,6460,14270,18912,8327,27145,12775,12756,21634,24051,19611,23751,7077,11304,20263,10846,14733,30085,12452,17284,4137,6750,19585,38888,24299,15194,7290,10842,13700,15294,19898,29461,14427,622,26582,17580,33189,20837,10419,18666,13740,21078,26838,14763,21818,12050,19930,11596,12199,31942,14662,33068,22361,19068,25718,39930,9979,19343,9508,16811,27824,20391,37962,18858,13432,2920,6619,19316,16462,15278,20369,14587,16536,16984,20895,5024,21787,16539,15764,14134,12200,11068,14227,13074,39000,37601,23851,23747,19856,13498,17334,15578,19178,16286,19500,18473,16321,19481,15700,22928,23828,16573,13152,16089,13658,22340,22924,13617,27465,24878,19925,16217,24001,17971,9460,20665,21816,16868,22198,16473,10590,18642,12569,23721,16784,13534,7476,20423,8152,6348,26951,26803,26187,16832,14962,13107,28239,12155,5811,14259,13260,11794,15973,17260,25739,11214,23256,18984,18982,16328,20579,22770,27696,9765,15346,27195,21691,16901,17916,22774,24447,26867,21799,17969,2263,27234,11001,14775,8238,18306,2568,8761,17290,9128,14475,16363,7718,10928,12100,39893,12880,25421,12161,4942,1893,17014,4000,27574,16219,18342,7094,17347,17281,18766,11136,14468,19695,16849,14623,33259,11609,17023,15785,8908,15248,9248,23077,23380,6284,17330,16161,23989,15253,35502,13146,16080,28224,10978,22016,10605,13599,13292,4943,19514,11338,8923,16663,15987,14587,28478,21940,6676,8740,19656,17721,14041,13536,12800,18437,21421,4659,13843,17131,9117,17014,14325,13689,19974,15757,15990,9376,8336,12741,21232,8969,22293,32472,13829,12443,14124,27199,17765,20512,11355,22294,12613,11568,365,19304,2147,12667,24918,19332,19921,9766,8336,12285,19193,8644,20742,15145,15071,16820,18522,19103,38177,15472,19910,22013,25825,17918,11919,24729,10349,24994,22135,17168,26062,21835,21952,12475,21994,16779,9209,19134,37075,27402,11088,10936,13260,12098,32581,10574,16691,16034,18426,6855,25761,14659,10032,24527,9027,38910,20372,2452,28668,4926,14411,22951,21252,16796,15346,8668,25040,29317,15667,2237,15522,19295,10524,27951,24712,21221,25088,10703,8190,7023,14497,3199,16150,22326,10525,21341,30251,28290,10782,9115,8891,26679,14712,28205,1445,43931,11379,1740,12328,10272,28895,21324,24868,33038,14780,8209,11420,6266,9953,15779,6033,24878,27432,12046,26649,22264,15645,19205,32955,12398,26965,27549,21607,19504,29586,16028,20184,16722,17864,12085,5134,13247,37286,17419,21778,17719,23249,20153,23528,2922,26911,17963,13060,22710,27738,11891,14135,8378,22405,5200,9450,17315,13108,13980,20936,19407,12439,21674,9427,16125,8790,13983,19646,26404,18407,10793,9782,27163,20901,7592,15145,11114,21973,0,37111,14261,20625,25143,7637,13053,11947,25292,18660,12518,17627,16127,15802,20014,17726,14103,0,6974,17755,17254,8017,19288,19056,18254,26241,0,6334,7056,24815,18362,21299,11355,19891,13803,2292,21019,20964,24280,3865,14620,22871,14526,22329,5145,27531,11817,13085,12151,21215,17223,15835,24430,18241,28490,18021,41587,9793,17395,21408,13894,12804,23683,20347,8377,5763,19612,13053,30974,3763,21933,17700,25588,22339,19680,17595,25105,20700,11205,17767,19333,28630,26713,7510,23642,8279,9871,7545,10376,13896,16001,9126,16804,7166,17617,15783,17360,24490,25990,18051,27944,2840,17457,19439,21436,7539,15935,13796,21558,16954,21794,0,14770,8633,23242,18308,12551,14806,15180,24741,16362,6751,20456,23519,16963,15100,16681,15517,11191,22269,5576,42987,32740,22539,13640,10599,3513,10984,26271,14143,14102,14257,15692,12766,12273,16003,12455,17281,19013,15612,28381,22500,29374,14379,13872,17969,19152,23847,18408,14121,29488,21327,657,24726,14928,16068,16188,19459,23166,17087,23558,16133,6288,17906,11259,3871,19608,6591,9296,21392,25615,25138,6431,21493,7957,28900,24550,12936,9263,16869,29289,12643,22574,25014,27306,10007,12404,15697,25107,17415,670,21522,18449,20134,1989,19211,11409,18611,16902,12971,20544,15670,25004,17250,25209,12411,14154,21693,21627,17956,10204,24969,13996,14706,31566,25041,14006,22763,10278,12757,17333,21871,20161,22440,15109,19685,10780,7819,8508,20479,28914,14600,10170,20527,5291,13830,10272,15288,9193,4134,6949,20425,20431,8314,11348,10968,15044,19808,14457,16463,16140,9050,19055,16934,20680,13229,15327,29923,14627,18147,16597,14303,4354,14737,22978,22230,23749,28639,12311,15887,20046,26830,33273,21286,15570,14464,22986,42735,12233,31507,35034,8305,8070,22741,15216,20295,17885,10672,15414,7041,9038,17414,6633,15604,20142,1316,14754,22527,18429,3140,539,14037,16684,12116,20826,19036,15119,23445,23116,13280,7384,16669,18698,18652,21428,36497,18838,24937,23487,17199,20102,4987,16602,12270,11953,17655,10495,11617,25859,13519,9778,18945,12852,36266,10295,16077,22861,19798,12972,16626,11009,15775,9867,20154,11864,16664,10435,22454,958,27231,23530,8540,21355,0,21692,11598,1982,8177,16555,19497,32528,17621,18407,12458,19989,17611,6058,23933,19000,20216,15987,15371,17449,22592,20398,12469,20223,8674,16351,15708,33527,23574,8289,2861,18433,19660,23499,12003,15941,4442,15375,1456,17957,17403,15826,17988,24623,21133,13560,13461,20607,16952,10894,18576,24092,19223,11411,25064,11413,13495,35498,19981,13012,22705,3083,13890,0,26316,29724,18802,11662,16022,8495,21170,12532,19424,11522,15267,17073,17495,18806,10739,18659,23710,11369,23427,24752,16154,16071,11601,20088,11774,35178,440,13573,25065,19684,27426,15660,2300,6967,9696,14193,20300,26526,18554,4695,16139,10421,13758,19922,21008,11990,16985,4720,16846,10909,8503,17915,15976,23370,43575,12123,4547,4347,14138,13719,14130,8252,21620,20571,15511,34556,20040,10648,3561,18136,14234,19633,17266,17135,18668,20198,17353,11584,26771,26788,19919,14445,19280,11504,1176,8701,26656,27797,19449,15419,12281,9791,11684,11770,408,31015,12625,23189,17107,12763,16674,42627,22010,3148,20085,17989,19183,4830,18412,5578,7497,18100,13433,13545,16690,18383,16504,7695,21277,16294,15891,8673,21915,24096,13180,18459,24933,17609,15213,22783,28600,13175,4437,5950,28084,42039,24853,12197,42144,23612,16045,14038,20004,15438,12500,16545,19255,14473,16617,20480,21938,18081,18209,28776,19913,17221,21098,8779,17600,19450,19374,31266,23057,14796,16456,15356,11063,27387,13907,20406,24869,21645,18213,23526,39196,18243,18053,4333,15812,9958,29724,20891,18306,1810,20653,8962,14036,20967,23877,11500,26395,13557,27628,10243,24978,21618,10122,5427,8898,12612,19477,26381,22152,24408,21464,10786,20299,7456,25114,43325,14551,20878,7568,2241,16032,23314,17763,23161,21896,14496,19377,14808,18246,33702,21925,9757,8853,27139,19795,21046,26892,20128,14564,4718,5182,23026,18545,22498,21316,22021,14436,21542,16527,21086,24082,14525,14198,8964,11438,14510,15158,22480,32625,16931,24708,27783,15874,23212,16678,12136,19411,23218,3771,17477,8417,18334,18384,24779,15724,37823,16081,13937,21653,20319,2412,18911,10691,14604,12450,18328,29072,18258,22679,11968,20405,12995,15616,17082,14022,18709,1844,32050,17167,45181,21710,17241,15579,9032,18448,20701,33886,9804,10543,18911,7512,11397,13056,15730,21617,7136,10880,1850,19672,5529,22636,11963,33903,15108,21934,7717,12840,17241,36181,10944,12283,28678,3805,19445,14997,13362,23389,16303,20699,12100,17028,15773,31194,23234,11425,5209,18444,26019,16556,13067,13122,11787,19864,36878,19214,19819,31015,11438,13773,11446,33383,11277,17947,23447,17985,17407,12925,18111,11551,17071,2124,16914,17161,21103,17753,20944,11265,15586,19464,21850,22621,8971,16296,7653,2450,14156,9667,29302,19013,6378,13679,18475,31564,14170,23682,20636,12942,17230,15614,19664,20224,26524,9536,18735,11190,19594,8947,11148,15170,6976,13217,25100,17857,16785,24764,17171,11054,13260,11723,13495,25482,8414,28648,17856,7518,18123,15680,19830,23045,13296,16853,27350,15676,10231,25212,29499,25000,15790,21197,9081,16702,19438,20028,13464,14846,13670,15878,23537,10757,21591,34709,18915,20208,22854,18411,9869,10824,18843,13997,36629,13674,24155,23062,6561,18444,12783,11212,15433,14600,12096,15663,19132,13345,22269,8787,20000,25301,5289,20870,11326,2622,19891,15602,21428,21958,29739,7414,24620,22366,18931,26254,16614,6445,7659,11793,35343,8449,11925,13301,4081,25837,2860,10684,28155,17279,33045,11311,20646,14134,13835,16218,12494,24365,2290,18846,13779,15261,1620,19022,17845,22071,22428,11100,16646,18234,6675,14477,7952,20903,10857,31899,14912,22535,19172,0,2244,7715,30545,5439,20413,17035,3310,12467,21729,13966,19273,18475,5185,16459,5998,16834,13587,29555,15478,15217,22456,8857,22108,28937,13868,10518,22165,13643,15239,16471,13738,23760,26115,27208,23220,16089,18679,14199,2962,15191,22222,14139,44297,19639,21672,14084,25867,19006,9346,18780,12905,42321,40737,26756,16416,4061,11700,14104,9217,7723,17278,27752,18080,21225,26865,17492,19868,13547,10289,11051,16062,17538,26095,21724,20899,20898,13313,21071,24118,18539,12634,8799,17901,13105,23807,0,8224,36992,13716,18476,15830,25126,14797,11237,15168,8061,12438,15607,21944,16632,12716,15475,30671,23124,9818,23415,13752,14194,12584,20098,528,14948,24341,22498,17110,25212,16179,21978,14740,14063,8970,16890,11348,25562,5109,20974,16563,31113,16378,17803,11468,28612,18135,15614,14751,19438,23606,10411,30417,10467,28652,16668,3695,8623,14670,14070,16368,15925,26141,13685,13667,29652,7155,18527,16928,8643,22314,18889,21497,13830,13664,29018,14831,7104,17273,18051,16189,15483,738,8308,14302,14545,23953,0,17188,17760,16324,18377,16082,23298,17736,10025,11431,11986,9040,29290,7016,24433,19012,15873,12479,10530,31922,14702,19957,17135,3171,13616,2614,16836,15235,9125,4300,14643,27304,12707,20721,13905,11357,13888,18295,27210,12559,20520,531,13400,25790,5157,16861,34297,15403,28396,6196,19356,10711,15891,16627,17724,17963,15141,9632,17919,38798,26097,25307,18833,17477,16507,13864,11779,18149,18152,8140,9503,14804,12446,16983,15527,1444,11997,19316,37383,6940,18790,8228,13130,15259,17591,16319,22787,13159,14165,14675,16810,21107,17141,27432,20954,18828,15786,30633,15571,12406,19864,21996,21376,21323,27874,6557,11261,26118,21223,14951,28074,25311,15244,26607,9608,4692,9697,12415,18405,11796,9433,14858,16543,13249,20735,16282,17425,20995,17715,20126,15749,11712,30467,23611,10859,5178,18000,30550,14153,14105,14346,4299,17788,35125,3276,13974,31240,29481],\"yaxis\":\"y\",\"type\":\"scattergl\"}],                        {\"template\":{\"data\":{\"bar\":[{\"error_x\":{\"color\":\"#2a3f5f\"},\"error_y\":{\"color\":\"#2a3f5f\"},\"marker\":{\"line\":{\"color\":\"#E5ECF6\",\"width\":0.5},\"pattern\":{\"fillmode\":\"overlay\",\"size\":10,\"solidity\":0.2}},\"type\":\"bar\"}],\"barpolar\":[{\"marker\":{\"line\":{\"color\":\"#E5ECF6\",\"width\":0.5},\"pattern\":{\"fillmode\":\"overlay\",\"size\":10,\"solidity\":0.2}},\"type\":\"barpolar\"}],\"carpet\":[{\"aaxis\":{\"endlinecolor\":\"#2a3f5f\",\"gridcolor\":\"white\",\"linecolor\":\"white\",\"minorgridcolor\":\"white\",\"startlinecolor\":\"#2a3f5f\"},\"baxis\":{\"endlinecolor\":\"#2a3f5f\",\"gridcolor\":\"white\",\"linecolor\":\"white\",\"minorgridcolor\":\"white\",\"startlinecolor\":\"#2a3f5f\"},\"type\":\"carpet\"}],\"choropleth\":[{\"colorbar\":{\"outlinewidth\":0,\"ticks\":\"\"},\"type\":\"choropleth\"}],\"contour\":[{\"colorbar\":{\"outlinewidth\":0,\"ticks\":\"\"},\"colorscale\":[[0.0,\"#0d0887\"],[0.1111111111111111,\"#46039f\"],[0.2222222222222222,\"#7201a8\"],[0.3333333333333333,\"#9c179e\"],[0.4444444444444444,\"#bd3786\"],[0.5555555555555556,\"#d8576b\"],[0.6666666666666666,\"#ed7953\"],[0.7777777777777778,\"#fb9f3a\"],[0.8888888888888888,\"#fdca26\"],[1.0,\"#f0f921\"]],\"type\":\"contour\"}],\"contourcarpet\":[{\"colorbar\":{\"outlinewidth\":0,\"ticks\":\"\"},\"type\":\"contourcarpet\"}],\"heatmap\":[{\"colorbar\":{\"outlinewidth\":0,\"ticks\":\"\"},\"colorscale\":[[0.0,\"#0d0887\"],[0.1111111111111111,\"#46039f\"],[0.2222222222222222,\"#7201a8\"],[0.3333333333333333,\"#9c179e\"],[0.4444444444444444,\"#bd3786\"],[0.5555555555555556,\"#d8576b\"],[0.6666666666666666,\"#ed7953\"],[0.7777777777777778,\"#fb9f3a\"],[0.8888888888888888,\"#fdca26\"],[1.0,\"#f0f921\"]],\"type\":\"heatmap\"}],\"heatmapgl\":[{\"colorbar\":{\"outlinewidth\":0,\"ticks\":\"\"},\"colorscale\":[[0.0,\"#0d0887\"],[0.1111111111111111,\"#46039f\"],[0.2222222222222222,\"#7201a8\"],[0.3333333333333333,\"#9c179e\"],[0.4444444444444444,\"#bd3786\"],[0.5555555555555556,\"#d8576b\"],[0.6666666666666666,\"#ed7953\"],[0.7777777777777778,\"#fb9f3a\"],[0.8888888888888888,\"#fdca26\"],[1.0,\"#f0f921\"]],\"type\":\"heatmapgl\"}],\"histogram\":[{\"marker\":{\"pattern\":{\"fillmode\":\"overlay\",\"size\":10,\"solidity\":0.2}},\"type\":\"histogram\"}],\"histogram2d\":[{\"colorbar\":{\"outlinewidth\":0,\"ticks\":\"\"},\"colorscale\":[[0.0,\"#0d0887\"],[0.1111111111111111,\"#46039f\"],[0.2222222222222222,\"#7201a8\"],[0.3333333333333333,\"#9c179e\"],[0.4444444444444444,\"#bd3786\"],[0.5555555555555556,\"#d8576b\"],[0.6666666666666666,\"#ed7953\"],[0.7777777777777778,\"#fb9f3a\"],[0.8888888888888888,\"#fdca26\"],[1.0,\"#f0f921\"]],\"type\":\"histogram2d\"}],\"histogram2dcontour\":[{\"colorbar\":{\"outlinewidth\":0,\"ticks\":\"\"},\"colorscale\":[[0.0,\"#0d0887\"],[0.1111111111111111,\"#46039f\"],[0.2222222222222222,\"#7201a8\"],[0.3333333333333333,\"#9c179e\"],[0.4444444444444444,\"#bd3786\"],[0.5555555555555556,\"#d8576b\"],[0.6666666666666666,\"#ed7953\"],[0.7777777777777778,\"#fb9f3a\"],[0.8888888888888888,\"#fdca26\"],[1.0,\"#f0f921\"]],\"type\":\"histogram2dcontour\"}],\"mesh3d\":[{\"colorbar\":{\"outlinewidth\":0,\"ticks\":\"\"},\"type\":\"mesh3d\"}],\"parcoords\":[{\"line\":{\"colorbar\":{\"outlinewidth\":0,\"ticks\":\"\"}},\"type\":\"parcoords\"}],\"pie\":[{\"automargin\":true,\"type\":\"pie\"}],\"scatter\":[{\"marker\":{\"colorbar\":{\"outlinewidth\":0,\"ticks\":\"\"}},\"type\":\"scatter\"}],\"scatter3d\":[{\"line\":{\"colorbar\":{\"outlinewidth\":0,\"ticks\":\"\"}},\"marker\":{\"colorbar\":{\"outlinewidth\":0,\"ticks\":\"\"}},\"type\":\"scatter3d\"}],\"scattercarpet\":[{\"marker\":{\"colorbar\":{\"outlinewidth\":0,\"ticks\":\"\"}},\"type\":\"scattercarpet\"}],\"scattergeo\":[{\"marker\":{\"colorbar\":{\"outlinewidth\":0,\"ticks\":\"\"}},\"type\":\"scattergeo\"}],\"scattergl\":[{\"marker\":{\"colorbar\":{\"outlinewidth\":0,\"ticks\":\"\"}},\"type\":\"scattergl\"}],\"scattermapbox\":[{\"marker\":{\"colorbar\":{\"outlinewidth\":0,\"ticks\":\"\"}},\"type\":\"scattermapbox\"}],\"scatterpolar\":[{\"marker\":{\"colorbar\":{\"outlinewidth\":0,\"ticks\":\"\"}},\"type\":\"scatterpolar\"}],\"scatterpolargl\":[{\"marker\":{\"colorbar\":{\"outlinewidth\":0,\"ticks\":\"\"}},\"type\":\"scatterpolargl\"}],\"scatterternary\":[{\"marker\":{\"colorbar\":{\"outlinewidth\":0,\"ticks\":\"\"}},\"type\":\"scatterternary\"}],\"surface\":[{\"colorbar\":{\"outlinewidth\":0,\"ticks\":\"\"},\"colorscale\":[[0.0,\"#0d0887\"],[0.1111111111111111,\"#46039f\"],[0.2222222222222222,\"#7201a8\"],[0.3333333333333333,\"#9c179e\"],[0.4444444444444444,\"#bd3786\"],[0.5555555555555556,\"#d8576b\"],[0.6666666666666666,\"#ed7953\"],[0.7777777777777778,\"#fb9f3a\"],[0.8888888888888888,\"#fdca26\"],[1.0,\"#f0f921\"]],\"type\":\"surface\"}],\"table\":[{\"cells\":{\"fill\":{\"color\":\"#EBF0F8\"},\"line\":{\"color\":\"white\"}},\"header\":{\"fill\":{\"color\":\"#C8D4E3\"},\"line\":{\"color\":\"white\"}},\"type\":\"table\"}]},\"layout\":{\"annotationdefaults\":{\"arrowcolor\":\"#2a3f5f\",\"arrowhead\":0,\"arrowwidth\":1},\"autotypenumbers\":\"strict\",\"coloraxis\":{\"colorbar\":{\"outlinewidth\":0,\"ticks\":\"\"}},\"colorscale\":{\"diverging\":[[0,\"#8e0152\"],[0.1,\"#c51b7d\"],[0.2,\"#de77ae\"],[0.3,\"#f1b6da\"],[0.4,\"#fde0ef\"],[0.5,\"#f7f7f7\"],[0.6,\"#e6f5d0\"],[0.7,\"#b8e186\"],[0.8,\"#7fbc41\"],[0.9,\"#4d9221\"],[1,\"#276419\"]],\"sequential\":[[0.0,\"#0d0887\"],[0.1111111111111111,\"#46039f\"],[0.2222222222222222,\"#7201a8\"],[0.3333333333333333,\"#9c179e\"],[0.4444444444444444,\"#bd3786\"],[0.5555555555555556,\"#d8576b\"],[0.6666666666666666,\"#ed7953\"],[0.7777777777777778,\"#fb9f3a\"],[0.8888888888888888,\"#fdca26\"],[1.0,\"#f0f921\"]],\"sequentialminus\":[[0.0,\"#0d0887\"],[0.1111111111111111,\"#46039f\"],[0.2222222222222222,\"#7201a8\"],[0.3333333333333333,\"#9c179e\"],[0.4444444444444444,\"#bd3786\"],[0.5555555555555556,\"#d8576b\"],[0.6666666666666666,\"#ed7953\"],[0.7777777777777778,\"#fb9f3a\"],[0.8888888888888888,\"#fdca26\"],[1.0,\"#f0f921\"]]},\"colorway\":[\"#636efa\",\"#EF553B\",\"#00cc96\",\"#ab63fa\",\"#FFA15A\",\"#19d3f3\",\"#FF6692\",\"#B6E880\",\"#FF97FF\",\"#FECB52\"],\"font\":{\"color\":\"#2a3f5f\"},\"geo\":{\"bgcolor\":\"white\",\"lakecolor\":\"white\",\"landcolor\":\"#E5ECF6\",\"showlakes\":true,\"showland\":true,\"subunitcolor\":\"white\"},\"hoverlabel\":{\"align\":\"left\"},\"hovermode\":\"closest\",\"mapbox\":{\"style\":\"light\"},\"paper_bgcolor\":\"white\",\"plot_bgcolor\":\"#E5ECF6\",\"polar\":{\"angularaxis\":{\"gridcolor\":\"white\",\"linecolor\":\"white\",\"ticks\":\"\"},\"bgcolor\":\"#E5ECF6\",\"radialaxis\":{\"gridcolor\":\"white\",\"linecolor\":\"white\",\"ticks\":\"\"}},\"scene\":{\"xaxis\":{\"backgroundcolor\":\"#E5ECF6\",\"gridcolor\":\"white\",\"gridwidth\":2,\"linecolor\":\"white\",\"showbackground\":true,\"ticks\":\"\",\"zerolinecolor\":\"white\"},\"yaxis\":{\"backgroundcolor\":\"#E5ECF6\",\"gridcolor\":\"white\",\"gridwidth\":2,\"linecolor\":\"white\",\"showbackground\":true,\"ticks\":\"\",\"zerolinecolor\":\"white\"},\"zaxis\":{\"backgroundcolor\":\"#E5ECF6\",\"gridcolor\":\"white\",\"gridwidth\":2,\"linecolor\":\"white\",\"showbackground\":true,\"ticks\":\"\",\"zerolinecolor\":\"white\"}},\"shapedefaults\":{\"line\":{\"color\":\"#2a3f5f\"}},\"ternary\":{\"aaxis\":{\"gridcolor\":\"white\",\"linecolor\":\"white\",\"ticks\":\"\"},\"baxis\":{\"gridcolor\":\"white\",\"linecolor\":\"white\",\"ticks\":\"\"},\"bgcolor\":\"#E5ECF6\",\"caxis\":{\"gridcolor\":\"white\",\"linecolor\":\"white\",\"ticks\":\"\"}},\"title\":{\"x\":0.05},\"xaxis\":{\"automargin\":true,\"gridcolor\":\"white\",\"linecolor\":\"white\",\"ticks\":\"\",\"title\":{\"standoff\":15},\"zerolinecolor\":\"white\",\"zerolinewidth\":2},\"yaxis\":{\"automargin\":true,\"gridcolor\":\"white\",\"linecolor\":\"white\",\"ticks\":\"\",\"title\":{\"standoff\":15},\"zerolinecolor\":\"white\",\"zerolinewidth\":2}}},\"xaxis\":{\"anchor\":\"y\",\"domain\":[0.0,1.0],\"title\":{\"text\":\"messages\"}},\"yaxis\":{\"anchor\":\"x\",\"domain\":[0.0,1.0],\"title\":{\"text\":\"mb_used\"}},\"coloraxis\":{\"colorbar\":{\"title\":{\"text\":\"minutes\"}},\"colorscale\":[[0.0,\"#0d0887\"],[0.1111111111111111,\"#46039f\"],[0.2222222222222222,\"#7201a8\"],[0.3333333333333333,\"#9c179e\"],[0.4444444444444444,\"#bd3786\"],[0.5555555555555556,\"#d8576b\"],[0.6666666666666666,\"#ed7953\"],[0.7777777777777778,\"#fb9f3a\"],[0.8888888888888888,\"#fdca26\"],[1.0,\"#f0f921\"]]},\"legend\":{\"tracegroupgap\":0},\"margin\":{\"t\":60}},                        {\"responsive\": true}                    ).then(function(){\n",
              "                            \n",
              "var gd = document.getElementById('837989c8-e2e3-42af-95e9-d19cd966d486');\n",
              "var x = new MutationObserver(function (mutations, observer) {{\n",
              "        var display = window.getComputedStyle(gd).display;\n",
              "        if (!display || display === 'none') {{\n",
              "            console.log([gd, 'removed!']);\n",
              "            Plotly.purge(gd);\n",
              "            observer.disconnect();\n",
              "        }}\n",
              "}});\n",
              "\n",
              "// Listen for the removal of the full notebook cells\n",
              "var notebookContainer = gd.closest('#notebook-container');\n",
              "if (notebookContainer) {{\n",
              "    x.observe(notebookContainer, {childList: true});\n",
              "}}\n",
              "\n",
              "// Listen for the clearing of the current output cell\n",
              "var outputEl = gd.closest('.output');\n",
              "if (outputEl) {{\n",
              "    x.observe(outputEl, {childList: true});\n",
              "}}\n",
              "\n",
              "                        })                };                            </script>        </div>\n",
              "</body>\n",
              "</html>"
            ]
          },
          "metadata": {}
        }
      ],
      "source": [
        "sns.heatmap(data.corr(), vmin = -1, vmax = 1, annot = True)\n",
        "plt.show()\n",
        "fig = px.scatter(data, y = \"mb_used\", x = \"messages\", color = \"minutes\")\n",
        "fig.show(renderer = \"colab\")"
      ]
    },
    {
      "cell_type": "markdown",
      "metadata": {
        "id": "cACUO8-7m7MS"
      },
      "source": [
        "## Let's break the data into samples"
      ]
    },
    {
      "cell_type": "markdown",
      "metadata": {
        "id": "GB6TXi3am7MT"
      },
      "source": [
        "We split the general sample into training (data_train), test (data_test), after which we split the test sample into test and validation (data_valid). We divide the training and validation sets into the main features and the desired feature, and remove the desired feature from the test set."
      ]
    },
    {
      "cell_type": "code",
      "execution_count": null,
      "metadata": {
        "id": "BXFC_ej9m7MT"
      },
      "outputs": [],
      "source": [
        "data_train,data_test = train_test_split(data, test_size = 0.4, random_state = 12345)\n",
        "data_test,data_valid = train_test_split(data_test, test_size = 0.5, random_state = 12345)\n",
        "features_train = data_train.drop([\"is_ultra\"], axis = 1)\n",
        "target_train = data_train[\"is_ultra\"]\n",
        "\n",
        "features_test = data_test.drop([\"is_ultra\"], axis = 1)\n",
        "\n",
        "features_valid = data_valid.drop([\"is_ultra\"], axis = 1)\n",
        "target_valid = data_valid[\"is_ultra\"]\n",
        "#features_train,features_valid,target_train,target_valid = train_test_split(features, target, test_size = 0.3, random_state = 12345)"
      ]
    },
    {
      "cell_type": "markdown",
      "metadata": {
        "id": "4MAEQXc1m7MU"
      },
      "source": [
        "## Model exploration"
      ]
    },
    {
      "cell_type": "markdown",
      "metadata": {
        "id": "bFaLnL_1m7MU"
      },
      "source": [
        "Let's explore three models: DecisionTreeClassifier, RandomForestClassifier, LogisticRegression.\n",
        "\n",
        "\n",
        "Let's start with the DecisionTreeClassifier. With help, we will select the best parameter values ​​for the best accuracy of the model (the step value is 50, due to the need to check the performance of the code, when I tested the accuracy of the model, the step value was 1-3)."
      ]
    },
    {
      "cell_type": "code",
      "execution_count": null,
      "metadata": {
        "id": "hZ0eyqoam7MU",
        "outputId": "2403f58a-4c4d-45c3-b9ea-aa83af12dfa1",
        "colab": {
          "base_uri": "https://localhost:8080/"
        }
      },
      "outputs": [
        {
          "output_type": "stream",
          "name": "stdout",
          "text": [
            "Best Model: 0.7807153965785381 Best max depth: 52 best min_samples_leaf: 2 Best min_samples_split: 2 best max_leaf_nodes 52\n"
          ]
        }
      ],
      "source": [
        "#DecisionTreeClassifier\n",
        "best_result = 0\n",
        "best_model = None\n",
        "best_max_depth = 0\n",
        "best_min_samples_leaf = 0\n",
        "best_min_samples_split = 0\n",
        "best_max_leaf_nodes = 0\n",
        "for i in range(2,100,50):\n",
        "    for y in range(2,100,50):\n",
        "        for e in range(2,100,50):\n",
        "            for m in range(2,100,50):\n",
        "                model = DecisionTreeClassifier(max_depth = i, min_samples_leaf = y, min_samples_split = e, max_leaf_nodes = m, \n",
        "                                              random_state = 12345)\n",
        "                model.fit(features_train,target_train)\n",
        "                prediction = model.predict(features_valid)\n",
        "                result = accuracy_score(target_valid,prediction)\n",
        "                if result > best_result:\n",
        "                    best_result = result\n",
        "                    best_model = model\n",
        "                    best_max_depth = i\n",
        "                    best_min_samples_leaf = y\n",
        "                    best_min_samples_split = e\n",
        "                    best_max_leaf_nodes = m\n",
        "print(\"Best Model:\", result,\"Best max depth:\", best_max_depth,\"best min_samples_leaf:\", best_min_samples_leaf,\n",
        "      \"Best min_samples_split:\", best_min_samples_split,\"best max_leaf_nodes\",best_max_leaf_nodes )"
      ]
    },
    {
      "cell_type": "markdown",
      "metadata": {
        "id": "-ZlL0DQym7MV"
      },
      "source": [
        "As a result, the maximum accuracy of the model after all the tests that I conducted was 78.5 percent (predictions were made immediately on the validation set). Not a bad result, given the speed of model learning."
      ]
    },
    {
      "cell_type": "markdown",
      "metadata": {
        "id": "Nm-btBoWm7MV"
      },
      "source": [
        "Next, let's explore the RandomForestClassifier. Here I explored a lot more hyperparameters, unfortunately not all of them improved the model, so I had to remove them (partly because with a huge number of hyperparameters and a step of 5, all combinations of the model were trained for more than 14 hours), in the end we have a better result in comparison with the previous model equal to 80.5 percent."
      ]
    },
    {
      "cell_type": "code",
      "execution_count": null,
      "metadata": {
        "id": "lWRVbIdnm7MV",
        "outputId": "d2a484bb-04a7-4689-ccc6-3301e2d78d28",
        "colab": {
          "base_uri": "https://localhost:8080/"
        }
      },
      "outputs": [
        {
          "output_type": "stream",
          "name": "stdout",
          "text": [
            "Best Model: 0.8040435458786936 Best max depth: 52 Best n_estimators: 2 Best min_samples_split: 52 best min_samples_leaf: 2 Best max_leaf_nodes: 0 Best class_weight: None\n"
          ]
        }
      ],
      "source": [
        "#RandomForestClassifier\n",
        "best_result = 0\n",
        "best_model = None\n",
        "best_max_depth = 0\n",
        "best_n_estimators = 0\n",
        "best_min_samples_split = 0\n",
        "best_min_samples_leaf = 0\n",
        "best_max_leaf_nodes = 0\n",
        "best_class_weight = None\n",
        "for i in range(2,100,50):\n",
        "    for y in range(2,100,50):\n",
        "        for e in range(2,100,50):\n",
        "            for m in range(2,100,50):\n",
        "                model = RandomForestClassifier(max_depth = i, n_estimators = y, min_samples_split = e, min_samples_leaf = m,\n",
        "                                                      random_state = 12345)\n",
        "                model.fit(features_train, target_train)\n",
        "                prediction = model.predict(features_valid)\n",
        "                result = accuracy_score(target_valid,prediction)\n",
        "                if result > best_result:\n",
        "                    best_result = result\n",
        "                    best_model = model\n",
        "                    best_max_depth = i\n",
        "                    best_n_estimators = y\n",
        "                    best_min_samples_split = e\n",
        "                    best_min_samples_leaf = m\n",
        "print(\"Best Model:\", best_result, \"Best max depth:\", best_max_depth, \"Best n_estimators:\", best_n_estimators,\n",
        "      \"Best min_samples_split:\", best_min_samples_split, \"best min_samples_leaf:\", best_min_samples_leaf, \n",
        "     \"Best max_leaf_nodes:\", best_max_leaf_nodes, \"Best class_weight:\", best_class_weight)"
      ]
    },
    {
      "cell_type": "markdown",
      "metadata": {
        "id": "zWGRobVPm7MW"
      },
      "source": [
        "While I was waiting for the execution of the previous cell and was perplexed by the time spent on it, I was looking for ways to speed up this process, and, fortunately, I found an article on Habré, where a person explains in detail how to find the best combination of hyperparameters (in that article, by the way, the model with default hyperparameters)."
      ]
    },
    {
      "cell_type": "code",
      "execution_count": null,
      "metadata": {
        "scrolled": false,
        "id": "6JbySqi4m7MW",
        "outputId": "e327de8c-f5ee-44cb-8f18-b22527a1bf23",
        "colab": {
          "base_uri": "https://localhost:8080/"
        }
      },
      "outputs": [
        {
          "output_type": "stream",
          "name": "stdout",
          "text": [
            "Fitting 3 folds for each of 100 candidates, totalling 300 fits\n"
          ]
        },
        {
          "output_type": "execute_result",
          "data": {
            "text/plain": [
              "RandomizedSearchCV(cv=3, estimator=RandomForestClassifier(), n_iter=100,\n",
              "                   n_jobs=-1,\n",
              "                   param_distributions={'bootstrap': [True, False],\n",
              "                                        'max_depth': [1, 2, 3, 4, 5, 6, 7, 8, 9,\n",
              "                                                      10, 11, 12, 13, 14, 15,\n",
              "                                                      16, 17, 18, 19, 20, 21,\n",
              "                                                      22, 23, 24, 25, 26, 27,\n",
              "                                                      28, 29, 30, ...],\n",
              "                                        'max_features': ['log2', 'sqrt',\n",
              "                                                         'auto'],\n",
              "                                        'max_leaf_nodes': [2, 12, 22, 32, 42,\n",
              "                                                           52, 62, 72, 82, 92,\n",
              "                                                           102, 112, 122, 133,\n",
              "                                                           143, 153, 163, 173,\n",
              "                                                           183, 193,...\n",
              "                                                             183, 193, 203, 213,\n",
              "                                                             223, 233, 243, 254,\n",
              "                                                             264, 274, 284, 294, ...],\n",
              "                                        'min_samples_split': [2, 12, 22, 32, 42,\n",
              "                                                              52, 62, 72, 82,\n",
              "                                                              92, 102, 112, 122,\n",
              "                                                              133, 143, 153,\n",
              "                                                              163, 173, 183,\n",
              "                                                              193, 203, 213,\n",
              "                                                              223, 233, 243,\n",
              "                                                              254, 264, 274,\n",
              "                                                              284, 294, ...],\n",
              "                                        'n_estimators': [100, 100, 101, 102,\n",
              "                                                         103, 104, 105, 106,\n",
              "                                                         107, 108, 109, 109,\n",
              "                                                         110, 111, 112, 113,\n",
              "                                                         114, 115, 116, 117,\n",
              "                                                         118, 118, 119, 120,\n",
              "                                                         121, 122, 123, 124,\n",
              "                                                         125, 126, ...]},\n",
              "                   random_state=0, verbose=1)"
            ]
          },
          "metadata": {},
          "execution_count": 8
        }
      ],
      "source": [
        "from sklearn.model_selection import RandomizedSearchCV\n",
        "import numpy as np\n",
        "model = RandomForestClassifier()\n",
        "model.fit(features_train,target_train)\n",
        "\n",
        "n_estimators = [int(x) for x in np.linspace(start = 100, stop = 1000, num = 1000)]\n",
        "max_features = ['log2', 'sqrt', \"auto\"]\n",
        "max_depth = [int(x) for x in np.linspace(start = 1, stop = 1000, num = 1000)]\n",
        "min_samples_split = [int(x) for x in np.linspace(start = 2, stop = 1000, num = 100)]\n",
        "min_samples_leaf = [int(x) for x in np.linspace(start = 2, stop = 1000, num = 100)]\n",
        "max_leaf_nodes = [int(x) for x in np.linspace(start = 2, stop = 1000, num = 100)]\n",
        "#min_impurity_decrease = [x for x in range(0, 100, 7.5)]\n",
        "max_samples = [int(x) for x in np.linspace(start = 1, stop = 1000, num = 100)]\n",
        "class_weight = [\"balanced\",\"balanced_subsample\"]\n",
        "bootstrap = [True, False]\n",
        "param_dist = {'n_estimators': n_estimators,\n",
        "               'max_features': max_features,\n",
        "               'max_depth': max_depth,\n",
        "               'min_samples_split': min_samples_split,\n",
        "               'min_samples_leaf': min_samples_leaf,\n",
        "               'bootstrap': bootstrap,\n",
        "                \"max_leaf_nodes\" : max_leaf_nodes}\n",
        "rs = RandomizedSearchCV(model, \n",
        "                        param_dist, \n",
        "                        n_iter = 100, \n",
        "                        cv = 3, \n",
        "                        verbose = 1, \n",
        "                        n_jobs=-1, \n",
        "                        random_state=0)\n",
        "rs.fit(features_train, target_train)"
      ]
    },
    {
      "cell_type": "code",
      "execution_count": null,
      "metadata": {
        "id": "tpKPpwyXm7MW",
        "outputId": "351cb9b0-8bed-4f10-c95d-f6b75534e06d",
        "colab": {
          "base_uri": "https://localhost:8080/",
          "height": 363
        }
      },
      "outputs": [
        {
          "output_type": "execute_result",
          "data": {
            "text/plain": [
              "  param_n_estimators param_min_samples_split param_min_samples_leaf  \\\n",
              "0                271                     455                     22   \n",
              "1                863                      42                     12   \n",
              "2                604                     919                     22   \n",
              "3                168                     415                     62   \n",
              "4                973                     596                     62   \n",
              "5                674                     838                     92   \n",
              "6                609                     586                    122   \n",
              "7                702                     274                    112   \n",
              "8                819                     627                     82   \n",
              "9                261                     385                     92   \n",
              "\n",
              "  param_max_leaf_nodes param_max_features param_max_depth param_bootstrap  \\\n",
              "0                  717               auto             174            True   \n",
              "1                  374               auto             997            True   \n",
              "2                  778               sqrt             528           False   \n",
              "3                  536               sqrt             244           False   \n",
              "4                  344               auto             913            True   \n",
              "5                  163               sqrt             462           False   \n",
              "6                  818               log2              83           False   \n",
              "7                  637               log2             270           False   \n",
              "8                  778               auto             133           False   \n",
              "9                  949               sqrt             840           False   \n",
              "\n",
              "   mean_test_score  rank_test_score  \n",
              "0         0.804983                1  \n",
              "1         0.804981                2  \n",
              "2         0.801350                3  \n",
              "3         0.787852                4  \n",
              "4         0.786827                5  \n",
              "5         0.783712                6  \n",
              "6         0.782679                7  \n",
              "7         0.782678                8  \n",
              "8         0.782674                9  \n",
              "9         0.776962               10  "
            ],
            "text/html": [
              "\n",
              "  <div id=\"df-80d6daee-1509-44a8-83cc-6949831f9bef\">\n",
              "    <div class=\"colab-df-container\">\n",
              "      <div>\n",
              "<style scoped>\n",
              "    .dataframe tbody tr th:only-of-type {\n",
              "        vertical-align: middle;\n",
              "    }\n",
              "\n",
              "    .dataframe tbody tr th {\n",
              "        vertical-align: top;\n",
              "    }\n",
              "\n",
              "    .dataframe thead th {\n",
              "        text-align: right;\n",
              "    }\n",
              "</style>\n",
              "<table border=\"1\" class=\"dataframe\">\n",
              "  <thead>\n",
              "    <tr style=\"text-align: right;\">\n",
              "      <th></th>\n",
              "      <th>param_n_estimators</th>\n",
              "      <th>param_min_samples_split</th>\n",
              "      <th>param_min_samples_leaf</th>\n",
              "      <th>param_max_leaf_nodes</th>\n",
              "      <th>param_max_features</th>\n",
              "      <th>param_max_depth</th>\n",
              "      <th>param_bootstrap</th>\n",
              "      <th>mean_test_score</th>\n",
              "      <th>rank_test_score</th>\n",
              "    </tr>\n",
              "  </thead>\n",
              "  <tbody>\n",
              "    <tr>\n",
              "      <th>0</th>\n",
              "      <td>271</td>\n",
              "      <td>455</td>\n",
              "      <td>22</td>\n",
              "      <td>717</td>\n",
              "      <td>auto</td>\n",
              "      <td>174</td>\n",
              "      <td>True</td>\n",
              "      <td>0.804983</td>\n",
              "      <td>1</td>\n",
              "    </tr>\n",
              "    <tr>\n",
              "      <th>1</th>\n",
              "      <td>863</td>\n",
              "      <td>42</td>\n",
              "      <td>12</td>\n",
              "      <td>374</td>\n",
              "      <td>auto</td>\n",
              "      <td>997</td>\n",
              "      <td>True</td>\n",
              "      <td>0.804981</td>\n",
              "      <td>2</td>\n",
              "    </tr>\n",
              "    <tr>\n",
              "      <th>2</th>\n",
              "      <td>604</td>\n",
              "      <td>919</td>\n",
              "      <td>22</td>\n",
              "      <td>778</td>\n",
              "      <td>sqrt</td>\n",
              "      <td>528</td>\n",
              "      <td>False</td>\n",
              "      <td>0.801350</td>\n",
              "      <td>3</td>\n",
              "    </tr>\n",
              "    <tr>\n",
              "      <th>3</th>\n",
              "      <td>168</td>\n",
              "      <td>415</td>\n",
              "      <td>62</td>\n",
              "      <td>536</td>\n",
              "      <td>sqrt</td>\n",
              "      <td>244</td>\n",
              "      <td>False</td>\n",
              "      <td>0.787852</td>\n",
              "      <td>4</td>\n",
              "    </tr>\n",
              "    <tr>\n",
              "      <th>4</th>\n",
              "      <td>973</td>\n",
              "      <td>596</td>\n",
              "      <td>62</td>\n",
              "      <td>344</td>\n",
              "      <td>auto</td>\n",
              "      <td>913</td>\n",
              "      <td>True</td>\n",
              "      <td>0.786827</td>\n",
              "      <td>5</td>\n",
              "    </tr>\n",
              "    <tr>\n",
              "      <th>5</th>\n",
              "      <td>674</td>\n",
              "      <td>838</td>\n",
              "      <td>92</td>\n",
              "      <td>163</td>\n",
              "      <td>sqrt</td>\n",
              "      <td>462</td>\n",
              "      <td>False</td>\n",
              "      <td>0.783712</td>\n",
              "      <td>6</td>\n",
              "    </tr>\n",
              "    <tr>\n",
              "      <th>6</th>\n",
              "      <td>609</td>\n",
              "      <td>586</td>\n",
              "      <td>122</td>\n",
              "      <td>818</td>\n",
              "      <td>log2</td>\n",
              "      <td>83</td>\n",
              "      <td>False</td>\n",
              "      <td>0.782679</td>\n",
              "      <td>7</td>\n",
              "    </tr>\n",
              "    <tr>\n",
              "      <th>7</th>\n",
              "      <td>702</td>\n",
              "      <td>274</td>\n",
              "      <td>112</td>\n",
              "      <td>637</td>\n",
              "      <td>log2</td>\n",
              "      <td>270</td>\n",
              "      <td>False</td>\n",
              "      <td>0.782678</td>\n",
              "      <td>8</td>\n",
              "    </tr>\n",
              "    <tr>\n",
              "      <th>8</th>\n",
              "      <td>819</td>\n",
              "      <td>627</td>\n",
              "      <td>82</td>\n",
              "      <td>778</td>\n",
              "      <td>auto</td>\n",
              "      <td>133</td>\n",
              "      <td>False</td>\n",
              "      <td>0.782674</td>\n",
              "      <td>9</td>\n",
              "    </tr>\n",
              "    <tr>\n",
              "      <th>9</th>\n",
              "      <td>261</td>\n",
              "      <td>385</td>\n",
              "      <td>92</td>\n",
              "      <td>949</td>\n",
              "      <td>sqrt</td>\n",
              "      <td>840</td>\n",
              "      <td>False</td>\n",
              "      <td>0.776962</td>\n",
              "      <td>10</td>\n",
              "    </tr>\n",
              "  </tbody>\n",
              "</table>\n",
              "</div>\n",
              "      <button class=\"colab-df-convert\" onclick=\"convertToInteractive('df-80d6daee-1509-44a8-83cc-6949831f9bef')\"\n",
              "              title=\"Convert this dataframe to an interactive table.\"\n",
              "              style=\"display:none;\">\n",
              "        \n",
              "  <svg xmlns=\"http://www.w3.org/2000/svg\" height=\"24px\"viewBox=\"0 0 24 24\"\n",
              "       width=\"24px\">\n",
              "    <path d=\"M0 0h24v24H0V0z\" fill=\"none\"/>\n",
              "    <path d=\"M18.56 5.44l.94 2.06.94-2.06 2.06-.94-2.06-.94-.94-2.06-.94 2.06-2.06.94zm-11 1L8.5 8.5l.94-2.06 2.06-.94-2.06-.94L8.5 2.5l-.94 2.06-2.06.94zm10 10l.94 2.06.94-2.06 2.06-.94-2.06-.94-.94-2.06-.94 2.06-2.06.94z\"/><path d=\"M17.41 7.96l-1.37-1.37c-.4-.4-.92-.59-1.43-.59-.52 0-1.04.2-1.43.59L10.3 9.45l-7.72 7.72c-.78.78-.78 2.05 0 2.83L4 21.41c.39.39.9.59 1.41.59.51 0 1.02-.2 1.41-.59l7.78-7.78 2.81-2.81c.8-.78.8-2.07 0-2.86zM5.41 20L4 18.59l7.72-7.72 1.47 1.35L5.41 20z\"/>\n",
              "  </svg>\n",
              "      </button>\n",
              "      \n",
              "  <style>\n",
              "    .colab-df-container {\n",
              "      display:flex;\n",
              "      flex-wrap:wrap;\n",
              "      gap: 12px;\n",
              "    }\n",
              "\n",
              "    .colab-df-convert {\n",
              "      background-color: #E8F0FE;\n",
              "      border: none;\n",
              "      border-radius: 50%;\n",
              "      cursor: pointer;\n",
              "      display: none;\n",
              "      fill: #1967D2;\n",
              "      height: 32px;\n",
              "      padding: 0 0 0 0;\n",
              "      width: 32px;\n",
              "    }\n",
              "\n",
              "    .colab-df-convert:hover {\n",
              "      background-color: #E2EBFA;\n",
              "      box-shadow: 0px 1px 2px rgba(60, 64, 67, 0.3), 0px 1px 3px 1px rgba(60, 64, 67, 0.15);\n",
              "      fill: #174EA6;\n",
              "    }\n",
              "\n",
              "    [theme=dark] .colab-df-convert {\n",
              "      background-color: #3B4455;\n",
              "      fill: #D2E3FC;\n",
              "    }\n",
              "\n",
              "    [theme=dark] .colab-df-convert:hover {\n",
              "      background-color: #434B5C;\n",
              "      box-shadow: 0px 1px 3px 1px rgba(0, 0, 0, 0.15);\n",
              "      filter: drop-shadow(0px 1px 2px rgba(0, 0, 0, 0.3));\n",
              "      fill: #FFFFFF;\n",
              "    }\n",
              "  </style>\n",
              "\n",
              "      <script>\n",
              "        const buttonEl =\n",
              "          document.querySelector('#df-80d6daee-1509-44a8-83cc-6949831f9bef button.colab-df-convert');\n",
              "        buttonEl.style.display =\n",
              "          google.colab.kernel.accessAllowed ? 'block' : 'none';\n",
              "\n",
              "        async function convertToInteractive(key) {\n",
              "          const element = document.querySelector('#df-80d6daee-1509-44a8-83cc-6949831f9bef');\n",
              "          const dataTable =\n",
              "            await google.colab.kernel.invokeFunction('convertToInteractive',\n",
              "                                                     [key], {});\n",
              "          if (!dataTable) return;\n",
              "\n",
              "          const docLinkHtml = 'Like what you see? Visit the ' +\n",
              "            '<a target=\"_blank\" href=https://colab.research.google.com/notebooks/data_table.ipynb>data table notebook</a>'\n",
              "            + ' to learn more about interactive tables.';\n",
              "          element.innerHTML = '';\n",
              "          dataTable['output_type'] = 'display_data';\n",
              "          await google.colab.output.renderOutput(dataTable, element);\n",
              "          const docLink = document.createElement('div');\n",
              "          docLink.innerHTML = docLinkHtml;\n",
              "          element.appendChild(docLink);\n",
              "        }\n",
              "      </script>\n",
              "    </div>\n",
              "  </div>\n",
              "  "
            ]
          },
          "metadata": {},
          "execution_count": 9
        }
      ],
      "source": [
        "#Summarize the results in a table, sorting by model accuracy and deleting unnecessary columns\n",
        "rs_df = pd.DataFrame(rs.cv_results_).sort_values(\"rank_test_score\").reset_index(drop = True)\n",
        "rs_df = rs_df.drop([\n",
        "    \"mean_fit_time\",\n",
        "    \"std_fit_time\",\n",
        "    \"mean_score_time\",\n",
        "    \"std_score_time\",\n",
        "    \"params\",\n",
        "    \"split0_test_score\",\n",
        "    \"split1_test_score\",\n",
        "    \"split2_test_score\",\n",
        "    \"std_test_score\"],\n",
        "    axis = 1)\n",
        "rs_df.head(10)"
      ]
    },
    {
      "cell_type": "code",
      "execution_count": null,
      "metadata": {
        "id": "vDGaEKoQm7MX",
        "outputId": "d191fda6-3594-4041-e7a9-8b50775c6645",
        "colab": {
          "base_uri": "https://localhost:8080/"
        }
      },
      "outputs": [
        {
          "output_type": "stream",
          "name": "stdout",
          "text": [
            "Model accuracy on test selection: 0.8298755186721992\n"
          ]
        }
      ],
      "source": [
        "#Pass the best combination of model hyperparameters\n",
        "model = RandomForestClassifier(criterion = \"gini\", bootstrap = True, n_estimators = 863, max_features = \"auto\", max_depth = 997, min_samples_leaf = 12, min_samples_split = 42, \n",
        "                               max_leaf_nodes = 374, random_state = 12345)\n",
        "model.fit(features_train,target_train)\n",
        "predictions = model.predict(features_train)\n",
        "print(\"Model accuracy on test selection:\", accuracy_score(target_train,predictions))"
      ]
    },
    {
      "cell_type": "markdown",
      "metadata": {
        "id": "XiHX73PEm7MX"
      },
      "source": [
        "The last thing to check is the LogisticRegression. It has so many hyperparameters, and in general, I found it gives the best accuracy with this sample with default hyperparameters. The accuracy itself leaves much to be desired, only 74 percent, but quickly)"
      ]
    },
    {
      "cell_type": "code",
      "execution_count": null,
      "metadata": {
        "scrolled": false,
        "id": "J8RPbfUnm7MX",
        "outputId": "1c94dad0-9b9b-40c6-c30b-e7ef255f2157",
        "colab": {
          "base_uri": "https://localhost:8080/"
        }
      },
      "outputs": [
        {
          "output_type": "stream",
          "name": "stdout",
          "text": [
            "Best Model: 0.7402799377916018 Better intercept_scaling: 0 Best max_iter: 100\n",
            "0.6982892690513219\n"
          ]
        }
      ],
      "source": [
        "#LogisticRegression\n",
        "best_result = 0\n",
        "best_model = None\n",
        "best_intercept_scaling = 0\n",
        "best_max_iter = 0\n",
        "for i in range(1,300,10):\n",
        "    for y in range(100,400,10):\n",
        "        model1 = LogisticRegression(solver = \"liblinear\", intercept_scaling = i, max_iter = y, random_state = 12345)\n",
        "        model1.fit(features_train,target_train)\n",
        "        prediction = model1.predict(features_valid)\n",
        "        result = accuracy_score(target_valid,prediction)\n",
        "        if result > best_result:\n",
        "            best_result = result\n",
        "            best_model = model1\n",
        "            best_intercept_scalig = i\n",
        "            best_max_iter = y\n",
        "print(\"Best Model:\", best_result, \"Better intercept_scaling:\", best_intercept_scaling, \"Best max_iter:\", best_max_iter)\n",
        "model2 = LogisticRegression()\n",
        "model2.fit(features_train,target_train)\n",
        "prediction2 = model2.predict(features_valid)\n",
        "print(accuracy_score(target_valid,prediction2))"
      ]
    },
    {
      "cell_type": "markdown",
      "metadata": {
        "id": "1TGBvV2xm7MY"
      },
      "source": [
        "After looking at the difference in the accuracy of the model on the training and validation sets, I, a little upset, decided to look for ways to smooth out this difference, as a result, I found a weighted weighting method, according to which you need to use the probability coefficient that a value from the training set belongs to the test set, in order to the model, using this coefficient, increased the weight of those values ​​that look similar to the test sample. This makes sense since the model will be more data-driven as a test set.\n",
        "\n",
        "\n",
        "P.S I also checked the probability of a covariant shift in the test sample, but as expected, it was not here, which is logical, because we artificially created a test sample by taking part of the training one."
      ]
    },
    {
      "cell_type": "code",
      "execution_count": 12,
      "metadata": {
        "scrolled": false,
        "id": "h_4v6l2tm7MY",
        "outputId": "00955c3a-ec58-42bc-ef04-29b52cfe4e8b",
        "colab": {
          "base_uri": "https://localhost:8080/",
          "height": 730
        }
      },
      "outputs": [
        {
          "output_type": "stream",
          "name": "stdout",
          "text": [
            "ROC-AUC: 0.512471688695498\n"
          ]
        },
        {
          "output_type": "stream",
          "name": "stderr",
          "text": [
            "/usr/local/lib/python3.8/dist-packages/seaborn/distributions.py:2619: FutureWarning:\n",
            "\n",
            "`distplot` is a deprecated function and will be removed in a future version. Please adapt your code to use either `displot` (a figure-level function with similar flexibility) or `histplot` (an axes-level function for histograms).\n",
            "\n"
          ]
        },
        {
          "output_type": "stream",
          "name": "stdout",
          "text": [
            "Model accuracy on training data: 0.8319850653391413\n"
          ]
        },
        {
          "output_type": "display_data",
          "data": {
            "text/plain": [
              "<Figure size 1440x720 with 1 Axes>"
            ],
            "image/png": "[encoded data removed]"
          },
          "metadata": {
            "needs_background": "light"
          }
        }
      ],
      "source": [
        "data_tests = data.head(1607)\n",
        "data_tests = data_tests.drop([\"is_ultra\"], axis = 1)\n",
        "dataa = data.loc[1607:].reset_index()\n",
        "dataa = dataa.drop([\"index\"], axis = 1)\n",
        "\n",
        "#create an indicator of belonging to the training sample (0 - does not belong, 1 - belongs)\n",
        "data_tests[\"is_train\"] = 0\n",
        "dataa[\"is_train\"] = 1\n",
        "\n",
        "#union of samples train, test\n",
        "df_combine = pd.concat([dataa, data_tests], axis=0, ignore_index=True)\n",
        "#remove target label\n",
        "df_combine = df_combine.drop('is_ultra', axis =1)\n",
        "\n",
        "y = df_combine['is_train'].values #source indicator\n",
        "x = df_combine.drop('is_train', axis=1).values #combined dataset\n",
        "\n",
        "tst, trn = data_test.values, dataa.values\n",
        "\n",
        "#Set up RandomForestClassifier to predict data source labels in the combined dataset\n",
        "rfc = RandomForestClassifier(n_jobs=-1, max_depth=5, min_samples_leaf = 5)\n",
        "predictions = np.zeros(y.shape)#create an empty data array for class probabilities\n",
        "\n",
        "#Divide the data into 4 samples, for each sample we will train the classifier on the larger part of the partition and predict the class label for the smaller, delayed part\n",
        "from sklearn.model_selection import StratifiedKFold, cross_val_score\n",
        "skf = StratifiedKFold(n_splits=4, shuffle=True, random_state=100)\n",
        "for fold, (train_idx, test_idx) in enumerate(skf.split(x, y)):\n",
        "    X_train, X_test = x[train_idx], x[test_idx]\n",
        "    y_train, y_test = y[train_idx], y[test_idx]\n",
        " \n",
        "    rfc.fit(X_train, y_train)\n",
        "    probs = rfc.predict_proba(X_test)[:, 1] #class probabilities prediction\n",
        "    predictions[test_idx] = probs\n",
        "#Probability of covariant shift\n",
        "from sklearn.metrics import roc_auc_score\n",
        "print('ROC-AUC:', roc_auc_score(y_true=y, y_score=predictions))\n",
        "    \n",
        "# Calculate the coefficient that will tell us how close the object from the training sample is to the test data\n",
        "import seaborn as sns\n",
        "import matplotlib.pyplot as plt\n",
        "plt.figure(figsize=(20,10))\n",
        "predictions_train = predictions[:len(trn)] \n",
        "weights = (1./predictions_train) - 1. \n",
        "weights /= np.mean(weights) #Normalization of weights\n",
        "\n",
        "plt.xlabel('Weight value w')\n",
        "plt.ylabel('Number of samples')\n",
        "sns.distplot(weights, kde=False)\n",
        "\n",
        "features_trains = dataa.drop([\"is_ultra\"], axis = 1)\n",
        "target_trains = dataa[\"is_ultra\"]\n",
        "\n",
        "#Create a model using the hyperparameter values obtained as a result of using RandomizedSearchCV\n",
        "rfc2 = RandomForestClassifier(n_jobs = -1, max_depth = 997, bootstrap = True, n_estimators = 863, min_samples_leaf = 12,\n",
        "                             min_samples_split = 42, max_leaf_nodes = 374, random_state = 12345)\n",
        "rfc2.fit(features_trains, target_trains, sample_weight = weights)\n",
        "predictions = rfc2.predict(features_trains)\n",
        "print(\"Model accuracy on training data:\", accuracy_score(target_trains, predictions))"
      ]
    },
    {
      "cell_type": "markdown",
      "metadata": {
        "id": "QfhHjtSPm7MZ"
      },
      "source": [
        "## Validate the model on the test set"
      ]
    },
    {
      "cell_type": "code",
      "execution_count": 13,
      "metadata": {
        "id": "cG5OwDNzm7MZ",
        "outputId": "1c49853d-886a-4caf-9ecf-704a8641cc53",
        "colab": {
          "base_uri": "https://localhost:8080/"
        }
      },
      "outputs": [
        {
          "output_type": "stream",
          "name": "stdout",
          "text": [
            "Model accuracy without using weighted weights on the validation set: 0.7978227060653188\n",
            "Model accuracy using weighted weights on the validation set: 0.8133748055987559\n",
            "      minutes  messages  mb_used  is_train  is_ultra\n",
            "1386      537        18    20194         0         0\n",
            "3124      287        17    17919         0         0\n",
            "1956      531        56    17755         0         0\n",
            "2286      461        27    16626         0         0\n",
            "3077      120        16     9040         0         0\n",
            "...       ...       ...      ...       ...       ...\n",
            "1999      398         4    23683         0         0\n",
            "1023      601         0    17104         0         0\n",
            "748       526        15    18879         0         0\n",
            "1667       63         0     2568         0         0\n",
            "3197      661        68    11712         0         0\n",
            "\n",
            "[643 rows x 5 columns]\n"
          ]
        }
      ],
      "source": [
        "predictions = model.predict(features_valid)\n",
        "#features_valid[\"is_ultra\"] = predictions\n",
        "print(\"Model accuracy without using weighted weights on the validation set:\", accuracy_score(target_valid, predictions))\n",
        "features_test[\"is_train\"] = 0\n",
        "features_valid[\"is_train\"] = 0\n",
        "print(\"Model accuracy using weighted weights on the validation set:\", accuracy_score(target_valid, rfc2.predict(features_valid)))\n",
        "features_test[\"is_ultra\"] = rfc2.predict(features_test)\n",
        "print(features_test)"
      ]
    },
    {
      "cell_type": "markdown",
      "metadata": {
        "id": "PXtyjixTm7MZ"
      },
      "source": [
        "# Conclusion"
      ]
    },
    {
      "cell_type": "markdown",
      "metadata": {
        "id": "xZYa3Cwwm7MZ"
      },
      "source": [
        "As expected, the use of the weighted weighting method was beneficial, the accuracy of the model with this method is 81.5 percent, while the model without this method is 80 percent."
      ]
    },
    {
      "cell_type": "code",
      "execution_count": 14,
      "metadata": {
        "id": "ccFgru56m7MZ",
        "outputId": "f0631227-fdc1-4e96-c306-d0e943bbd7a0",
        "colab": {
          "base_uri": "https://localhost:8080/",
          "height": 81
        }
      },
      "outputs": [
        {
          "output_type": "execute_result",
          "data": {
            "text/plain": [
              "   most_frequent\n",
              "0       0.684292"
            ],
            "text/html": [
              "\n",
              "  <div id=\"df-f07613d5-5f4b-47e3-9bb0-3cf3dbdb6050\">\n",
              "    <div class=\"colab-df-container\">\n",
              "      <div>\n",
              "<style scoped>\n",
              "    .dataframe tbody tr th:only-of-type {\n",
              "        vertical-align: middle;\n",
              "    }\n",
              "\n",
              "    .dataframe tbody tr th {\n",
              "        vertical-align: top;\n",
              "    }\n",
              "\n",
              "    .dataframe thead th {\n",
              "        text-align: right;\n",
              "    }\n",
              "</style>\n",
              "<table border=\"1\" class=\"dataframe\">\n",
              "  <thead>\n",
              "    <tr style=\"text-align: right;\">\n",
              "      <th></th>\n",
              "      <th>most_frequent</th>\n",
              "    </tr>\n",
              "  </thead>\n",
              "  <tbody>\n",
              "    <tr>\n",
              "      <th>0</th>\n",
              "      <td>0.684292</td>\n",
              "    </tr>\n",
              "  </tbody>\n",
              "</table>\n",
              "</div>\n",
              "      <button class=\"colab-df-convert\" onclick=\"convertToInteractive('df-f07613d5-5f4b-47e3-9bb0-3cf3dbdb6050')\"\n",
              "              title=\"Convert this dataframe to an interactive table.\"\n",
              "              style=\"display:none;\">\n",
              "        \n",
              "  <svg xmlns=\"http://www.w3.org/2000/svg\" height=\"24px\"viewBox=\"0 0 24 24\"\n",
              "       width=\"24px\">\n",
              "    <path d=\"M0 0h24v24H0V0z\" fill=\"none\"/>\n",
              "    <path d=\"M18.56 5.44l.94 2.06.94-2.06 2.06-.94-2.06-.94-.94-2.06-.94 2.06-2.06.94zm-11 1L8.5 8.5l.94-2.06 2.06-.94-2.06-.94L8.5 2.5l-.94 2.06-2.06.94zm10 10l.94 2.06.94-2.06 2.06-.94-2.06-.94-.94-2.06-.94 2.06-2.06.94z\"/><path d=\"M17.41 7.96l-1.37-1.37c-.4-.4-.92-.59-1.43-.59-.52 0-1.04.2-1.43.59L10.3 9.45l-7.72 7.72c-.78.78-.78 2.05 0 2.83L4 21.41c.39.39.9.59 1.41.59.51 0 1.02-.2 1.41-.59l7.78-7.78 2.81-2.81c.8-.78.8-2.07 0-2.86zM5.41 20L4 18.59l7.72-7.72 1.47 1.35L5.41 20z\"/>\n",
              "  </svg>\n",
              "      </button>\n",
              "      \n",
              "  <style>\n",
              "    .colab-df-container {\n",
              "      display:flex;\n",
              "      flex-wrap:wrap;\n",
              "      gap: 12px;\n",
              "    }\n",
              "\n",
              "    .colab-df-convert {\n",
              "      background-color: #E8F0FE;\n",
              "      border: none;\n",
              "      border-radius: 50%;\n",
              "      cursor: pointer;\n",
              "      display: none;\n",
              "      fill: #1967D2;\n",
              "      height: 32px;\n",
              "      padding: 0 0 0 0;\n",
              "      width: 32px;\n",
              "    }\n",
              "\n",
              "    .colab-df-convert:hover {\n",
              "      background-color: #E2EBFA;\n",
              "      box-shadow: 0px 1px 2px rgba(60, 64, 67, 0.3), 0px 1px 3px 1px rgba(60, 64, 67, 0.15);\n",
              "      fill: #174EA6;\n",
              "    }\n",
              "\n",
              "    [theme=dark] .colab-df-convert {\n",
              "      background-color: #3B4455;\n",
              "      fill: #D2E3FC;\n",
              "    }\n",
              "\n",
              "    [theme=dark] .colab-df-convert:hover {\n",
              "      background-color: #434B5C;\n",
              "      box-shadow: 0px 1px 3px 1px rgba(0, 0, 0, 0.15);\n",
              "      filter: drop-shadow(0px 1px 2px rgba(0, 0, 0, 0.3));\n",
              "      fill: #FFFFFF;\n",
              "    }\n",
              "  </style>\n",
              "\n",
              "      <script>\n",
              "        const buttonEl =\n",
              "          document.querySelector('#df-f07613d5-5f4b-47e3-9bb0-3cf3dbdb6050 button.colab-df-convert');\n",
              "        buttonEl.style.display =\n",
              "          google.colab.kernel.accessAllowed ? 'block' : 'none';\n",
              "\n",
              "        async function convertToInteractive(key) {\n",
              "          const element = document.querySelector('#df-f07613d5-5f4b-47e3-9bb0-3cf3dbdb6050');\n",
              "          const dataTable =\n",
              "            await google.colab.kernel.invokeFunction('convertToInteractive',\n",
              "                                                     [key], {});\n",
              "          if (!dataTable) return;\n",
              "\n",
              "          const docLinkHtml = 'Like what you see? Visit the ' +\n",
              "            '<a target=\"_blank\" href=https://colab.research.google.com/notebooks/data_table.ipynb>data table notebook</a>'\n",
              "            + ' to learn more about interactive tables.';\n",
              "          element.innerHTML = '';\n",
              "          dataTable['output_type'] = 'display_data';\n",
              "          await google.colab.output.renderOutput(dataTable, element);\n",
              "          const docLink = document.createElement('div');\n",
              "          docLink.innerHTML = docLinkHtml;\n",
              "          element.appendChild(docLink);\n",
              "        }\n",
              "      </script>\n",
              "    </div>\n",
              "  </div>\n",
              "  "
            ]
          },
          "metadata": {},
          "execution_count": 14
        }
      ],
      "source": [
        "#Проверим модель на адекватность.\n",
        "from sklearn.dummy import DummyClassifier\n",
        "strategies = [\"most_frequent\"]\n",
        "\n",
        "dummy_results = []\n",
        "for strategy in strategies:\n",
        "    dc = DummyClassifier(strategy = strategy, random_state = 42)\n",
        "    \n",
        "dc.fit(features_train, target_train)\n",
        "\n",
        "result = dc.score(features_valid, target_valid)\n",
        "dummy_results.append({strategy: result})\n",
        "pd.DataFrame(dummy_results)"
      ]
    },
    {
      "cell_type": "code",
      "execution_count": null,
      "metadata": {
        "id": "B_8XD-2pm7Ma"
      },
      "outputs": [],
      "source": []
    },
    {
      "cell_type": "code",
      "execution_count": null,
      "metadata": {
        "id": "WF9SOyysm7Ma"
      },
      "outputs": [],
      "source": []
    },
    {
      "cell_type": "code",
      "execution_count": null,
      "metadata": {
        "id": "KFDK9uJPm7Ma"
      },
      "outputs": [],
      "source": []
    }
  ],
  "metadata": {
    "ExecuteTimeLog": [
      {
        "duration": 1404,
        "start_time": "2021-08-17T08:30:42.223Z"
      },
      {
        "duration": 386,
        "start_time": "2021-08-17T08:34:57.958Z"
      },
      {
        "duration": 37,
        "start_time": "2021-08-17T08:35:02.359Z"
      },
      {
        "duration": 257,
        "start_time": "2021-08-17T08:35:05.896Z"
      },
      {
        "duration": 8,
        "start_time": "2021-08-17T08:38:47.638Z"
      },
      {
        "duration": 312,
        "start_time": "2021-08-17T08:40:36.683Z"
      },
      {
        "duration": 354,
        "start_time": "2021-08-17T08:40:55.930Z"
      },
      {
        "duration": 36,
        "start_time": "2021-08-17T08:45:12.576Z"
      },
      {
        "duration": 34,
        "start_time": "2021-08-17T08:45:19.287Z"
      },
      {
        "duration": 7,
        "start_time": "2021-08-17T08:45:29.752Z"
      },
      {
        "duration": 10,
        "start_time": "2021-08-17T09:21:42.002Z"
      },
      {
        "duration": 291,
        "start_time": "2021-08-17T09:40:56.044Z"
      },
      {
        "duration": 300,
        "start_time": "2021-08-17T09:41:57.518Z"
      },
      {
        "duration": 15,
        "start_time": "2021-08-17T09:42:41.619Z"
      },
      {
        "duration": 265,
        "start_time": "2021-08-17T09:43:02.220Z"
      },
      {
        "duration": 40,
        "start_time": "2021-08-17T10:00:20.789Z"
      },
      {
        "duration": 9,
        "start_time": "2021-08-17T10:00:25.569Z"
      },
      {
        "duration": 449,
        "start_time": "2021-08-17T10:00:27.642Z"
      },
      {
        "duration": 40,
        "start_time": "2021-08-17T10:02:07.806Z"
      },
      {
        "duration": 9,
        "start_time": "2021-08-17T10:02:10.557Z"
      },
      {
        "duration": 283,
        "start_time": "2021-08-17T10:02:12.029Z"
      },
      {
        "duration": 295,
        "start_time": "2021-08-17T10:02:52.059Z"
      },
      {
        "duration": 10,
        "start_time": "2021-08-17T10:03:25.156Z"
      },
      {
        "duration": 10,
        "start_time": "2021-08-17T10:03:37.291Z"
      },
      {
        "duration": 12,
        "start_time": "2021-08-17T10:03:47.104Z"
      },
      {
        "duration": 305,
        "start_time": "2021-08-17T10:04:19.417Z"
      },
      {
        "duration": 41,
        "start_time": "2021-08-17T10:05:02.966Z"
      },
      {
        "duration": 44,
        "start_time": "2021-08-17T10:05:33.397Z"
      },
      {
        "duration": 9,
        "start_time": "2021-08-17T10:05:35.804Z"
      },
      {
        "duration": 286,
        "start_time": "2021-08-17T10:05:37.359Z"
      },
      {
        "duration": 9,
        "start_time": "2021-08-17T10:18:11.078Z"
      },
      {
        "duration": 288,
        "start_time": "2021-08-17T10:18:12.273Z"
      },
      {
        "duration": 261,
        "start_time": "2021-08-17T10:18:46.797Z"
      },
      {
        "duration": 77330,
        "start_time": "2021-08-17T10:18:55.845Z"
      },
      {
        "duration": 77863,
        "start_time": "2021-08-17T10:22:09.757Z"
      },
      {
        "duration": 1743630,
        "start_time": "2021-08-17T10:37:52.390Z"
      },
      {
        "duration": 9179,
        "start_time": "2021-08-17T11:29:02.439Z"
      },
      {
        "duration": 8656,
        "start_time": "2021-08-17T11:31:59.197Z"
      },
      {
        "duration": 8592,
        "start_time": "2021-08-17T11:33:59.769Z"
      },
      {
        "duration": 1792937,
        "start_time": "2021-08-17T11:34:26.391Z"
      },
      {
        "duration": 301,
        "start_time": "2021-08-17T12:33:49.208Z"
      },
      {
        "duration": 103,
        "start_time": "2021-08-17T12:38:40.648Z"
      },
      {
        "duration": 56648,
        "start_time": "2021-08-17T12:38:45.005Z"
      },
      {
        "duration": 13954848,
        "start_time": "2021-08-17T12:40:03.675Z"
      },
      {
        "duration": 48,
        "start_time": "2021-08-17T16:36:04.764Z"
      },
      {
        "duration": 187,
        "start_time": "2021-08-17T16:48:16.759Z"
      },
      {
        "duration": 337,
        "start_time": "2021-08-17T16:49:01.347Z"
      },
      {
        "duration": 226,
        "start_time": "2021-08-17T16:49:09.281Z"
      },
      {
        "duration": 432,
        "start_time": "2021-08-17T16:50:23.783Z"
      },
      {
        "duration": 181,
        "start_time": "2021-08-17T16:53:27.114Z"
      },
      {
        "duration": 3475,
        "start_time": "2021-08-17T16:53:55.991Z"
      },
      {
        "duration": 183,
        "start_time": "2021-08-17T16:54:08.407Z"
      },
      {
        "duration": 3695,
        "start_time": "2021-08-17T17:00:53.770Z"
      },
      {
        "duration": 176,
        "start_time": "2021-08-17T17:01:07.678Z"
      },
      {
        "duration": 470,
        "start_time": "2021-08-17T17:01:58.043Z"
      },
      {
        "duration": 387,
        "start_time": "2021-08-17T17:02:42.833Z"
      },
      {
        "duration": 343,
        "start_time": "2021-08-17T17:03:00.096Z"
      },
      {
        "duration": 369,
        "start_time": "2021-08-17T17:04:03.758Z"
      },
      {
        "duration": 10,
        "start_time": "2021-08-17T17:04:07.764Z"
      },
      {
        "duration": 32882,
        "start_time": "2021-08-17T17:04:09.917Z"
      },
      {
        "duration": 3856755,
        "start_time": "2021-08-17T17:06:45.344Z"
      },
      {
        "duration": 8075,
        "start_time": "2021-08-17T18:11:06.822Z"
      },
      {
        "duration": 457,
        "start_time": "2021-08-17T18:11:51.164Z"
      },
      {
        "duration": 381,
        "start_time": "2021-08-17T18:12:13.218Z"
      },
      {
        "duration": 208,
        "start_time": "2021-08-17T18:13:02.738Z"
      },
      {
        "duration": 220,
        "start_time": "2021-08-17T18:13:22.888Z"
      },
      {
        "duration": 512,
        "start_time": "2021-08-17T18:17:36.373Z"
      },
      {
        "duration": 280,
        "start_time": "2021-08-17T18:18:41.019Z"
      },
      {
        "duration": 1133,
        "start_time": "2021-08-17T18:18:59.323Z"
      },
      {
        "duration": 88,
        "start_time": "2021-08-17T18:24:16.932Z"
      },
      {
        "duration": 11,
        "start_time": "2021-08-17T18:24:28.180Z"
      },
      {
        "duration": 38765,
        "start_time": "2021-08-17T18:24:59.795Z"
      },
      {
        "duration": 7153,
        "start_time": "2021-08-17T18:25:55.304Z"
      },
      {
        "duration": 95,
        "start_time": "2021-08-17T18:37:37.500Z"
      },
      {
        "duration": 9,
        "start_time": "2021-08-17T18:37:46.395Z"
      },
      {
        "duration": 43175,
        "start_time": "2021-08-17T18:37:48.602Z"
      },
      {
        "duration": 7558,
        "start_time": "2021-08-17T18:38:39.914Z"
      },
      {
        "duration": 93,
        "start_time": "2021-08-17T18:39:40.886Z"
      },
      {
        "duration": 8,
        "start_time": "2021-08-17T18:39:43.303Z"
      },
      {
        "duration": 7018,
        "start_time": "2021-08-17T18:39:47.079Z"
      },
      {
        "duration": 4868131,
        "start_time": "2021-08-17T18:39:58.704Z"
      },
      {
        "duration": 10481878,
        "start_time": "2021-08-17T20:03:50.230Z"
      },
      {
        "duration": 4204468,
        "start_time": "2021-08-17T23:00:29.262Z"
      },
      {
        "duration": 106,
        "start_time": "2021-08-18T02:48:09.786Z"
      },
      {
        "duration": 1034966,
        "start_time": "2021-08-18T02:48:27.337Z"
      },
      {
        "duration": 1035745,
        "start_time": "2021-08-18T04:35:25.899Z"
      },
      {
        "duration": 73,
        "start_time": "2021-08-18T06:08:16.675Z"
      },
      {
        "duration": 34986946,
        "start_time": "2021-08-18T06:09:19.910Z"
      },
      {
        "duration": 279,
        "start_time": "2021-08-18T15:52:44.046Z"
      },
      {
        "duration": 813,
        "start_time": "2021-08-18T15:53:45.910Z"
      },
      {
        "duration": 314,
        "start_time": "2021-08-18T15:54:23.636Z"
      },
      {
        "duration": 272760,
        "start_time": "2021-08-18T15:55:22.450Z"
      },
      {
        "duration": 97,
        "start_time": "2021-08-18T16:03:52.027Z"
      },
      {
        "duration": 25,
        "start_time": "2021-08-18T16:03:59.653Z"
      },
      {
        "duration": 304436,
        "start_time": "2021-08-18T16:09:35.352Z"
      },
      {
        "duration": 25,
        "start_time": "2021-08-18T16:14:44.026Z"
      },
      {
        "duration": 272,
        "start_time": "2021-08-18T16:18:18.977Z"
      },
      {
        "duration": 312,
        "start_time": "2021-08-18T16:18:37.898Z"
      },
      {
        "duration": 305,
        "start_time": "2021-08-18T16:18:45.713Z"
      },
      {
        "duration": 36,
        "start_time": "2021-08-18T16:18:52.960Z"
      },
      {
        "duration": 184,
        "start_time": "2021-08-18T16:19:47.206Z"
      },
      {
        "duration": 448,
        "start_time": "2021-08-18T16:19:54.374Z"
      },
      {
        "duration": 3493,
        "start_time": "2021-08-18T16:20:00.574Z"
      },
      {
        "duration": 3429,
        "start_time": "2021-08-18T16:20:11.701Z"
      },
      {
        "duration": 36,
        "start_time": "2021-08-18T16:20:22.589Z"
      },
      {
        "duration": 33,
        "start_time": "2021-08-18T16:20:28.748Z"
      },
      {
        "duration": 23,
        "start_time": "2021-08-18T16:20:39.747Z"
      },
      {
        "duration": 21,
        "start_time": "2021-08-18T16:20:43.875Z"
      },
      {
        "duration": 22,
        "start_time": "2021-08-18T16:20:49.372Z"
      },
      {
        "duration": 2288,
        "start_time": "2021-08-18T16:21:05.012Z"
      },
      {
        "duration": 87,
        "start_time": "2021-08-18T16:21:59.514Z"
      },
      {
        "duration": 2317,
        "start_time": "2021-08-18T16:22:06.417Z"
      },
      {
        "duration": 2275,
        "start_time": "2021-08-18T16:22:11.616Z"
      },
      {
        "duration": 299609,
        "start_time": "2021-08-18T16:22:21.552Z"
      },
      {
        "duration": 23,
        "start_time": "2021-08-18T16:27:25.236Z"
      },
      {
        "duration": 2646,
        "start_time": "2021-08-18T16:27:30.187Z"
      },
      {
        "duration": 345,
        "start_time": "2021-08-18T16:34:53.306Z"
      },
      {
        "duration": 248,
        "start_time": "2021-08-18T16:36:21.543Z"
      },
      {
        "duration": 270,
        "start_time": "2021-08-18T16:38:05.042Z"
      },
      {
        "duration": 104,
        "start_time": "2021-08-18T16:53:32.938Z"
      },
      {
        "duration": 321,
        "start_time": "2021-08-18T16:53:52.526Z"
      },
      {
        "duration": 475,
        "start_time": "2021-08-18T16:54:10.595Z"
      },
      {
        "duration": 339,
        "start_time": "2021-08-18T16:57:43.772Z"
      },
      {
        "duration": 349,
        "start_time": "2021-08-18T16:59:19.600Z"
      },
      {
        "duration": 339,
        "start_time": "2021-08-18T17:00:26.450Z"
      },
      {
        "duration": 348945,
        "start_time": "2021-08-18T17:03:21.126Z"
      },
      {
        "duration": 27,
        "start_time": "2021-08-18T17:09:43.310Z"
      },
      {
        "duration": 341991,
        "start_time": "2021-08-18T17:11:09.284Z"
      },
      {
        "duration": 28,
        "start_time": "2021-08-18T17:25:51.808Z"
      },
      {
        "duration": 7407,
        "start_time": "2021-08-18T17:27:23.773Z"
      },
      {
        "duration": 330862,
        "start_time": "2021-08-18T17:27:46.532Z"
      },
      {
        "duration": 28,
        "start_time": "2021-08-18T17:55:23.368Z"
      },
      {
        "duration": 315968,
        "start_time": "2021-08-18T17:57:01.933Z"
      },
      {
        "duration": 29,
        "start_time": "2021-08-18T18:03:01.238Z"
      },
      {
        "duration": 329845,
        "start_time": "2021-08-18T18:04:14.667Z"
      },
      {
        "duration": 75,
        "start_time": "2021-08-18T18:30:05.897Z"
      },
      {
        "duration": 10,
        "start_time": "2021-08-18T18:30:09.556Z"
      },
      {
        "duration": 708,
        "start_time": "2021-08-18T18:30:16.795Z"
      },
      {
        "duration": 435362,
        "start_time": "2021-08-18T18:30:30.260Z"
      },
      {
        "duration": 28,
        "start_time": "2021-08-18T19:04:37.674Z"
      },
      {
        "duration": 339657,
        "start_time": "2021-08-18T19:07:27.955Z"
      },
      {
        "duration": 26,
        "start_time": "2021-08-18T19:55:08.904Z"
      },
      {
        "duration": 996,
        "start_time": "2021-08-18T20:35:54.802Z"
      },
      {
        "duration": 770,
        "start_time": "2021-08-18T20:38:09.288Z"
      },
      {
        "duration": 317,
        "start_time": "2021-08-18T20:40:00.779Z"
      },
      {
        "duration": 399,
        "start_time": "2021-08-18T20:42:12.669Z"
      },
      {
        "duration": 84,
        "start_time": "2021-08-18T20:42:42.942Z"
      },
      {
        "duration": 334,
        "start_time": "2021-08-18T20:43:23.467Z"
      },
      {
        "duration": 82,
        "start_time": "2021-08-18T20:43:34.354Z"
      },
      {
        "duration": 10,
        "start_time": "2021-08-18T20:43:40.289Z"
      },
      {
        "duration": 662,
        "start_time": "2021-08-18T20:43:45.832Z"
      },
      {
        "duration": 29,
        "start_time": "2021-08-18T20:43:52.768Z"
      },
      {
        "duration": 26,
        "start_time": "2021-08-18T20:44:18.335Z"
      },
      {
        "duration": 28,
        "start_time": "2021-08-18T20:44:38.526Z"
      },
      {
        "duration": 274,
        "start_time": "2021-08-18T20:44:45.383Z"
      },
      {
        "duration": 272,
        "start_time": "2021-08-18T20:44:57.825Z"
      },
      {
        "duration": 368,
        "start_time": "2021-08-18T20:45:00.454Z"
      },
      {
        "duration": 83,
        "start_time": "2021-08-18T20:45:08.775Z"
      },
      {
        "duration": 9,
        "start_time": "2021-08-18T20:45:11.101Z"
      },
      {
        "duration": 677,
        "start_time": "2021-08-18T20:45:15.428Z"
      },
      {
        "duration": 37,
        "start_time": "2021-08-18T20:45:18.661Z"
      },
      {
        "duration": 76,
        "start_time": "2021-08-18T20:48:36.712Z"
      },
      {
        "duration": 10,
        "start_time": "2021-08-18T20:48:40.485Z"
      },
      {
        "duration": 817,
        "start_time": "2021-08-18T20:48:48.404Z"
      },
      {
        "duration": 32,
        "start_time": "2021-08-18T20:48:53.876Z"
      },
      {
        "duration": 41,
        "start_time": "2021-08-18T20:53:45.681Z"
      },
      {
        "duration": 812,
        "start_time": "2021-08-18T20:54:07.959Z"
      },
      {
        "duration": 280,
        "start_time": "2021-08-18T20:54:10.944Z"
      },
      {
        "duration": 73,
        "start_time": "2021-08-18T20:54:26.816Z"
      },
      {
        "duration": 10,
        "start_time": "2021-08-18T20:54:29.694Z"
      },
      {
        "duration": 3624061,
        "start_time": "2021-08-18T20:54:32.559Z"
      },
      {
        "duration": 76,
        "start_time": "2021-08-18T21:55:02.202Z"
      },
      {
        "duration": 10,
        "start_time": "2021-08-18T21:55:06.844Z"
      },
      {
        "duration": 299,
        "start_time": "2021-08-18T21:55:20.867Z"
      },
      {
        "duration": 313,
        "start_time": "2021-08-18T21:56:33.673Z"
      },
      {
        "duration": 279,
        "start_time": "2021-08-18T21:57:12.895Z"
      },
      {
        "duration": 1085,
        "start_time": "2021-08-18T21:57:39.262Z"
      },
      {
        "duration": 1121,
        "start_time": "2021-08-18T22:02:48.666Z"
      },
      {
        "duration": 1272,
        "start_time": "2021-08-18T22:03:09.137Z"
      },
      {
        "duration": 78,
        "start_time": "2021-08-18T22:06:08.147Z"
      },
      {
        "duration": 9,
        "start_time": "2021-08-18T22:06:13.568Z"
      },
      {
        "duration": 10,
        "start_time": "2021-08-18T22:06:17.729Z"
      },
      {
        "duration": 9,
        "start_time": "2021-08-18T22:06:25.705Z"
      },
      {
        "duration": 1130,
        "start_time": "2021-08-18T22:06:31.480Z"
      },
      {
        "duration": 1144,
        "start_time": "2021-08-18T22:10:26.702Z"
      },
      {
        "duration": 1154,
        "start_time": "2021-08-18T22:12:03.684Z"
      },
      {
        "duration": 96,
        "start_time": "2021-08-18T22:14:18.686Z"
      },
      {
        "duration": 909,
        "start_time": "2021-08-18T22:14:34.131Z"
      },
      {
        "duration": 1143,
        "start_time": "2021-08-18T22:16:37.839Z"
      },
      {
        "duration": 919,
        "start_time": "2021-08-18T22:16:59.735Z"
      },
      {
        "duration": 469,
        "start_time": "2021-08-18T22:37:51.835Z"
      },
      {
        "duration": 333,
        "start_time": "2021-08-18T22:40:23.134Z"
      },
      {
        "duration": 316,
        "start_time": "2021-08-18T22:41:22.596Z"
      },
      {
        "duration": 311,
        "start_time": "2021-08-18T22:41:47.462Z"
      },
      {
        "duration": 75,
        "start_time": "2021-08-18T22:42:00.889Z"
      },
      {
        "duration": 9,
        "start_time": "2021-08-18T22:42:04.417Z"
      },
      {
        "duration": 807,
        "start_time": "2021-08-18T22:42:09.743Z"
      },
      {
        "duration": 8071,
        "start_time": "2021-08-18T22:42:16.857Z"
      },
      {
        "duration": 1373,
        "start_time": "2021-08-18T22:42:41.559Z"
      },
      {
        "duration": 1191,
        "start_time": "2021-08-18T22:42:55.527Z"
      },
      {
        "duration": 897,
        "start_time": "2021-08-18T22:43:34.783Z"
      },
      {
        "duration": 14,
        "start_time": "2021-08-18T22:43:47.612Z"
      },
      {
        "duration": 835,
        "start_time": "2021-08-18T22:44:04.563Z"
      },
      {
        "duration": 297,
        "start_time": "2021-08-18T22:44:09.140Z"
      },
      {
        "duration": 268,
        "start_time": "2021-08-18T22:46:13.359Z"
      },
      {
        "duration": 819,
        "start_time": "2021-08-18T22:46:25.549Z"
      },
      {
        "duration": 416,
        "start_time": "2021-08-18T22:46:29.862Z"
      },
      {
        "duration": 76,
        "start_time": "2021-08-18T22:46:38.887Z"
      },
      {
        "duration": 10,
        "start_time": "2021-08-18T22:46:42.789Z"
      },
      {
        "duration": 798,
        "start_time": "2021-08-18T22:46:53.199Z"
      },
      {
        "duration": 40,
        "start_time": "2021-08-18T22:46:58.085Z"
      },
      {
        "duration": 926,
        "start_time": "2021-08-18T22:56:39.678Z"
      },
      {
        "duration": 69,
        "start_time": "2021-08-18T22:58:49.008Z"
      },
      {
        "duration": 291,
        "start_time": "2021-08-18T22:59:10.647Z"
      },
      {
        "duration": 922,
        "start_time": "2021-08-18T23:00:17.757Z"
      },
      {
        "duration": 48,
        "start_time": "2021-08-18T23:01:27.186Z"
      },
      {
        "duration": 905,
        "start_time": "2021-08-18T23:02:49.318Z"
      },
      {
        "duration": 295,
        "start_time": "2021-08-18T23:02:53.621Z"
      },
      {
        "duration": 280,
        "start_time": "2021-08-18T23:03:18.157Z"
      },
      {
        "duration": 74,
        "start_time": "2021-08-18T23:03:27.375Z"
      },
      {
        "duration": 10,
        "start_time": "2021-08-18T23:03:30.510Z"
      },
      {
        "duration": 801,
        "start_time": "2021-08-18T23:03:37.699Z"
      },
      {
        "duration": 936,
        "start_time": "2021-08-18T23:03:41.612Z"
      },
      {
        "duration": 312,
        "start_time": "2021-08-18T23:03:46.126Z"
      },
      {
        "duration": 48,
        "start_time": "2021-08-18T23:04:11.522Z"
      },
      {
        "duration": 1312,
        "start_time": "2021-08-18T23:08:06.370Z"
      },
      {
        "duration": 1035,
        "start_time": "2021-08-18T23:08:27.041Z"
      },
      {
        "duration": 261,
        "start_time": "2021-08-19T10:29:20.767Z"
      },
      {
        "duration": 1025,
        "start_time": "2021-08-19T10:29:27.833Z"
      },
      {
        "duration": 7,
        "start_time": "2021-08-19T10:29:31.410Z"
      },
      {
        "duration": 8,
        "start_time": "2021-08-19T10:31:19.159Z"
      },
      {
        "duration": 8,
        "start_time": "2021-08-19T10:33:03.531Z"
      },
      {
        "duration": 453,
        "start_time": "2021-08-19T10:33:14.641Z"
      },
      {
        "duration": 309,
        "start_time": "2021-08-19T10:34:36.255Z"
      },
      {
        "duration": 178301,
        "start_time": "2021-08-19T10:34:50.126Z"
      },
      {
        "duration": 16,
        "start_time": "2021-08-19T11:10:36.024Z"
      },
      {
        "duration": 435,
        "start_time": "2021-08-19T11:10:42.472Z"
      },
      {
        "duration": 620,
        "start_time": "2021-08-19T11:10:50.152Z"
      },
      {
        "duration": 24,
        "start_time": "2021-08-19T11:10:57.087Z"
      },
      {
        "duration": 323,
        "start_time": "2021-08-19T19:00:02.959Z"
      },
      {
        "duration": 49,
        "start_time": "2021-08-19T19:00:36.118Z"
      },
      {
        "duration": 9,
        "start_time": "2021-08-19T19:00:38.819Z"
      },
      {
        "duration": 446,
        "start_time": "2021-08-19T19:01:40.633Z"
      },
      {
        "duration": 514,
        "start_time": "2021-08-19T19:01:44.353Z"
      },
      {
        "duration": 27,
        "start_time": "2021-08-19T19:01:47.281Z"
      },
      {
        "duration": 184709,
        "start_time": "2021-08-19T19:02:06.512Z"
      },
      {
        "duration": 16,
        "start_time": "2021-08-19T19:06:15.751Z"
      },
      {
        "duration": 307,
        "start_time": "2021-08-19T19:06:33.469Z"
      },
      {
        "duration": 48,
        "start_time": "2021-08-19T19:06:40.501Z"
      },
      {
        "duration": 11,
        "start_time": "2021-08-19T19:06:42.724Z"
      },
      {
        "duration": 14,
        "start_time": "2021-08-19T19:06:50.468Z"
      },
      {
        "duration": 2565,
        "start_time": "2021-08-19T19:09:12.230Z"
      },
      {
        "duration": 245,
        "start_time": "2021-08-19T19:09:24.606Z"
      },
      {
        "duration": 2399,
        "start_time": "2021-08-19T19:09:54.277Z"
      },
      {
        "duration": 250,
        "start_time": "2021-08-19T19:11:59.288Z"
      },
      {
        "duration": 46,
        "start_time": "2021-08-19T19:12:31.825Z"
      },
      {
        "duration": 10,
        "start_time": "2021-08-19T19:12:34.598Z"
      },
      {
        "duration": 3626,
        "start_time": "2021-08-19T19:12:46.453Z"
      },
      {
        "duration": 2384,
        "start_time": "2021-08-19T19:13:00.024Z"
      },
      {
        "duration": 110,
        "start_time": "2021-08-19T19:13:06.533Z"
      },
      {
        "duration": 501,
        "start_time": "2021-08-19T19:13:28.364Z"
      },
      {
        "duration": 244,
        "start_time": "2021-08-19T19:13:31.875Z"
      },
      {
        "duration": 49,
        "start_time": "2021-08-19T19:13:40.460Z"
      },
      {
        "duration": 10,
        "start_time": "2021-08-19T19:13:43.467Z"
      },
      {
        "duration": 2333,
        "start_time": "2021-08-19T19:13:55.538Z"
      },
      {
        "duration": 573,
        "start_time": "2021-08-19T19:14:01.802Z"
      },
      {
        "duration": 107,
        "start_time": "2021-08-19T19:14:05.643Z"
      },
      {
        "duration": 243,
        "start_time": "2021-08-19T19:15:08.048Z"
      },
      {
        "duration": 9,
        "start_time": "2021-08-19T19:15:11.975Z"
      },
      {
        "duration": 62,
        "start_time": "2021-08-19T19:15:14.232Z"
      },
      {
        "duration": 856,
        "start_time": "2021-08-19T19:15:42.055Z"
      },
      {
        "duration": 2215,
        "start_time": "2021-08-19T19:17:03.476Z"
      },
      {
        "duration": 512,
        "start_time": "2021-08-19T19:17:30.603Z"
      },
      {
        "duration": 107,
        "start_time": "2021-08-19T19:17:34.138Z"
      },
      {
        "duration": 48,
        "start_time": "2021-08-19T19:17:49.407Z"
      },
      {
        "duration": 8,
        "start_time": "2021-08-19T19:17:49.456Z"
      },
      {
        "duration": 63,
        "start_time": "2021-08-19T19:17:49.466Z"
      },
      {
        "duration": 865,
        "start_time": "2021-08-19T19:17:49.531Z"
      },
      {
        "duration": 178280,
        "start_time": "2021-08-19T19:17:50.398Z"
      },
      {
        "duration": 23,
        "start_time": "2021-08-19T19:20:48.679Z"
      },
      {
        "duration": 2247,
        "start_time": "2021-08-19T19:20:48.703Z"
      },
      {
        "duration": 3857,
        "start_time": "2021-08-19T19:20:50.952Z"
      },
      {
        "duration": 529,
        "start_time": "2021-08-19T19:20:54.810Z"
      },
      {
        "duration": 11,
        "start_time": "2021-08-19T19:20:55.341Z"
      },
      {
        "duration": 1638,
        "start_time": "2021-08-20T12:28:24.898Z"
      },
      {
        "duration": 15,
        "start_time": "2021-08-20T12:28:41.431Z"
      },
      {
        "duration": 344983,
        "start_time": "2021-08-20T12:28:57.016Z"
      },
      {
        "duration": 26,
        "start_time": "2021-08-20T12:53:38.389Z"
      },
      {
        "duration": 5589,
        "start_time": "2021-08-20T12:53:43.332Z"
      },
      {
        "duration": 1340,
        "start_time": "2021-08-20T12:54:00.412Z"
      },
      {
        "duration": 294,
        "start_time": "2021-08-20T12:54:05.403Z"
      },
      {
        "duration": 4411,
        "start_time": "2021-08-20T13:00:44.433Z"
      },
      {
        "duration": 644,
        "start_time": "2021-08-20T13:00:51.627Z"
      },
      {
        "duration": 75,
        "start_time": "2021-08-20T13:01:00.032Z"
      },
      {
        "duration": 46,
        "start_time": "2021-08-20T13:01:00.110Z"
      },
      {
        "duration": 160,
        "start_time": "2021-08-20T13:01:00.161Z"
      },
      {
        "duration": 1782,
        "start_time": "2021-08-20T13:01:00.324Z"
      },
      {
        "duration": 370631,
        "start_time": "2021-08-20T13:01:02.109Z"
      },
      {
        "duration": 37,
        "start_time": "2021-08-20T13:07:12.743Z"
      },
      {
        "duration": 4473,
        "start_time": "2021-08-20T13:07:12.783Z"
      },
      {
        "duration": 177985,
        "start_time": "2021-08-20T13:07:17.260Z"
      },
      {
        "duration": 3995,
        "start_time": "2021-08-20T13:10:15.248Z"
      },
      {
        "duration": 393,
        "start_time": "2021-08-20T13:10:19.246Z"
      },
      {
        "duration": 67,
        "start_time": "2021-08-20T17:05:24.287Z"
      },
      {
        "duration": 13,
        "start_time": "2021-08-20T17:05:27.635Z"
      },
      {
        "duration": 25,
        "start_time": "2021-08-20T17:05:38.990Z"
      },
      {
        "duration": 3695,
        "start_time": "2021-08-20T17:05:49.355Z"
      },
      {
        "duration": 373,
        "start_time": "2021-08-20T17:06:03.395Z"
      },
      {
        "duration": 4010,
        "start_time": "2021-08-20T17:06:07.523Z"
      },
      {
        "duration": 418,
        "start_time": "2021-08-20T17:06:13.697Z"
      },
      {
        "duration": 368,
        "start_time": "2021-08-20T17:06:28.707Z"
      },
      {
        "duration": 372,
        "start_time": "2021-08-20T17:06:38.184Z"
      },
      {
        "duration": 67,
        "start_time": "2021-08-20T17:06:48.073Z"
      },
      {
        "duration": 13,
        "start_time": "2021-08-20T17:06:50.960Z"
      },
      {
        "duration": 29,
        "start_time": "2021-08-20T17:06:55.817Z"
      },
      {
        "duration": 3732,
        "start_time": "2021-08-20T17:06:57.584Z"
      },
      {
        "duration": 7464,
        "start_time": "2021-08-20T17:07:03.592Z"
      },
      {
        "duration": 3938,
        "start_time": "2021-08-20T17:07:17.895Z"
      },
      {
        "duration": 378,
        "start_time": "2021-08-20T17:07:24.639Z"
      },
      {
        "duration": 75,
        "start_time": "2021-08-20T18:34:51.464Z"
      },
      {
        "duration": 25,
        "start_time": "2021-08-20T18:34:51.543Z"
      },
      {
        "duration": 112,
        "start_time": "2021-08-20T18:34:51.571Z"
      },
      {
        "duration": 1443,
        "start_time": "2021-08-20T18:34:51.685Z"
      },
      {
        "duration": 315469,
        "start_time": "2021-08-20T18:34:53.131Z"
      },
      {
        "duration": 25,
        "start_time": "2021-08-20T18:40:08.602Z"
      },
      {
        "duration": 3678,
        "start_time": "2021-08-20T18:40:08.630Z"
      },
      {
        "duration": 8110,
        "start_time": "2021-08-20T18:40:12.311Z"
      },
      {
        "duration": 3918,
        "start_time": "2021-08-20T18:40:20.423Z"
      },
      {
        "duration": 555,
        "start_time": "2021-08-20T18:40:24.344Z"
      },
      {
        "duration": 403,
        "start_time": "2021-08-20T19:47:44.794Z"
      },
      {
        "duration": 68,
        "start_time": "2021-08-20T19:47:54.899Z"
      },
      {
        "duration": 14,
        "start_time": "2021-08-20T19:47:54.969Z"
      },
      {
        "duration": 127,
        "start_time": "2021-08-20T19:47:54.985Z"
      },
      {
        "duration": 1531,
        "start_time": "2021-08-20T19:47:55.115Z"
      },
      {
        "duration": 321876,
        "start_time": "2021-08-20T19:47:56.656Z"
      },
      {
        "duration": 33,
        "start_time": "2021-08-20T19:53:18.535Z"
      },
      {
        "duration": 4090,
        "start_time": "2021-08-20T19:53:18.571Z"
      },
      {
        "duration": 8158,
        "start_time": "2021-08-20T19:53:22.665Z"
      },
      {
        "duration": 4075,
        "start_time": "2021-08-20T19:53:30.826Z"
      },
      {
        "duration": 394,
        "start_time": "2021-08-20T19:53:34.903Z"
      },
      {
        "duration": 1372,
        "start_time": "2021-08-21T05:57:27.821Z"
      },
      {
        "duration": 14,
        "start_time": "2021-08-21T05:59:37.473Z"
      },
      {
        "duration": 101,
        "start_time": "2021-08-21T06:00:32.779Z"
      },
      {
        "duration": 1394,
        "start_time": "2021-08-21T06:01:44.548Z"
      },
      {
        "duration": 307687,
        "start_time": "2021-08-21T06:04:20.515Z"
      },
      {
        "duration": 25,
        "start_time": "2021-08-21T06:09:28.205Z"
      },
      {
        "duration": 3847,
        "start_time": "2021-08-21T06:12:02.265Z"
      },
      {
        "duration": 8785,
        "start_time": "2021-08-21T06:12:07.868Z"
      },
      {
        "duration": 4386,
        "start_time": "2021-08-21T06:12:21.325Z"
      },
      {
        "duration": 571,
        "start_time": "2021-08-21T06:13:36.293Z"
      },
      {
        "duration": 1462,
        "start_time": "2021-08-28T17:39:10.494Z"
      },
      {
        "duration": 48,
        "start_time": "2021-08-28T17:39:16.506Z"
      },
      {
        "duration": 48,
        "start_time": "2021-08-28T17:39:19.043Z"
      },
      {
        "duration": 572,
        "start_time": "2021-08-28T17:39:24.730Z"
      },
      {
        "duration": 476,
        "start_time": "2021-08-28T17:40:28.568Z"
      },
      {
        "duration": 48,
        "start_time": "2021-08-28T17:40:49.840Z"
      },
      {
        "duration": 1070,
        "start_time": "2021-08-28T17:40:54.262Z"
      },
      {
        "duration": 684,
        "start_time": "2021-08-28T17:41:59.022Z"
      },
      {
        "duration": 582,
        "start_time": "2021-08-28T17:43:05.472Z"
      },
      {
        "duration": 737,
        "start_time": "2021-08-28T17:43:19.671Z"
      },
      {
        "duration": 51,
        "start_time": "2021-08-28T17:49:13.185Z"
      },
      {
        "duration": 571,
        "start_time": "2021-08-28T17:49:13.237Z"
      },
      {
        "duration": 10,
        "start_time": "2021-08-28T17:49:13.809Z"
      },
      {
        "duration": 86,
        "start_time": "2021-08-28T17:49:13.820Z"
      },
      {
        "duration": 917,
        "start_time": "2021-08-28T17:49:13.908Z"
      },
      {
        "duration": 183614,
        "start_time": "2021-08-28T17:49:14.826Z"
      },
      {
        "duration": 16,
        "start_time": "2021-08-28T17:52:18.442Z"
      },
      {
        "duration": 2420,
        "start_time": "2021-08-28T17:52:18.460Z"
      },
      {
        "duration": 4083,
        "start_time": "2021-08-28T17:52:20.884Z"
      },
      {
        "duration": 2550,
        "start_time": "2021-08-28T17:52:24.968Z"
      },
      {
        "duration": 307,
        "start_time": "2021-08-28T17:52:27.520Z"
      },
      {
        "duration": 223,
        "start_time": "2021-08-28T17:52:27.829Z"
      },
      {
        "duration": 9,
        "start_time": "2021-08-28T17:52:45.057Z"
      },
      {
        "duration": 45,
        "start_time": "2021-08-28T17:52:51.285Z"
      },
      {
        "duration": 458,
        "start_time": "2021-08-28T17:52:51.332Z"
      },
      {
        "duration": -1295,
        "start_time": "2021-08-28T17:52:53.087Z"
      },
      {
        "duration": -1296,
        "start_time": "2021-08-28T17:52:53.089Z"
      },
      {
        "duration": -1296,
        "start_time": "2021-08-28T17:52:53.090Z"
      },
      {
        "duration": -1297,
        "start_time": "2021-08-28T17:52:53.092Z"
      },
      {
        "duration": -1297,
        "start_time": "2021-08-28T17:52:53.093Z"
      },
      {
        "duration": -1299,
        "start_time": "2021-08-28T17:52:53.096Z"
      },
      {
        "duration": -1300,
        "start_time": "2021-08-28T17:52:53.098Z"
      },
      {
        "duration": -1312,
        "start_time": "2021-08-28T17:52:53.111Z"
      },
      {
        "duration": -1313,
        "start_time": "2021-08-28T17:52:53.113Z"
      },
      {
        "duration": -1314,
        "start_time": "2021-08-28T17:52:53.115Z"
      },
      {
        "duration": 577,
        "start_time": "2021-08-28T17:54:06.046Z"
      },
      {
        "duration": 658,
        "start_time": "2021-08-28T17:54:50.532Z"
      },
      {
        "duration": 490,
        "start_time": "2021-08-28T17:55:46.625Z"
      },
      {
        "duration": 47,
        "start_time": "2021-08-28T17:56:05.794Z"
      },
      {
        "duration": 693,
        "start_time": "2021-08-28T17:56:05.843Z"
      },
      {
        "duration": 9,
        "start_time": "2021-08-28T17:56:06.538Z"
      },
      {
        "duration": 82,
        "start_time": "2021-08-28T17:56:06.549Z"
      },
      {
        "duration": 777,
        "start_time": "2021-08-28T17:56:06.633Z"
      },
      {
        "duration": 172063,
        "start_time": "2021-08-28T17:56:07.412Z"
      },
      {
        "duration": 21,
        "start_time": "2021-08-28T17:58:59.477Z"
      },
      {
        "duration": 1860,
        "start_time": "2021-08-28T17:58:59.501Z"
      },
      {
        "duration": 3806,
        "start_time": "2021-08-28T17:59:01.363Z"
      },
      {
        "duration": 2418,
        "start_time": "2021-08-28T17:59:05.171Z"
      },
      {
        "duration": 320,
        "start_time": "2021-08-28T17:59:07.590Z"
      },
      {
        "duration": 8,
        "start_time": "2021-08-28T17:59:07.911Z"
      },
      {
        "duration": 1489,
        "start_time": "2021-08-29T10:06:18.902Z"
      },
      {
        "duration": 1050,
        "start_time": "2021-08-29T10:06:20.393Z"
      }
    ],
    "kernelspec": {
      "display_name": "Python 3.8.2rc2 64-bit",
      "language": "python",
      "name": "python3"
    },
    "language_info": {
      "codemirror_mode": {
        "name": "ipython",
        "version": 3
      },
      "file_extension": ".py",
      "mimetype": "text/x-python",
      "name": "python",
      "nbconvert_exporter": "python",
      "pygments_lexer": "ipython3",
      "version": "3.8.2"
    },
    "toc": {
      "base_numbering": 1,
      "nav_menu": {},
      "number_sections": true,
      "sideBar": true,
      "skip_h1_title": true,
      "title_cell": "Table of Contents",
      "title_sidebar": "Contents",
      "toc_cell": false,
      "toc_position": {},
      "toc_section_display": true,
      "toc_window_display": false
    },
    "vscode": {
      "interpreter": {
        "hash": "3440fa40ac2c39878b83ee7a6e81824601a62799733fc81e385c4ef9c8700d77"
      }
    },
    "colab": {
      "provenance": [],
      "toc_visible": true,
      "include_colab_link": true
    }
  },
  "nbformat": 4,
  "nbformat_minor": 0
}